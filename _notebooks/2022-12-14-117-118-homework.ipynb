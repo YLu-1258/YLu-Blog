{
 "cells": [
  {
   "attachments": {},
   "cell_type": "markdown",
   "metadata": {},
   "source": [
    "# 3.17 - 3.18\n",
    "- title: Homework 3.17 - 3.18\n",
    "- permalink: /homework1718"
   ]
  },
  {
   "attachments": {},
   "cell_type": "markdown",
   "metadata": {},
   "source": [
    "# 3.17 Algorithmic Efficiency"
   ]
  },
  {
   "attachments": {},
   "cell_type": "markdown",
   "metadata": {},
   "source": [
    "## Vocabulary\n",
    "- Problem: A task that could be solved algorithmically or logically\n",
    "    - Decision Problem: A problem that demands a boolean yes or no answer\n",
    "    - Organization Problem: A problem that demands a \"best\" or \"optimal\" answer\n",
    "- Instance: A problem with a specific input\n",
    "- Efficiency: amount of time, space, or resources it takes to solve a problem.\n",
    "    - Polynomial Efficiency (Good): More work takes a proportional amount of time and resources to complete. \n",
    "    - Exponential Efficiency (Bad): More work takes an exponential amount of time to compelete.\n",
    "- Heuristic Approach: When optimal solutions are inefficient, look for an even more optimal solution\n",
    "- Decidable Problem: A decision solution that always gives the right answer\n",
    "- Undecidable Problem: A decision problem with no solution that is guaranteed to give the right answer\n"
   ]
  },
  {
   "attachments": {},
   "cell_type": "markdown",
   "metadata": {},
   "source": [
    "## Notes\n",
    "- In the case of searching for an element sequentially, the problem is in polynomial efficiency as the run time increases linearly"
   ]
  },
  {
   "attachments": {},
   "cell_type": "markdown",
   "metadata": {},
   "source": [
    "## Challenge\n",
    "Try and fix this ineficcient code!\n",
    "Only change the code between the two commented lines.\n",
    "Fully programmed solution will improve your grade, at a minimum show that you tried."
   ]
  },
  {
   "cell_type": "code",
   "execution_count": 11,
   "metadata": {},
   "outputs": [
    {
     "name": "stdout",
     "output_type": "stream",
     "text": [
      "0.20901918411254883 seconds\n"
     ]
    }
   ],
   "source": [
    "import time\n",
    "numlist = [1,3,5,7,9,11,13,15,17,19]\n",
    "valuelist = [0,3,6,9,12,15,18,21]\n",
    "def isvalue(value,array):\n",
    "    #--------------------\n",
    "    # We use binary Search here :)\n",
    "    lo = 0\n",
    "    hi = len(array)-1\n",
    "    while lo <= hi:\n",
    "        mid = (lo+hi)//2\n",
    "        if mid == value:\n",
    "            return True\n",
    "        elif mid > value:\n",
    "            hi = mid - 1\n",
    "        else:\n",
    "            lo = mid+1\n",
    "    return False\n",
    "    #--------------------\n",
    "\n",
    "    \n",
    "starttime = time.time()\n",
    "for i in range(100000):\n",
    "    for i in range(len(valuelist)):\n",
    "        x = isvalue(valuelist[i],numlist)\n",
    "endtime = time.time()\n",
    "print(endtime-starttime,'seconds') "
   ]
  },
  {
   "attachments": {},
   "cell_type": "markdown",
   "metadata": {},
   "source": [
    "# 3.18 Undecidable Problems"
   ]
  },
  {
   "attachments": {},
   "cell_type": "markdown",
   "metadata": {},
   "source": [
    "## Notes\n",
    "- Undecidable problems can have either multiple answers, no answers or something like the sort. In contrast, decidable problems always has an answer.\n",
    "- Some prolems cannot be solved by a computer. \n",
    "- Contradictory statements often results in undecidable problems"
   ]
  },
  {
   "attachments": {},
   "cell_type": "markdown",
   "metadata": {},
   "source": [
    "# Homework!\n",
    "\n",
    "Make an algorithm that finds the fastest route that hits every location once starting and ending at Del Norte. Make sure to show your thinking. If you are strugling, try using a huristic approach. Remember, what matters more than having perfectly functioning code is that you tried your hardest."
   ]
  },
  {
   "cell_type": "code",
   "execution_count": 10,
   "metadata": {},
   "outputs": [],
   "source": [
    "# RUN THIS CODE --- DO NOT EDIT\n",
    "dataset = {\n",
    "    'DelNorte':{\n",
    "        'Westview':15,\n",
    "        'MtCarmel':20,\n",
    "        'Poway':35,\n",
    "        'RanchoBernardo':50\n",
    "    },\n",
    "    'Westview':{\n",
    "        'DelNorte':15,\n",
    "        'MtCarmel':35,\n",
    "        'Poway':25,\n",
    "        'RanchoBernardo': 45\n",
    "    },\n",
    "    'MtCarmel':{\n",
    "        'Westview':35,\n",
    "        'DelNorte':20,\n",
    "        'Poway':40,\n",
    "        'RanchoBernardo':30\n",
    "    },\n",
    "    'Poway':{\n",
    "        'Westview':25,\n",
    "        'MtCarmel':40,\n",
    "        'DelNorte':35,\n",
    "        'RanchoBernardo':15\n",
    "    },\n",
    "    'RanchoBernardo':{\n",
    "        'Westview':45,\n",
    "        'MtCarmel':30,\n",
    "        'Poway':15,\n",
    "        'DelNorte':50\n",
    "    }\n",
    "}\n",
    "\n",
    "dataset_graph = [\n",
    "    [0,15,20,35,50],\n",
    "    [15,0,35,25,45],\n",
    "    [20,35,0,40,30],\n",
    "    [35,25,40,0,15],\n",
    "    [50,45,30,15,0]\n",
    "]"
   ]
  },
  {
   "attachments": {},
   "cell_type": "markdown",
   "metadata": {},
   "source": [
    "## Heuristic Approach\n",
    "This solution takes the most optimal step at each point. Although the overall algorithm is a greedy approach, it is not the most optimal as additional distance could be reduced if certain positions were revisted to travel a short cut to other positions"
   ]
  },
  {
   "cell_type": "code",
   "execution_count": 27,
   "metadata": {},
   "outputs": [
    {
     "name": "stdout",
     "output_type": "stream",
     "text": [
      "(105, ['DelNorte', 'Westview', 'Poway', 'RanchoBernardo', 'MtCarmel', 'DelNorte'])\n"
     ]
    }
   ],
   "source": [
    "def fastestroute(start,data):\n",
    "    drivetime = 0\n",
    "    order = [start]\n",
    "    curr = start\n",
    "    while len(order) < 5:\n",
    "        min_dist = 60\n",
    "        for key in data[curr]:\n",
    "            if data[curr][key] < min_dist and key not in order:\n",
    "                next = key\n",
    "                min_dist = data[curr][key]\n",
    "        order.append(next)\n",
    "        curr = next\n",
    "        drivetime+=min_dist\n",
    "    drivetime+=data[curr][start]\n",
    "    order.append(start)\n",
    "\n",
    "    #CODE,CODE,CODE\n",
    "    return(drivetime,order)\n",
    "\n",
    "start = 'DelNorte'\n",
    "print(fastestroute(start, dataset))\n",
    "# 'dataset' is the name of the nested key value pair"
   ]
  },
  {
   "attachments": {},
   "cell_type": "markdown",
   "metadata": {},
   "source": [
    "## Optimal Approach\n",
    "From one look at the problem, we can deduce that it is likely testing graph theory. The data in the data set dictionary could be converted into an undirected weighted graph, where each position is linked to the other with a weighted path, where the weight is the assigned distance. We can then attempt to find the MST (Mean Spanning Tree) of the graph through a BFS approach"
   ]
  },
  {
   "cell_type": "code",
   "execution_count": 24,
   "metadata": {},
   "outputs": [
    {
     "name": "stdout",
     "output_type": "stream",
     "text": [
      "Location\tEdges\n",
      "0\t\t0 15 20 35 50\n",
      "1\t\t15 0 35 25 45\n",
      "2\t\t20 35 0 40 30\n",
      "3\t\t35 25 40 0 15\n",
      "4\t\t50 45 30 15 0\n"
     ]
    },
    {
     "ename": "IndexError",
     "evalue": "list index out of range",
     "output_type": "error",
     "traceback": [
      "\u001b[0;31m---------------------------------------------------------------------------\u001b[0m",
      "\u001b[0;31mIndexError\u001b[0m                                Traceback (most recent call last)",
      "Cell \u001b[0;32mIn [24], line 50\u001b[0m\n\u001b[1;32m     47\u001b[0m locations\u001b[39m.\u001b[39mgraph \u001b[39m=\u001b[39m dataset_graph\n\u001b[1;32m     49\u001b[0m locations\u001b[39m.\u001b[39mprintGraph()\n\u001b[0;32m---> 50\u001b[0m \u001b[39mprint\u001b[39m(shortestPathLength(locations\u001b[39m.\u001b[39;49mgraph))\n",
      "Cell \u001b[0;32mIn [24], line 34\u001b[0m, in \u001b[0;36mshortestPathLength\u001b[0;34m(graph)\u001b[0m\n\u001b[1;32m     32\u001b[0m \u001b[39mfor\u001b[39;00m i \u001b[39min\u001b[39;00m \u001b[39mrange\u001b[39m(\u001b[39mlen\u001b[39m(queue)):\n\u001b[1;32m     33\u001b[0m     node, mask \u001b[39m=\u001b[39m queue[i]\n\u001b[0;32m---> 34\u001b[0m     \u001b[39mfor\u001b[39;00m neighbor \u001b[39min\u001b[39;00m graph[node]:\n\u001b[1;32m     35\u001b[0m         next_mask \u001b[39m=\u001b[39m mask \u001b[39m|\u001b[39m (\u001b[39m1\u001b[39m \u001b[39m<<\u001b[39m neighbor)\n\u001b[1;32m     36\u001b[0m         \u001b[39mif\u001b[39;00m next_mask \u001b[39m==\u001b[39m ending_mask:\n",
      "\u001b[0;31mIndexError\u001b[0m: list index out of range"
     ]
    }
   ],
   "source": [
    "from collections import defaultdict\n",
    "import sys\n",
    "\n",
    "class undirectedWeightedGraph():\n",
    "    def __init__(self, vertices):\n",
    "        self.V = vertices\n",
    "        self.graph = [[None for i in range(self.V)] for i in range(self.V)]\n",
    "        \n",
    "    \n",
    "    def addVertice(self, s , d, weight):\n",
    "        self.graph[s].append((d,weight))\n",
    "    \n",
    "    def printGraph(self):\n",
    "        print(\"Location\\tEdges\")\n",
    "        for i in range(self.V):\n",
    "            temp = [str(k) for k in self.graph[i]]\n",
    "            print(str(i) + \"\\t\\t\" + \" \".join(temp))\n",
    "    \n",
    "\n",
    "def shortestPathLength(graph):\n",
    "        if len(graph) == 1:\n",
    "            return 0\n",
    "        \n",
    "        n = len(graph)\n",
    "        ending_mask = (1 << n) - 1\n",
    "        queue = [(node, 1 << node) for node in range(n)]\n",
    "        seen = set(queue)\n",
    "\n",
    "        steps = 0\n",
    "        while queue:\n",
    "            next_queue = []\n",
    "            for i in range(len(queue)):\n",
    "                node, mask = queue[i]\n",
    "                for neighbor in graph[node]:\n",
    "                    next_mask = mask | (1 << neighbor)\n",
    "                    if next_mask == ending_mask:\n",
    "                        return 1 + steps\n",
    "                    \n",
    "                    if (neighbor, next_mask) not in seen:\n",
    "                        seen.add((neighbor, next_mask))\n",
    "                        next_queue.append((neighbor, next_mask))\n",
    "            \n",
    "            steps += 1\n",
    "            queue = next_queue\n",
    "\n",
    "locations = undirectedWeightedGraph(5)\n",
    "locations.graph = dataset_graph\n",
    "\n",
    "locations.printGraph()\n",
    "print(shortestPathLength(locations.graph))"
   ]
  },
  {
   "attachments": {},
   "cell_type": "markdown",
   "metadata": {},
   "source": [
    "Now that we have created a graph for our schools, we can move on to using djikstra's algorithm to find the most optimal path"
   ]
  },
  {
   "cell_type": "code",
   "execution_count": null,
   "metadata": {},
   "outputs": [],
   "source": []
  },
  {
   "attachments": {},
   "cell_type": "markdown",
   "metadata": {},
   "source": [
    "### Grading:\n",
    "|Challenge|Homework|\n",
    "|---|---|\n",
    "|.15 pts for attempt|.65 for attempt|\n",
    "|.20 pts for complete|.70 for complete|\n",
    "|.25 pts for above and beyond|.75 pts for above and beyond|\n"
   ]
  }
 ],
 "metadata": {
  "kernelspec": {
   "display_name": "Python 3",
   "language": "python",
   "name": "python3"
  },
  "language_info": {
   "codemirror_mode": {
    "name": "ipython",
    "version": 3
   },
   "file_extension": ".py",
   "mimetype": "text/x-python",
   "name": "python",
   "nbconvert_exporter": "python",
   "pygments_lexer": "ipython3",
   "version": "3.10.6 (main, Nov  2 2022, 18:53:38) [GCC 11.3.0]"
  },
  "orig_nbformat": 4,
  "vscode": {
   "interpreter": {
    "hash": "916dbcbb3f70747c44a77c7bcd40155683ae19c65e1c03b4aa3499c5328201f1"
   }
  }
 },
 "nbformat": 4,
 "nbformat_minor": 2
}
