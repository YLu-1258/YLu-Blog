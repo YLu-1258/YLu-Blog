{
 "cells": [
  {
   "cell_type": "markdown",
   "metadata": {},
   "source": [
    "# Jupyter Notebook Demonstration\n",
    "> My first Jupyter notebook on my blog!\n",
    "- toc: true\n",
    "- title: First Jupyter Notebook\n",
    "- author: Alex Lu\n",
    "- badges: true\n",
    "- comments: true\n",
    "- categories: [jupyter]"
   ]
  },
  {
   "cell_type": "markdown",
   "metadata": {},
   "source": [
    "## Let's Print Something!\n",
    "Allow me to demonstrate the `print()` function in python!"
   ]
  },
  {
   "cell_type": "code",
   "execution_count": 1,
   "metadata": {},
   "outputs": [
    {
     "name": "stdout",
     "output_type": "stream",
     "text": [
      "Hello World!\n"
     ]
    }
   ],
   "source": [
    "var = \"World!\"\n",
    "print(\"Hello \" + var)"
   ]
  },
  {
   "cell_type": "markdown",
   "metadata": {},
   "source": [
    "### Let's Print some more!\n",
    "Loops are really fun sometimes, let's say it a couple more times 🔁"
   ]
  },
  {
   "cell_type": "code",
   "execution_count": 2,
   "metadata": {},
   "outputs": [
    {
     "name": "stdout",
     "output_type": "stream",
     "text": [
      "Hello World!\n",
      "Hello World!\n",
      "Hello World!\n",
      "Hello World!\n",
      "Hello World!\n"
     ]
    }
   ],
   "source": [
    "for i in range(5):\n",
    "    print(\"Hello \" + var)"
   ]
  },
  {
   "cell_type": "markdown",
   "metadata": {},
   "source": [
    "## Have a Bogosort algorithm!\n",
    "The real question is what time complexity this algorithm has 🤔"
   ]
  },
  {
   "cell_type": "code",
   "execution_count": 3,
   "metadata": {},
   "outputs": [
    {
     "name": "stdout",
     "output_type": "stream",
     "text": [
      "[9, 10, 23, 49]\n"
     ]
    }
   ],
   "source": [
    "from random import shuffle as sh\n",
    "\n",
    "def sorted(arr):\n",
    "    length = len(arr)\n",
    "    for i in range(0, length-1):\n",
    "        if (arr[i] > arr[i+1] ):\n",
    "            return False\n",
    "    return True\n",
    "\n",
    "def shuffle(arr):\n",
    "    sh(arr)\n",
    "\n",
    "\n",
    "def Bogosort(arr):\n",
    "    while not sorted(arr):\n",
    "        shuffle(arr)\n",
    "    return arr\n",
    "\n",
    "array = [23,10,49,9]\n",
    "print(Bogosort(array))"
   ]
  }
 ],
 "metadata": {
  "kernelspec": {
   "display_name": "Python 3.8.10 64-bit",
   "language": "python",
   "name": "python3"
  },
  "language_info": {
   "codemirror_mode": {
    "name": "ipython",
    "version": 3
   },
   "file_extension": ".py",
   "mimetype": "text/x-python",
   "name": "python",
   "nbconvert_exporter": "python",
   "pygments_lexer": "ipython3",
   "version": "3.8.10"
  },
  "orig_nbformat": 4,
  "vscode": {
   "interpreter": {
    "hash": "916dbcbb3f70747c44a77c7bcd40155683ae19c65e1c03b4aa3499c5328201f1"
   }
  }
 },
 "nbformat": 4,
 "nbformat_minor": 2
}
