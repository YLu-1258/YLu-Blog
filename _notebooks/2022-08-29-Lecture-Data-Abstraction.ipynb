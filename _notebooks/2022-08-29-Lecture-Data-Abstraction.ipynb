{
 "cells": [
  {
   "cell_type": "markdown",
   "metadata": {},
   "source": [
    "# Data Abstraction in Python\n",
    "> Starters for Data Abstraction\n",
    "\n",
    "- toc: true\n",
    "- description: 2022-08-29 Lecture- Data Abstraction in Python\n",
    "- title: Data Abstraction in Python\n",
    "- comments: true\n",
    "- show_tags: true\n",
    "- categories: [jupyter, APCSP]\n",
    "- author: Alex Lu"
   ]
  },
  {
   "cell_type": "markdown",
   "metadata": {},
   "source": [
    "## Lecture - 08/29/2022"
   ]
  },
  {
   "cell_type": "markdown",
   "metadata": {},
   "source": [
    "### Data Abstraction\n",
    "To properly manage our data while coding, we might require different types of data structures to successfully attain the goal of our program. Properly storing our data makes it easier for us to share information with fellow devs, across the internet, and also working in other technlogical fields.\n",
    "\n",
    "The following are some comm ways to stored structured data in programing"
   ]
  },
  {
   "cell_type": "markdown",
   "metadata": {},
   "source": [
    "#### Variables ####\n",
    "Variables are contianers of data. They are the most primative and basic structure of data containing only a reference and a value, the value of the variable can be dynamic, and the value can be referenced to by the name of the variable. There are many primative data types in the python programing language, but a unique characteristic of python is that variables are given a data type at assignment.\n",
    "\n",
    "1. Some primative data types are integers, floats, strings (array of chars), chars, etc.\n",
    "\n"
   ]
  },
  {
   "cell_type": "code",
   "execution_count": 1,
   "metadata": {},
   "outputs": [
    {
     "name": "stdout",
     "output_type": "stream",
     "text": [
      "Hello World\n"
     ]
    }
   ],
   "source": [
    "msg = \"Hello World\"\n",
    "print(msg)"
   ]
  },
  {
   "cell_type": "markdown",
   "metadata": {},
   "source": [
    "### Python Lists ###\n",
    "Lists are sequential containers of data that could store multiple values per key. Lists in python are denoted by brackets. We can check that our list is of the list data type with the `type()` function\n",
    "\n",
    "Always be precise and detailed when noting down variable names.\n",
    "\n",
    "Each list has a length attribute that denotes how big or long the list is. in python, this is achieved via the `len()` function"
   ]
  },
  {
   "cell_type": "code",
   "execution_count": 23,
   "metadata": {},
   "outputs": [
    {
     "name": "stdout",
     "output_type": "stream",
     "text": [
      "['cpp', 'python', 'html', 'css', 'java', 'javascript']\n",
      "<class 'list'>\n",
      "6\n",
      "html\n"
     ]
    }
   ],
   "source": [
    "langs = [\"cpp\", \"python\", \"html\", \"css\", \"java\", \"javascript\"]\n",
    "print(langs)\n",
    "# Getting the data type\n",
    "print(type(langs))\n",
    "# Printing the length\n",
    "print(len(langs))\n",
    "# Printing the 3rd element\n",
    "print(langs[2])"
   ]
  },
  {
   "cell_type": "markdown",
   "metadata": {},
   "source": [
    "### Dictionaries ###\n",
    "Dictionaries are sequential containers of data that are similar to lists but contain pairs of keys and values. Dictionaries in python are denoted by curly braces.\n",
    "\n",
    "We can access the keys of the dictionary with the `.keys()` method, and we can access the values of the dictionary with the `.values()` method. Additionally, we can also use the `.get()` method to get a value from a key.\n",
    "\n",
    "Dictionaries are very similar to a JSON in how it stores its data."
   ]
  },
  {
   "cell_type": "code",
   "execution_count": 26,
   "metadata": {},
   "outputs": [
    {
     "name": "stdout",
     "output_type": "stream",
     "text": [
      "info:  {'name': 'Alex Lu', 'age': 15, 'score': 3, 'langs': 'cpp'} type: <class 'dict'> Length: 4\n",
      "name\n",
      "age\n",
      "score\n",
      "langs\n",
      "---------\n",
      "Alex Lu\n",
      "15\n",
      "3\n",
      "cpp\n",
      "--------- Now using .get()\n",
      "name: Alex Lu\n",
      "age: 15\n",
      "score: 3\n",
      "langs: cpp\n"
     ]
    }
   ],
   "source": [
    "info = {\n",
    "    \"name\": \"Alex Lu\",\n",
    "    \"age\": 15,\n",
    "    \"score\": 3,\n",
    "    \"langs\": \"cpp\"\n",
    "}\n",
    "print(\"info: \",  info, \"type: \" + str(type(info)), \"Length: \" + str(len(info)))\n",
    "for key in info.keys():\n",
    "    print(key)\n",
    "print(\"---------\")\n",
    "for val in info.values():\n",
    "    print(val)\n",
    "print(\"--------- Now using .get()\")\n",
    "for key in info.keys():\n",
    "    print(key + \":\", info.get(key))\n",
    "    "
   ]
  },
  {
   "cell_type": "markdown",
   "metadata": {},
   "source": [
    "#### More Data Abstraction in Python"
   ]
  },
  {
   "cell_type": "markdown",
   "metadata": {},
   "source": [
    "To add to a list, we can use the `.append()` method to add in more inputs to the list. I have modified the InfoDb List from class and added my own entries and values into the dictionary."
   ]
  },
  {
   "cell_type": "code",
   "execution_count": 33,
   "metadata": {},
   "outputs": [
    {
     "name": "stdout",
     "output_type": "stream",
     "text": [
      "[{'FirstName': 'John', 'LastName': 'Mortensen', 'DOB': 'October 21', 'Residence': 'San Diego', 'Email': 'jmortensen@powayusd.com', 'Fav_Color': 'Unknown', 'Hobbies': ['Teaching', 'Programming'], 'Sleep_Schedule': 'Unknown', 'is_Teacher': True}, {'FirstName': 'Alex', 'LastName': 'Lu', 'DOB': 'November 29, 2006', 'Residence': 'San Diego', 'Email': 'maodou1258@gmail.com', 'Fav_Color': 'White', 'Hobbies': ['Programming', 'Tennis', 'Reading', 'Sleeping', 'VALORANT'], 'Sleep_Schedule': 6, 'is_Teacher': False}, {'FirstName': 'Evan', 'LastName': 'Aparri', 'DOB': 'November 10, 2005', 'Residence': 'San Diego', 'Email': 'evanaparri@gmail.com', 'Fav_Color': 'Blue', 'Hobbies': ['Running', 'Reading', 'Eating Asian Food/ Food Connoisseur', 'Sleeping', 'Homework'], 'Sleep_Schedule': 6, 'is_Teacher': False}]\n"
     ]
    }
   ],
   "source": [
    "# Define an empty List called InfoDb\n",
    "InfoDb = []\n",
    "\n",
    "# InfoDB is a data structure with expected Keys and Values\n",
    "\n",
    "# Append to List a Dictionary of key/values related to a person and cars\n",
    "InfoDb.append({\n",
    "    \"FirstName\": \"John\",\n",
    "    \"LastName\": \"Mortensen\",\n",
    "    \"DOB\": \"October 21\",\n",
    "    \"Residence\": \"San Diego\",\n",
    "    \"Email\": \"jmortensen@powayusd.com\",\n",
    "    \"Fav_Color\": \"Unknown\",\n",
    "    \"Hobbies\": [\"Teaching\", \"Programming\"],\n",
    "    \"Sleep_Schedule\" : \"Unknown\",\n",
    "    \"is_Teacher\": True\n",
    "})\n",
    "\n",
    "InfoDb.append({\n",
    "    \"FirstName\": \"Alex\",\n",
    "    \"LastName\": \"Lu\",\n",
    "    \"DOB\": \"November 29, 2006\",\n",
    "    \"Residence\": \"San Diego\",\n",
    "    \"Email\": \"maodou1258@gmail.com\",\n",
    "    \"Fav_Color\": \"White\",\n",
    "    \"Hobbies\": [\"Programming\", \"Tennis\", \"Reading\", \"Sleeping\", \"VALORANT\"],\n",
    "    \"Sleep_Schedule\" : 6,\n",
    "    \"is_Teacher\": False\n",
    "})\n",
    "\n",
    "InfoDb.append({\n",
    "    \"FirstName\": \"Evan\",\n",
    "    \"LastName\": \"Aparri\",\n",
    "    \"DOB\": \"November 10, 2005\",\n",
    "    \"Residence\": \"San Diego\",\n",
    "    \"Email\": \"evanaparri@gmail.com\",\n",
    "    \"Fav_Color\": \"Blue\",\n",
    "    \"Hobbies\": [\"Running\", \"Reading\", \"Eating Asian Food/ Food Connoisseur\", \"Sleeping\", \"Homework\"],\n",
    "    \"Sleep_Schedule\" : 6,\n",
    "    \"is_Teacher\": False\n",
    "})\n",
    "\n",
    "# Print the data structure\n",
    "print(InfoDb)"
   ]
  },
  {
   "cell_type": "markdown",
   "metadata": {},
   "source": [
    "Formatting and printing the data in the list"
   ]
  },
  {
   "cell_type": "code",
   "execution_count": 34,
   "metadata": {},
   "outputs": [
    {
     "name": "stdout",
     "output_type": "stream",
     "text": [
      "For loop output\n",
      "\n",
      "John Mortensen\n",
      "\t Residence: San Diego\n",
      "\t Birth Day: October 21\n",
      "\t Email: jmortensen@powayusd.com\n",
      "\t Favorite Color: Unknown\n",
      "\t Is Teacher?: True\n",
      "\t Hours of Sleep: Unknown\n",
      "\t Cars: Teaching, Programming\n",
      "\n",
      "Alex Lu\n",
      "\t Residence: San Diego\n",
      "\t Birth Day: November 29, 2006\n",
      "\t Email: maodou1258@gmail.com\n",
      "\t Favorite Color: White\n",
      "\t Is Teacher?: False\n",
      "\t Hours of Sleep: 6\n",
      "\t Cars: Programming, Tennis, Reading, Sleeping, VALORANT\n",
      "\n",
      "Evan Aparri\n",
      "\t Residence: San Diego\n",
      "\t Birth Day: November 10, 2005\n",
      "\t Email: evanaparri@gmail.com\n",
      "\t Favorite Color: Blue\n",
      "\t Is Teacher?: False\n",
      "\t Hours of Sleep: 6\n",
      "\t Cars: Running, Reading, Eating Asian Food/ Food Connoisseur, Sleeping, Homework\n",
      "\n"
     ]
    }
   ],
   "source": [
    "# print function: given a dictionary of InfoDb content\n",
    "def print_data(d_rec):\n",
    "    print(d_rec[\"FirstName\"], d_rec[\"LastName\"])  # using comma puts space between values\n",
    "    print(\"\\t\", \"Residence:\", d_rec[\"Residence\"]) # \\t is a tab indent\n",
    "    print(\"\\t\", \"Birth Day:\", d_rec[\"DOB\"])\n",
    "    print(\"\\t\", \"Email:\", d_rec[\"Email\"])\n",
    "    print(\"\\t\", \"Favorite Color:\", d_rec[\"Fav_Color\"])\n",
    "    print(\"\\t\", \"Is Teacher?:\", d_rec[\"is_Teacher\"])\n",
    "    print(\"\\t\", \"Hours of Sleep:\", d_rec[\"Sleep_Schedule\"])\n",
    "    print(\"\\t\", \"Cars: \", end=\"\")  # end=\"\" make sure no return occurs\n",
    "    print(\", \".join(d_rec[\"Hobbies\"]))  # join allows printing a string list with separator\n",
    "    print()\n",
    "\n",
    "\n",
    "# for loop algorithm iterates on length of InfoDb\n",
    "def for_loop():\n",
    "    print(\"For loop output\\n\")\n",
    "    for record in InfoDb:\n",
    "        print_data(record)\n",
    "\n",
    "for_loop()"
   ]
  },
  {
   "cell_type": "markdown",
   "metadata": {},
   "source": [
    "Now we print the reversed form of InfoDb"
   ]
  },
  {
   "cell_type": "code",
   "execution_count": 38,
   "metadata": {},
   "outputs": [
    {
     "name": "stdout",
     "output_type": "stream",
     "text": [
      "Evan Aparri\n",
      "\t Residence: San Diego\n",
      "\t Birth Day: November 10, 2005\n",
      "\t Email: evanaparri@gmail.com\n",
      "\t Favorite Color: Blue\n",
      "\t Is Teacher?: False\n",
      "\t Hours of Sleep: 6\n",
      "\t Cars: Running, Reading, Eating Asian Food/ Food Connoisseur, Sleeping, Homework\n",
      "\n",
      "Alex Lu\n",
      "\t Residence: San Diego\n",
      "\t Birth Day: November 29, 2006\n",
      "\t Email: maodou1258@gmail.com\n",
      "\t Favorite Color: White\n",
      "\t Is Teacher?: False\n",
      "\t Hours of Sleep: 6\n",
      "\t Cars: Programming, Tennis, Reading, Sleeping, VALORANT\n",
      "\n",
      "John Mortensen\n",
      "\t Residence: San Diego\n",
      "\t Birth Day: October 21\n",
      "\t Email: jmortensen@powayusd.com\n",
      "\t Favorite Color: Unknown\n",
      "\t Is Teacher?: True\n",
      "\t Hours of Sleep: Unknown\n",
      "\t Cars: Teaching, Programming\n",
      "\n"
     ]
    }
   ],
   "source": [
    "# Chesse method using indexing\n",
    "def for_loop_reversed_1(arr):\n",
    "    print(\"Cheesed Reverse For loop output:\")\n",
    "    for i in arr[::-1]:\n",
    "        print_data(i)\n",
    "\n",
    "def for_loop_reversed_2(arr):\n",
    "    for i in reversed(range(0,len(arr))):\n",
    "        print_data(arr[i])\n",
    "\n",
    "# for_loop_reversed_1(InfoDb) does the same thing\n",
    "for_loop_reversed_2(InfoDb)"
   ]
  },
  {
   "cell_type": "markdown",
   "metadata": {},
   "source": [
    "## Other cool things to do with lists"
   ]
  },
  {
   "cell_type": "code",
   "execution_count": 30,
   "metadata": {},
   "outputs": [
    {
     "name": "stdout",
     "output_type": "stream",
     "text": [
      "List of squares of 2:  [2, 4, 8, 16, 32, 64, 128, 256, 512, 1024]\n",
      "------------------------------\n",
      "Original List:  [1, 2, 3, 4, 5]\n",
      "Reversed List:  [5, 4, 3, 2, 1]\n",
      "------------------------------\n",
      "Sorted ascending:  [19, 43, 67, 78, 84, 175]\n",
      "Sorted descending:  [175, 84, 78, 67, 43, 19]\n",
      "[19, 43, 67, 78, 84, 175]\n"
     ]
    }
   ],
   "source": [
    "# List comprehension, create a list on the spot\n",
    "my_arr1 = [2<<i for i in range(0,10)]\n",
    "print(\"List of squares of 2: \", my_arr1)\n",
    "print(\"------------------------------\")\n",
    "\n",
    "# Reversing a list\n",
    "my_arr2 = [1,2,3,4,5]\n",
    "print(\"Original List: \", my_arr2)\n",
    "print(\"Reversed List: \", my_arr2[::-1])\n",
    "print(\"------------------------------\")\n",
    "\n",
    "# Sorting a list\n",
    "my_arr3 = [67,84,19,43,175,78]\n",
    "print(\"Sorted ascending: \", sorted(my_arr3))\n",
    "print(\"Sorted descending: \", sorted(my_arr3, reverse=True))\n",
    "\n",
    "# EXTRA: Qsort using list comprehension\n",
    "def Qsort(arr):\n",
    "    if arr == []:\n",
    "        return []\n",
    "    pivot = arr[0]\n",
    "    l = Qsort([i for i in arr[1:] if i < pivot])\n",
    "    r = Qsort([i for i in arr[1:] if i >= pivot])\n",
    "    return l + [pivot] + r\n",
    "\n",
    "print(Qsort(my_arr3))\n",
    "\n",
    "\n"
   ]
  }
 ],
 "metadata": {
  "kernelspec": {
   "display_name": "Python 3.8.10 64-bit",
   "language": "python",
   "name": "python3"
  },
  "language_info": {
   "codemirror_mode": {
    "name": "ipython",
    "version": 3
   },
   "file_extension": ".py",
   "mimetype": "text/x-python",
   "name": "python",
   "nbconvert_exporter": "python",
   "pygments_lexer": "ipython3",
   "version": "3.8.10"
  },
  "orig_nbformat": 4,
  "vscode": {
   "interpreter": {
    "hash": "916dbcbb3f70747c44a77c7bcd40155683ae19c65e1c03b4aa3499c5328201f1"
   }
  }
 },
 "nbformat": 4,
 "nbformat_minor": 2
}
