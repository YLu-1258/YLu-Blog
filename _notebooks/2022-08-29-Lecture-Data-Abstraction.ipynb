{
 "cells": [
  {
   "cell_type": "markdown",
   "metadata": {},
   "source": [
    "# APCSP Lecture 3\n",
    "> Starters for Data Abstraction\n",
    "\n",
    "- toc: true\n",
    "- title: 08/29/2022 Lecture\n",
    "- comments: true\n",
    "- show_tags: true\n",
    "- categories: [jupyter, APCSP]\n",
    "- author: Alex Lu"
   ]
  },
  {
   "cell_type": "markdown",
   "metadata": {},
   "source": [
    "## Lecture - 08/29/2022"
   ]
  },
  {
   "cell_type": "markdown",
   "metadata": {},
   "source": [
    "### Data Abstraction\n",
    "To properly manage our data while coding, we might require different types of data structures to successfully attain the goal of our program. Properly storing our data makes it easier for us to share information with fellow devs, across the internet, and also working in other technlogical fields.\n",
    "\n",
    "The following are some comm ways to stored structured data in programing"
   ]
  },
  {
   "cell_type": "markdown",
   "metadata": {},
   "source": [
    "#### Variables ####\n",
    "Variables are contianers of data. They are the most primative and basic structure of data containing only a reference and a value, the value of the variable can be dynamic, and the value can be referenced to by the name of the variable. There are many primative data types in the python programing language, but a unique characteristic of python is that variables are given a data type at assignment.\n",
    "\n",
    "1. Some primative data types are integers, floats, strings (array of chars), chars, etc.\n",
    "\n"
   ]
  },
  {
   "cell_type": "code",
   "execution_count": 1,
   "metadata": {},
   "outputs": [
    {
     "name": "stdout",
     "output_type": "stream",
     "text": [
      "Hello World\n"
     ]
    }
   ],
   "source": [
    "msg = \"Hello World\"\n",
    "print(msg)"
   ]
  },
  {
   "cell_type": "markdown",
   "metadata": {},
   "source": [
    "### Python Lists ###\n",
    "Lists are sequential containers of data that could store multiple values per key. Lists in python are denoted by brackets. We can check that our list is of the list data type with the `type()` function\n",
    "\n",
    "Always be precise and detailed when noting down variable names.\n",
    "\n",
    "Each list has a length attribute that denotes how big or long the list is. in python, this is achieved via the `len()` function"
   ]
  },
  {
   "cell_type": "code",
   "execution_count": 23,
   "metadata": {},
   "outputs": [
    {
     "name": "stdout",
     "output_type": "stream",
     "text": [
      "['cpp', 'python', 'html', 'css', 'java', 'javascript']\n",
      "<class 'list'>\n",
      "6\n",
      "html\n"
     ]
    }
   ],
   "source": [
    "langs = [\"cpp\", \"python\", \"html\", \"css\", \"java\", \"javascript\"]\n",
    "print(langs)\n",
    "# Getting the data type\n",
    "print(type(langs))\n",
    "# Printing the length\n",
    "print(len(langs))\n",
    "# Printing the 3rd element\n",
    "print(langs[2])"
   ]
  },
  {
   "cell_type": "markdown",
   "metadata": {},
   "source": [
    "### Dictionaries ###\n",
    "Dictionaries are sequential containers of data that are similar to lists but contain pairs of keys and values. Dictionaries in python are denoted by curly braces.\n",
    "\n",
    "We can access the keys of the dictionary with the `.keys()` method, and we can access the values of the dictionary with the `.values()` method. Additionally, we can also use the `.get()` method to get a value from a key.\n",
    "\n",
    "Dictionaries are very similar to a JSON in how it stores its data."
   ]
  },
  {
   "cell_type": "code",
   "execution_count": 26,
   "metadata": {},
   "outputs": [
    {
     "name": "stdout",
     "output_type": "stream",
     "text": [
      "info:  {'name': 'Alex Lu', 'age': 15, 'score': 3, 'langs': 'cpp'} type: <class 'dict'> Length: 4\n",
      "name\n",
      "age\n",
      "score\n",
      "langs\n",
      "---------\n",
      "Alex Lu\n",
      "15\n",
      "3\n",
      "cpp\n",
      "--------- Now using .get()\n",
      "name: Alex Lu\n",
      "age: 15\n",
      "score: 3\n",
      "langs: cpp\n"
     ]
    }
   ],
   "source": [
    "info = {\n",
    "    \"name\": \"Alex Lu\",\n",
    "    \"age\": 15,\n",
    "    \"score\": 3,\n",
    "    \"langs\": \"cpp\"\n",
    "}\n",
    "print(\"info: \",  info, \"type: \" + str(type(info)), \"Length: \" + str(len(info)))\n",
    "for key in info.keys():\n",
    "    print(key)\n",
    "print(\"---------\")\n",
    "for val in info.values():\n",
    "    print(val)\n",
    "print(\"--------- Now using .get()\")\n",
    "for key in info.keys():\n",
    "    print(key + \":\", info.get(key))\n",
    "    "
   ]
  },
  {
   "cell_type": "markdown",
   "metadata": {},
   "source": [
    "#### More Data Abstraction in Python"
   ]
  },
  {
   "cell_type": "markdown",
   "metadata": {},
   "source": [
    "To add to a list, we can use the `.append()` method to add in more inputs to the list."
   ]
  },
  {
   "cell_type": "code",
   "execution_count": 38,
   "metadata": {},
   "outputs": [
    {
     "name": "stdout",
     "output_type": "stream",
     "text": [
      "[{'FirstName': 'John', 'LastName': 'Mortensen', 'DOB': 'October 21', 'Residence': 'San Diego', 'Email': 'jmortensen@powayusd.com', 'Fav_Color': 'Blue', 'Owns_Cars': ['2015-Fusion', '2011-Ranger', '2003-Excursion', '1997-F350', '1969-Cadillac']}, {'FirstName': 'Sunny', 'LastName': 'Naidu', 'DOB': 'August 2', 'Residence': 'Temecula', 'Email': 'snaidu@powayusd.com', 'Fav_Color': 'Green', 'Owns_Cars': ['4Runner']}, {'FirstName': 'Alex', 'LastName': 'Lu', 'DOB': 'November 29', 'Residence': 'San Diego', 'Email': 'maodou1258@gmail.com', 'Fav_Color': 'White', 'Owns_Cars': []}]\n"
     ]
    }
   ],
   "source": [
    "# Define an empty List called InfoDb\n",
    "InfoDb = []\n",
    "\n",
    "# InfoDB is a data structure with expected Keys and Values\n",
    "\n",
    "# Append to List a Dictionary of key/values related to a person and cars\n",
    "InfoDb.append({\n",
    "    \"FirstName\": \"John\",\n",
    "    \"LastName\": \"Mortensen\",\n",
    "    \"DOB\": \"October 21\",\n",
    "    \"Residence\": \"San Diego\",\n",
    "    \"Email\": \"jmortensen@powayusd.com\",\n",
    "    \"Fav_Color\": \"Blue\",\n",
    "    \"Owns_Cars\": [\"2015-Fusion\", \"2011-Ranger\", \"2003-Excursion\", \"1997-F350\", \"1969-Cadillac\"]\n",
    "})\n",
    "\n",
    "# Append to List a 2nd Dictionary of key/values\n",
    "InfoDb.append({\n",
    "    \"FirstName\": \"Sunny\",\n",
    "    \"LastName\": \"Naidu\",\n",
    "    \"DOB\": \"August 2\",\n",
    "    \"Residence\": \"Temecula\",\n",
    "    \"Email\": \"snaidu@powayusd.com\",\n",
    "    \"Fav_Color\": \"Green\",\n",
    "    \"Owns_Cars\": [\"4Runner\"]\n",
    "})\n",
    "\n",
    "InfoDb.append({\n",
    "    \"FirstName\": \"Alex\",\n",
    "    \"LastName\": \"Lu\",\n",
    "    \"DOB\": \"November 29\",\n",
    "    \"Residence\": \"San Diego\",\n",
    "    \"Email\": \"maodou1258@gmail.com\",\n",
    "    \"Fav_Color\": \"White\",\n",
    "    \"Owns_Cars\": []\n",
    "})\n",
    "\n",
    "# Print the data structure\n",
    "print(InfoDb)"
   ]
  },
  {
   "cell_type": "markdown",
   "metadata": {},
   "source": [
    "Formatting and printing the data in the list"
   ]
  },
  {
   "cell_type": "code",
   "execution_count": 40,
   "metadata": {},
   "outputs": [
    {
     "name": "stdout",
     "output_type": "stream",
     "text": [
      "For loop output\n",
      "\n",
      "John Mortensen\n",
      "\t Residence: San Diego\n",
      "\t Birth Day: October 21\n",
      "\t Email: jmortensen@powayusd.com\n",
      "\t Favorite Color: Blue\n",
      "\t Cars: 2015-Fusion, 2011-Ranger, 2003-Excursion, 1997-F350, 1969-Cadillac\n",
      "\n",
      "Sunny Naidu\n",
      "\t Residence: Temecula\n",
      "\t Birth Day: August 2\n",
      "\t Email: snaidu@powayusd.com\n",
      "\t Favorite Color: Green\n",
      "\t Cars: 4Runner\n",
      "\n",
      "Alex Lu\n",
      "\t Residence: San Diego\n",
      "\t Birth Day: November 29\n",
      "\t Email: maodou1258@gmail.com\n",
      "\t Favorite Color: White\n",
      "\t Cars: \n",
      "\n"
     ]
    }
   ],
   "source": [
    "# print function: given a dictionary of InfoDb content\n",
    "def print_data(d_rec):\n",
    "    print(d_rec[\"FirstName\"], d_rec[\"LastName\"])  # using comma puts space between values\n",
    "    print(\"\\t\", \"Residence:\", d_rec[\"Residence\"]) # \\t is a tab indent\n",
    "    print(\"\\t\", \"Birth Day:\", d_rec[\"DOB\"])\n",
    "    print(\"\\t\", \"Email:\", d_rec[\"Email\"])\n",
    "    print(\"\\t\", \"Favorite Color:\", d_rec[\"Fav_Color\"])\n",
    "    print(\"\\t\", \"Cars: \", end=\"\")  # end=\"\" make sure no return occurs\n",
    "    print(\", \".join(d_rec[\"Owns_Cars\"]))  # join allows printing a string list with separator\n",
    "    print()\n",
    "\n",
    "\n",
    "# for loop algorithm iterates on length of InfoDb\n",
    "def for_loop():\n",
    "    print(\"For loop output\\n\")\n",
    "    for record in InfoDb:\n",
    "        print_data(record)\n",
    "\n",
    "for_loop()"
   ]
  }
 ],
 "metadata": {
  "kernelspec": {
   "display_name": "Python 3.8.10 64-bit",
   "language": "python",
   "name": "python3"
  },
  "language_info": {
   "codemirror_mode": {
    "name": "ipython",
    "version": 3
   },
   "file_extension": ".py",
   "mimetype": "text/x-python",
   "name": "python",
   "nbconvert_exporter": "python",
   "pygments_lexer": "ipython3",
   "version": "3.8.10"
  },
  "orig_nbformat": 4,
  "vscode": {
   "interpreter": {
    "hash": "916dbcbb3f70747c44a77c7bcd40155683ae19c65e1c03b4aa3499c5328201f1"
   }
  }
 },
 "nbformat": 4,
 "nbformat_minor": 2
}
