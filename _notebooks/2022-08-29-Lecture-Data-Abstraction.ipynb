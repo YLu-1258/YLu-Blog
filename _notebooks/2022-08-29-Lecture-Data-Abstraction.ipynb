{
 "cells": [
  {
   "cell_type": "markdown",
   "metadata": {},
   "source": [
    "# Data Abstraction in Python\n",
    "> Starters for Data Abstraction\n",
    "\n",
    "- toc: true\n",
    "- description: 2022-08-29 Lecture- Data Abstraction in Python\n",
    "- title: Data Abstraction in Python\n",
    "- comments: true\n",
    "- show_tags: true\n",
    "- categories: [jupyter, APCSP]\n",
    "- author: Alex Lu"
   ]
  },
  {
   "cell_type": "markdown",
   "metadata": {},
   "source": [
    "## Lists and Dictionaries"
   ]
  },
  {
   "cell_type": "markdown",
   "metadata": {},
   "source": [
    "### Data Abstraction\n",
    "To properly manage our data while coding, we might require different types of data structures to successfully attain the goal of our program. Properly storing our data makes it easier for us to share information with fellow devs, across the internet, and also working in other technlogical fields.\n",
    "\n",
    "The following are some comm ways to stored structured data in programing"
   ]
  },
  {
   "cell_type": "markdown",
   "metadata": {},
   "source": [
    "#### Variables ####\n",
    "Variables are contianers of data. They are the most primative and basic structure of data containing only a reference and a value, the value of the variable can be dynamic, and the value can be referenced to by the name of the variable. There are many primative data types in the python programing language, but a unique characteristic of python is that variables are given a data type at assignment.\n",
    "\n",
    "1. Some primative data types are integers, floats, strings (array of chars), chars, etc.\n",
    "\n"
   ]
  },
  {
   "cell_type": "code",
   "execution_count": 2,
   "metadata": {},
   "outputs": [
    {
     "name": "stdout",
     "output_type": "stream",
     "text": [
      "Hello World\n"
     ]
    }
   ],
   "source": [
    "msg = \"Hello World\"\n",
    "print(msg)"
   ]
  },
  {
   "cell_type": "markdown",
   "metadata": {},
   "source": [
    "### Python Lists ###\n",
    "Lists are sequential containers of data that could store multiple values per key. Lists in python are denoted by brackets. We can check that our list is of the list data type with the `type()` function\n",
    "\n",
    "Always be precise and detailed when noting down variable names.\n",
    "\n",
    "Each list has a length attribute that denotes how big or long the list is. in python, this is achieved via the `len()` function"
   ]
  },
  {
   "cell_type": "code",
   "execution_count": 3,
   "metadata": {},
   "outputs": [
    {
     "name": "stdout",
     "output_type": "stream",
     "text": [
      "['cpp', 'python', 'html', 'css', 'java', 'javascript']\n",
      "<class 'list'>\n",
      "6\n",
      "html\n"
     ]
    }
   ],
   "source": [
    "langs = [\"cpp\", \"python\", \"html\", \"css\", \"java\", \"javascript\"]\n",
    "print(langs)\n",
    "# Getting the data type\n",
    "print(type(langs))\n",
    "# Printing the length\n",
    "print(len(langs))\n",
    "# Printing the 3rd element\n",
    "print(langs[2])"
   ]
  },
  {
   "cell_type": "markdown",
   "metadata": {},
   "source": [
    "### Dictionaries ###\n",
    "Dictionaries are sequential containers of data that are similar to lists but contain pairs of keys and values. Dictionaries in python are denoted by curly braces.\n",
    "\n",
    "We can access the keys of the dictionary with the `.keys()` method, and we can access the values of the dictionary with the `.values()` method. Additionally, we can also use the `.get()` method to get a value from a key.\n",
    "\n",
    "Dictionaries are very similar to a JSON in how it stores its data."
   ]
  },
  {
   "cell_type": "code",
   "execution_count": 4,
   "metadata": {},
   "outputs": [
    {
     "name": "stdout",
     "output_type": "stream",
     "text": [
      "info:  {'name': 'Alex Lu', 'age': 15, 'score': 3, 'langs': 'cpp'} type: <class 'dict'> Length: 4\n",
      "name\n",
      "age\n",
      "score\n",
      "langs\n",
      "---------\n",
      "Alex Lu\n",
      "15\n",
      "3\n",
      "cpp\n",
      "--------- Now using .get()\n",
      "name: Alex Lu\n",
      "age: 15\n",
      "score: 3\n",
      "langs: cpp\n"
     ]
    }
   ],
   "source": [
    "info = {\n",
    "    \"name\": \"Alex Lu\",\n",
    "    \"age\": 15,\n",
    "    \"score\": 3,\n",
    "    \"langs\": \"cpp\"\n",
    "}\n",
    "print(\"info: \",  info, \"type: \" + str(type(info)), \"Length: \" + str(len(info)))\n",
    "for key in info.keys():\n",
    "    print(key)\n",
    "print(\"---------\")\n",
    "for val in info.values():\n",
    "    print(val)\n",
    "print(\"--------- Now using .get()\")\n",
    "for key in info.keys():\n",
    "    print(key + \":\", info.get(key))\n",
    "    "
   ]
  },
  {
   "cell_type": "markdown",
   "metadata": {},
   "source": [
    "#### More Data Abstraction in Python"
   ]
  },
  {
   "cell_type": "markdown",
   "metadata": {},
   "source": [
    "To add to a list, we can use the `.append()` method to add in more inputs to the list. I have modified the InfoDb List from class and added my own entries and values into the dictionary."
   ]
  },
  {
   "cell_type": "code",
   "execution_count": 5,
   "metadata": {},
   "outputs": [
    {
     "name": "stdout",
     "output_type": "stream",
     "text": [
      "[{'FirstName': 'John', 'LastName': 'Mortensen', 'Gender': 'Male', 'DOB': 'October 21', 'Residence': 'San Diego', 'Email': 'jmortensen@powayusd.com', 'Fav_Color': 'Unknown', 'Hobbies': ['Teaching', 'Programming'], 'Sleep_Schedule': 'Unknown', 'Games': [], 'is_Teacher': True}, {'FirstName': 'Alex', 'LastName': 'Lu', 'Gender': 'Male', 'DOB': 'November 29, 2006', 'Residence': 'San Diego', 'Email': 'maodou1258@gmail.com', 'Fav_Color': 'White', 'Hobbies': ['Programming', 'Tennis', 'Reading', 'Sleeping'], 'Games': ['League of Legends', 'VALORANT', 'Minecraft', 'OSU'], 'Sleep_Schedule': '1am', 'is_Teacher': False}, {'FirstName': 'Evan', 'LastName': 'Aparri', 'Gender': 'Male', 'DOB': 'November 10, 2005', 'Residence': 'San Diego', 'Email': 'evanaparri@gmail.com', 'Fav_Color': 'Blue', 'Hobbies': ['Running', 'Reading', 'Eating Asian Food/ Food Connoisseur', 'Sleeping', 'Homework', 'Programming'], 'Games': [], 'Sleep_Schedule': '2am', 'is_Teacher': False}]\n"
     ]
    }
   ],
   "source": [
    "# Define an empty List called InfoDb\n",
    "InfoDb = []\n",
    "\n",
    "# InfoDB is a data structure with expected Keys and Values\n",
    "\n",
    "# Append to List a Dictionary of key/values related to a person\n",
    "\n",
    "InfoDb.append({\n",
    "    \"FirstName\": \"John\",\n",
    "    \"LastName\": \"Mortensen\",\n",
    "    \"Gender\": \"Male\",\n",
    "    \"DOB\": \"October 21\",\n",
    "    \"Residence\": \"San Diego\",\n",
    "    \"Email\": \"jmortensen@powayusd.com\",\n",
    "    \"Fav_Color\": \"Unknown\",\n",
    "    \"Hobbies\": [\"Teaching\", \"Programming\"],\n",
    "    \"Sleep_Schedule\" : \"Unknown\",\n",
    "    \"Games\": [],\n",
    "    \"is_Teacher\": True\n",
    "})\n",
    "\n",
    "InfoDb.append({\n",
    "    \"FirstName\": \"Alex\",\n",
    "    \"LastName\": \"Lu\",\n",
    "    \"Gender\": \"Male\",\n",
    "    \"DOB\": \"November 29, 2006\",\n",
    "    \"Residence\": \"San Diego\",\n",
    "    \"Email\": \"maodou1258@gmail.com\",\n",
    "    \"Fav_Color\": \"White\",\n",
    "    \"Hobbies\": [\"Programming\", \"Tennis\", \"Reading\", \"Sleeping\"],\n",
    "    \"Games\": [\"League of Legends\", \"VALORANT\", \"Minecraft\", \"OSU\"],\n",
    "    \"Sleep_Schedule\" : \"1am\",\n",
    "    \"is_Teacher\": False\n",
    "})\n",
    "\n",
    "InfoDb.append({\n",
    "    \"FirstName\": \"Evan\",\n",
    "    \"LastName\": \"Aparri\",\n",
    "    \"Gender\": \"Male\",\n",
    "    \"DOB\": \"November 10, 2005\",\n",
    "    \"Residence\": \"San Diego\",\n",
    "    \"Email\": \"evanaparri@gmail.com\",\n",
    "    \"Fav_Color\": \"Blue\",\n",
    "    \"Hobbies\": [\"Running\", \"Reading\", \"Eating Asian Food/ Food Connoisseur\", \"Sleeping\", \"Homework\", \"Programming\"],\n",
    "    \"Games\": [],\n",
    "    \"Sleep_Schedule\" : \"2am\",\n",
    "    \"is_Teacher\": False\n",
    "})\n",
    "\n",
    "# Print the data structure\n",
    "print(InfoDb)"
   ]
  },
  {
   "cell_type": "markdown",
   "metadata": {},
   "source": [
    "Formatting and printing the data in the list"
   ]
  },
  {
   "cell_type": "code",
   "execution_count": 6,
   "metadata": {},
   "outputs": [
    {
     "name": "stdout",
     "output_type": "stream",
     "text": [
      "For loop output\n",
      "\n",
      "John Mortensen\n",
      "\t Gender: Male\n",
      "\t Residence: San Diego\n",
      "\t Birth Day: October 21\n",
      "\t Email: jmortensen@powayusd.com\n",
      "\t Favorite Color: Unknown\n",
      "\t Is Teacher?: True\n",
      "\t Hours of Sleep: Unknown\n",
      "\t Hobbies: Teaching, Programming\n",
      "\t Games: \n",
      "\n",
      "Alex Lu\n",
      "\t Gender: Male\n",
      "\t Residence: San Diego\n",
      "\t Birth Day: November 29, 2006\n",
      "\t Email: maodou1258@gmail.com\n",
      "\t Favorite Color: White\n",
      "\t Is Teacher?: False\n",
      "\t Hours of Sleep: 1am\n",
      "\t Hobbies: Programming, Tennis, Reading, Sleeping\n",
      "\t Games: League of Legends, VALORANT, Minecraft, OSU\n",
      "\n",
      "Evan Aparri\n",
      "\t Gender: Male\n",
      "\t Residence: San Diego\n",
      "\t Birth Day: November 10, 2005\n",
      "\t Email: evanaparri@gmail.com\n",
      "\t Favorite Color: Blue\n",
      "\t Is Teacher?: False\n",
      "\t Hours of Sleep: 2am\n",
      "\t Hobbies: Running, Reading, Eating Asian Food/ Food Connoisseur, Sleeping, Homework, Programming\n",
      "\t Games: \n",
      "\n"
     ]
    }
   ],
   "source": [
    "# print function: given a dictionary of InfoDb content\n",
    "def print_data(d_rec):\n",
    "    print(d_rec[\"FirstName\"], d_rec[\"LastName\"])  # using comma puts space between values\n",
    "    print(\"\\t\", \"Gender:\", d_rec[\"Gender\"])\n",
    "    print(\"\\t\", \"Residence:\", d_rec[\"Residence\"]) # \\t is a tab indent\n",
    "    print(\"\\t\", \"Birth Day:\", d_rec[\"DOB\"])\n",
    "    print(\"\\t\", \"Email:\", d_rec[\"Email\"])\n",
    "    print(\"\\t\", \"Favorite Color:\", d_rec[\"Fav_Color\"])\n",
    "    print(\"\\t\", \"Is Teacher?:\", d_rec[\"is_Teacher\"])\n",
    "    print(\"\\t\", \"Hours of Sleep:\", d_rec[\"Sleep_Schedule\"])\n",
    "    print(\"\\t\", \"Hobbies: \" + \", \".join(d_rec[\"Hobbies\"]))\n",
    "    print(\"\\t\", \"Games: \" + \", \".join(d_rec[\"Games\"]))\n",
    "    print()\n",
    "\n",
    "\n",
    "# for loop algorithm iterates on length of InfoDb\n",
    "def for_loop():\n",
    "    print(\"For loop output\\n\")\n",
    "    for record in InfoDb:\n",
    "        print_data(record)\n",
    "\n",
    "for_loop()"
   ]
  },
  {
   "cell_type": "markdown",
   "metadata": {},
   "source": [
    "Now we print the entires of InfoDb in reverse\n",
    "\n",
    "The first method uses array slicing, while the second method iterates in reverse order starting from the last index of the array, this is accomplished through the `reversed()` function paired with the `range()` and `len()` functions."
   ]
  },
  {
   "cell_type": "code",
   "execution_count": 7,
   "metadata": {},
   "outputs": [
    {
     "name": "stdout",
     "output_type": "stream",
     "text": [
      "Evan Aparri\n",
      "\t Gender: Male\n",
      "\t Residence: San Diego\n",
      "\t Birth Day: November 10, 2005\n",
      "\t Email: evanaparri@gmail.com\n",
      "\t Favorite Color: Blue\n",
      "\t Is Teacher?: False\n",
      "\t Hours of Sleep: 2am\n",
      "\t Hobbies: Running, Reading, Eating Asian Food/ Food Connoisseur, Sleeping, Homework, Programming\n",
      "\t Games: \n",
      "\n",
      "Alex Lu\n",
      "\t Gender: Male\n",
      "\t Residence: San Diego\n",
      "\t Birth Day: November 29, 2006\n",
      "\t Email: maodou1258@gmail.com\n",
      "\t Favorite Color: White\n",
      "\t Is Teacher?: False\n",
      "\t Hours of Sleep: 1am\n",
      "\t Hobbies: Programming, Tennis, Reading, Sleeping\n",
      "\t Games: League of Legends, VALORANT, Minecraft, OSU\n",
      "\n",
      "John Mortensen\n",
      "\t Gender: Male\n",
      "\t Residence: San Diego\n",
      "\t Birth Day: October 21\n",
      "\t Email: jmortensen@powayusd.com\n",
      "\t Favorite Color: Unknown\n",
      "\t Is Teacher?: True\n",
      "\t Hours of Sleep: Unknown\n",
      "\t Hobbies: Teaching, Programming\n",
      "\t Games: \n",
      "\n"
     ]
    }
   ],
   "source": [
    "def for_loop_reversed_1(arr):\n",
    "    print(\"Cheesed Reverse For loop output:\")\n",
    "    for i in arr[::-1]:\n",
    "        print_data(i)\n",
    "\n",
    "def for_loop_reversed_2(arr):\n",
    "    for i in reversed(range(0,len(arr))):\n",
    "        print_data(arr[i])\n",
    "\n",
    "# for_loop_reversed_1(InfoDb) does the same thing\n",
    "for_loop_reversed_2(InfoDb)"
   ]
  },
  {
   "cell_type": "markdown",
   "metadata": {},
   "source": [
    "## Four methods of looping\n",
    "In the methods below, I will use for-loops, for-loops with indices, while loops, and recursion to print all the data within InfoDB\n"
   ]
  },
  {
   "cell_type": "markdown",
   "metadata": {},
   "source": [
    "### For Loop"
   ]
  },
  {
   "cell_type": "code",
   "execution_count": 8,
   "metadata": {},
   "outputs": [
    {
     "name": "stdout",
     "output_type": "stream",
     "text": [
      "Output of Database\n",
      "John Mortensen\n",
      "\t Gender: Male\n",
      "\t Residence: San Diego\n",
      "\t Birth Day: October 21\n",
      "\t Email: jmortensen@powayusd.com\n",
      "\t Favorite Color: Unknown\n",
      "\t Is Teacher?: True\n",
      "\t Hours of Sleep: Unknown\n",
      "\t Hobbies: Teaching, Programming\n",
      "\t Games: \n",
      "\n",
      "Alex Lu\n",
      "\t Gender: Male\n",
      "\t Residence: San Diego\n",
      "\t Birth Day: November 29, 2006\n",
      "\t Email: maodou1258@gmail.com\n",
      "\t Favorite Color: White\n",
      "\t Is Teacher?: False\n",
      "\t Hours of Sleep: 1am\n",
      "\t Hobbies: Programming, Tennis, Reading, Sleeping\n",
      "\t Games: League of Legends, VALORANT, Minecraft, OSU\n",
      "\n",
      "Evan Aparri\n",
      "\t Gender: Male\n",
      "\t Residence: San Diego\n",
      "\t Birth Day: November 10, 2005\n",
      "\t Email: evanaparri@gmail.com\n",
      "\t Favorite Color: Blue\n",
      "\t Is Teacher?: False\n",
      "\t Hours of Sleep: 2am\n",
      "\t Hobbies: Running, Reading, Eating Asian Food/ Food Connoisseur, Sleeping, Homework, Programming\n",
      "\t Games: \n",
      "\n",
      "<class 'dict'>\n"
     ]
    }
   ],
   "source": [
    "# Declaring this function allows us to reuse this code over however many lists we wish\n",
    "def for_loop(arr):\n",
    "    print(\"Output of Database\")\n",
    "    # The for loop declares a local variable \"i\" and assigns each DB record to i over each iteration\n",
    "    for i in arr:\n",
    "        # Using the predermined print_data function to neatly format our data in a human friendly manner\n",
    "        print_data(i) \n",
    "    print(type(i))     # Note that \"i\" will retain its value outside of the for-loop, but not outside of the function\n",
    "\n",
    "\n",
    "for_loop(InfoDb)"
   ]
  },
  {
   "cell_type": "markdown",
   "metadata": {},
   "source": [
    "### For loop with index"
   ]
  },
  {
   "cell_type": "code",
   "execution_count": 9,
   "metadata": {},
   "outputs": [
    {
     "name": "stdout",
     "output_type": "stream",
     "text": [
      "Output of Database\n",
      "John Mortensen\n",
      "\t Gender: Male\n",
      "\t Residence: San Diego\n",
      "\t Birth Day: October 21\n",
      "\t Email: jmortensen@powayusd.com\n",
      "\t Favorite Color: Unknown\n",
      "\t Is Teacher?: True\n",
      "\t Hours of Sleep: Unknown\n",
      "\t Hobbies: Teaching, Programming\n",
      "\t Games: \n",
      "\n",
      "Alex Lu\n",
      "\t Gender: Male\n",
      "\t Residence: San Diego\n",
      "\t Birth Day: November 29, 2006\n",
      "\t Email: maodou1258@gmail.com\n",
      "\t Favorite Color: White\n",
      "\t Is Teacher?: False\n",
      "\t Hours of Sleep: 1am\n",
      "\t Hobbies: Programming, Tennis, Reading, Sleeping\n",
      "\t Games: League of Legends, VALORANT, Minecraft, OSU\n",
      "\n",
      "Evan Aparri\n",
      "\t Gender: Male\n",
      "\t Residence: San Diego\n",
      "\t Birth Day: November 10, 2005\n",
      "\t Email: evanaparri@gmail.com\n",
      "\t Favorite Color: Blue\n",
      "\t Is Teacher?: False\n",
      "\t Hours of Sleep: 2am\n",
      "\t Hobbies: Running, Reading, Eating Asian Food/ Food Connoisseur, Sleeping, Homework, Programming\n",
      "\t Games: \n",
      "\n"
     ]
    }
   ],
   "source": [
    "def for_loop_with_index(arr):\n",
    "    print(\"Output of Database\")\n",
    "    # Using the range function to print out data based on the index in the array\n",
    "    for i in range(0,len(arr)):\n",
    "        # Using index notation to print data\n",
    "        print_data(arr[i])\n",
    "\n",
    "for_loop_with_index(InfoDb)"
   ]
  },
  {
   "cell_type": "markdown",
   "metadata": {},
   "source": [
    "### While Loop"
   ]
  },
  {
   "cell_type": "code",
   "execution_count": 10,
   "metadata": {},
   "outputs": [
    {
     "name": "stdout",
     "output_type": "stream",
     "text": [
      "Output of Database\n",
      "John Mortensen\n",
      "\t Gender: Male\n",
      "\t Residence: San Diego\n",
      "\t Birth Day: October 21\n",
      "\t Email: jmortensen@powayusd.com\n",
      "\t Favorite Color: Unknown\n",
      "\t Is Teacher?: True\n",
      "\t Hours of Sleep: Unknown\n",
      "\t Hobbies: Teaching, Programming\n",
      "\t Games: \n",
      "\n",
      "Alex Lu\n",
      "\t Gender: Male\n",
      "\t Residence: San Diego\n",
      "\t Birth Day: November 29, 2006\n",
      "\t Email: maodou1258@gmail.com\n",
      "\t Favorite Color: White\n",
      "\t Is Teacher?: False\n",
      "\t Hours of Sleep: 1am\n",
      "\t Hobbies: Programming, Tennis, Reading, Sleeping\n",
      "\t Games: League of Legends, VALORANT, Minecraft, OSU\n",
      "\n",
      "Evan Aparri\n",
      "\t Gender: Male\n",
      "\t Residence: San Diego\n",
      "\t Birth Day: November 10, 2005\n",
      "\t Email: evanaparri@gmail.com\n",
      "\t Favorite Color: Blue\n",
      "\t Is Teacher?: False\n",
      "\t Hours of Sleep: 2am\n",
      "\t Hobbies: Running, Reading, Eating Asian Food/ Food Connoisseur, Sleeping, Homework, Programming\n",
      "\t Games: \n",
      "\n"
     ]
    }
   ],
   "source": [
    "def while_loop(arr):\n",
    "    print(\"Output of Database\")\n",
    "    # Initializing a counter variable to keep track of the current index of InfoDb\n",
    "    i = 0\n",
    "    # While loop to run certain processes before i becomes equal to the max index + 1, terminate once i is equal to len(arr)\n",
    "    while i < len(arr):\n",
    "        print_data(arr[i])\n",
    "        i+=1 # I FORGOT TO DO THIS OH GOD WHY MY VSCODE IS BROKEN\n",
    "\n",
    "while_loop(InfoDb)"
   ]
  },
  {
   "cell_type": "markdown",
   "metadata": {},
   "source": [
    "### Recursion"
   ]
  },
  {
   "cell_type": "code",
   "execution_count": 13,
   "metadata": {},
   "outputs": [
    {
     "name": "stdout",
     "output_type": "stream",
     "text": [
      "John Mortensen\n",
      "\t Gender: Male\n",
      "\t Residence: San Diego\n",
      "\t Birth Day: October 21\n",
      "\t Email: jmortensen@powayusd.com\n",
      "\t Favorite Color: Unknown\n",
      "\t Is Teacher?: True\n",
      "\t Hours of Sleep: Unknown\n",
      "\t Hobbies: Teaching, Programming\n",
      "\t Games: \n",
      "\n",
      "Alex Lu\n",
      "\t Gender: Male\n",
      "\t Residence: San Diego\n",
      "\t Birth Day: November 29, 2006\n",
      "\t Email: maodou1258@gmail.com\n",
      "\t Favorite Color: White\n",
      "\t Is Teacher?: False\n",
      "\t Hours of Sleep: 1am\n",
      "\t Hobbies: Programming, Tennis, Reading, Sleeping\n",
      "\t Games: League of Legends, VALORANT, Minecraft, OSU\n",
      "\n",
      "Evan Aparri\n",
      "\t Gender: Male\n",
      "\t Residence: San Diego\n",
      "\t Birth Day: November 10, 2005\n",
      "\t Email: evanaparri@gmail.com\n",
      "\t Favorite Color: Blue\n",
      "\t Is Teacher?: False\n",
      "\t Hours of Sleep: 2am\n",
      "\t Hobbies: Running, Reading, Eating Asian Food/ Food Connoisseur, Sleeping, Homework, Programming\n",
      "\t Games: \n",
      "\n"
     ]
    },
    {
     "data": {
      "text/plain": [
       "0"
      ]
     },
     "execution_count": 13,
     "metadata": {},
     "output_type": "execute_result"
    }
   ],
   "source": [
    "# Recursion function will take in two inputs, our list (arr) and a counter variable to keep track of the index\n",
    "def recursion(arr, counter):\n",
    "    # Check if the current index is within bounds\n",
    "    if counter < len(arr):\n",
    "        # prints data\n",
    "        print_data(arr[counter])\n",
    "        # Recalling the same function for counter+1 index, printing the next item in the list\n",
    "        recursion(arr, counter+1)\n",
    "    # If previous if statement does not pass, return 0 and terminate the recursion\n",
    "    return 0\n",
    "\n",
    "recursion(InfoDb, 0)\n",
    "    "
   ]
  },
  {
   "cell_type": "markdown",
   "metadata": {},
   "source": [
    "## Other cool things to do with lists and Dictionaries"
   ]
  },
  {
   "cell_type": "markdown",
   "metadata": {},
   "source": [
    "Some cool list operations including for loops and recursion in cluding reversing, list comprehension, and recursion"
   ]
  },
  {
   "cell_type": "code",
   "execution_count": 11,
   "metadata": {},
   "outputs": [
    {
     "name": "stdout",
     "output_type": "stream",
     "text": [
      "List of squares of 2:  [2, 4, 8, 16, 32, 64, 128, 256, 512, 1024]\n",
      "------------------------------\n",
      "Original List:  [1, 2, 3, 4, 5]\n",
      "Reversed List:  [5, 4, 3, 2, 1]\n",
      "------------------------------\n",
      "Sorted ascending:  [19, 43, 67, 78, 84, 175]\n",
      "Sorted descending:  [175, 84, 78, 67, 43, 19]\n",
      "[19, 43, 67, 78, 84, 175]\n"
     ]
    }
   ],
   "source": [
    "print(\"List comprehension, create a list on the spot\")\n",
    "my_arr1 = [2<<i for i in range(0,10)]\n",
    "print(\"List of squares of 2: \", my_arr1)\n",
    "print(\"------------------------------\")\n",
    "\n",
    "print(\"Reversing a list\")\n",
    "my_arr2 = [1,2,3,4,5]\n",
    "print(\"Original List: \", my_arr2)\n",
    "print(\"Reversed List: \", my_arr2[::-1])\n",
    "print(\"------------------------------\")\n",
    "\n",
    "print(\"Sorting a list\")\n",
    "my_arr3 = [67,84,19,43,175,78]\n",
    "print(\"Sorted ascending: \", sorted(my_arr3))\n",
    "print(\"Sorted descending: \", sorted(my_arr3, reverse=True))\n",
    "\n",
    "print(\"EXTRA: Qsort using list comprehension\")\n",
    "def Qsort(arr):\n",
    "    if arr == []:\n",
    "        return []\n",
    "    pivot = arr[0]\n",
    "    l = Qsort([i for i in arr[1:] if i < pivot])\n",
    "    r = Qsort([i for i in arr[1:] if i >= pivot])\n",
    "    return l + [pivot] + r\n",
    "\n",
    "print(Qsort(my_arr3))\n",
    "\n",
    "\n"
   ]
  },
  {
   "cell_type": "markdown",
   "metadata": {},
   "source": [
    "### Creating a Quiz with Dictionaries"
   ]
  },
  {
   "cell_type": "code",
   "execution_count": 25,
   "metadata": {},
   "outputs": [
    {
     "name": "stdout",
     "output_type": "stream",
     "text": [
      "velocity was correct!\n",
      "Wrong, position was incorrect, the correct answer was: velocity\n",
      "oxygen was correct!\n",
      "EpiStroPhe was correct!\n",
      "Congrats, you got 75.00% on this quiz\n"
     ]
    }
   ],
   "source": [
    "# Dictionary containing all question and answer pairs\n",
    "q_a = {\n",
    "    \"What is the derivative of position?\" : [\"velocity\"],\n",
    "    \"What is the integral of acceleration?\" : [\"velocity\"],\n",
    "    \"Name a product of photosynthesis\" : [\"glucose\", \"oxygen\"],\n",
    "    \"What rhetorical device includes the repitition of a word or phrase at the end of clauses?\" : [\"epistrophe\"]\n",
    "}\n",
    "# Returns a tuple of lists of questions and values\n",
    "def get_pair(dict):\n",
    "    return [q for q, a in dict.items()], [a for q, a in dict.items()]\n",
    "\n",
    "# Function to calculate percentage\n",
    "def percentage(x, y):\n",
    "\n",
    "        return '{0:.2f}'.format(100 * float(x)/float(y))\n",
    "\n",
    "# Some States \n",
    "correct = 0\n",
    "total = len(q_a)\n",
    "\n",
    "# Get the answer + question pairs\n",
    "q_a_pairs = get_pair(q_a)\n",
    "\n",
    "# Ask and evaluate questions\n",
    "for i in range(0,len(q_a_pairs[0])):\n",
    "    rsp = input(\"QUESTION: \" + q_a_pairs[0][i])\n",
    "    # Use .lower to maintain case insensitivity\n",
    "    if rsp.lower() in q_a_pairs[1][i]:\n",
    "        print(rsp + \" was correct!\")\n",
    "        correct+=1\n",
    "    else:\n",
    "        print(\"Wrong, {0} was incorrect, the correct answer was: {1}\".format(rsp, \", \".join(q_a_pairs[1][i])))\n",
    "print(\"Congrats, you got {0}% on this quiz\".format(percentage(correct,total)))"
   ]
  },
  {
   "cell_type": "markdown",
   "metadata": {},
   "source": [
    "It's just too free 😎"
   ]
  }
 ],
 "metadata": {
  "kernelspec": {
   "display_name": "Python 3.8.10 64-bit",
   "language": "python",
   "name": "python3"
  },
  "language_info": {
   "codemirror_mode": {
    "name": "ipython",
    "version": 3
   },
   "file_extension": ".py",
   "mimetype": "text/x-python",
   "name": "python",
   "nbconvert_exporter": "python",
   "pygments_lexer": "ipython3",
   "version": "3.8.10"
  },
  "orig_nbformat": 4,
  "vscode": {
   "interpreter": {
    "hash": "916dbcbb3f70747c44a77c7bcd40155683ae19c65e1c03b4aa3499c5328201f1"
   }
  }
 },
 "nbformat": 4,
 "nbformat_minor": 2
}
