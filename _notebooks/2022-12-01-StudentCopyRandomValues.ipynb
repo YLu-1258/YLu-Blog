{
 "cells": [
  {
   "attachments": {},
   "cell_type": "markdown",
   "metadata": {},
   "source": [
    "# Unit 3.15 Random Values Student Copy\n",
    "> Here is our lesson about random values!\n",
    "\n",
    "- toc: true\n",
    "- comments: true\n",
    "- categories: [Week-13,Big-Idea-3]\n",
    "- image: /images/college-board-logo.png"
   ]
  },
  {
   "attachments": {},
   "cell_type": "markdown",
   "metadata": {},
   "source": [
    "Purpose/Objectives: Teach student how to implement randomness into their code to make their code simulate real life situations. \n",
    "\n",
    "In this lesson students will learn:\n",
    "- How to import random to python\n",
    "- How to use random with a list or number range \n",
    "- How to code randomness in everyday scenarios"
   ]
  },
  {
   "attachments": {},
   "cell_type": "markdown",
   "metadata": {},
   "source": [
    "ADD YOUR ADDITIONAL NOTES HERE:"
   ]
  },
  {
   "attachments": {},
   "cell_type": "markdown",
   "metadata": {},
   "source": [
    "## What are Random Values?"
   ]
  },
  {
   "attachments": {},
   "cell_type": "markdown",
   "metadata": {},
   "source": [
    "Random Values are a number generated using a large set of numbers and a mathematical algorithm which gives equal probability to all number occuring"
   ]
  },
  {
   "attachments": {},
   "cell_type": "markdown",
   "metadata": {},
   "source": [
    "Each Result from randomization is equally likely to occur\n",
    "Using random number generation in a program means each execution may produce a different result"
   ]
  },
  {
   "attachments": {},
   "cell_type": "markdown",
   "metadata": {},
   "source": [
    "What are Examples of Random outputs in the world?  Add a few you can think of. \n",
    "- Ex: Marbles\n",
    "- Cryptography\n",
    "- Games\n",
    "- Statistical Sampling\n"
   ]
  },
  {
   "attachments": {},
   "cell_type": "markdown",
   "metadata": {},
   "source": [
    "## Why do we need Random Values for code?"
   ]
  },
  {
   "attachments": {},
   "cell_type": "markdown",
   "metadata": {},
   "source": [
    "Random values can be used in coding:\n",
    "- "
   ]
  },
  {
   "cell_type": "code",
   "execution_count": 5,
   "metadata": {},
   "outputs": [
    {
     "name": "stdout",
     "output_type": "stream",
     "text": [
      "84\n"
     ]
    }
   ],
   "source": [
    "import random\n",
    "random_number = random.randint(1,100)\n",
    "print(random_number)"
   ]
  },
  {
   "cell_type": "code",
   "execution_count": 12,
   "metadata": {},
   "outputs": [
    {
     "name": "stdout",
     "output_type": "stream",
     "text": [
      "blueberry\n"
     ]
    }
   ],
   "source": [
    "def randomlist():\n",
    "    list = [\"apple\", \"banana\", \"cherry\", \"blueberry\"]\n",
    "    element = random.choice(list)\n",
    "    print(element)\n",
    "randomlist()"
   ]
  },
  {
   "attachments": {},
   "cell_type": "markdown",
   "metadata": {},
   "source": [
    "Real Life Examples:\n",
    "Dice Roll"
   ]
  },
  {
   "cell_type": "code",
   "execution_count": 13,
   "metadata": {},
   "outputs": [
    {
     "name": "stdout",
     "output_type": "stream",
     "text": [
      "Roll 1:2\n",
      "Roll 2:2\n",
      "Roll 3:5\n"
     ]
    }
   ],
   "source": [
    "import random\n",
    "for i in range(3):\n",
    "    roll = random.randint(1,6)\n",
    "    print(\"Roll \" + str(i + 1) + \":\" + str(roll))"
   ]
  },
  {
   "attachments": {},
   "cell_type": "markdown",
   "metadata": {},
   "source": [
    "## Challenge #1\n",
    "Write a function that will a simulate a coinflip and print the output"
   ]
  },
  {
   "cell_type": "code",
   "execution_count": 16,
   "metadata": {},
   "outputs": [
    {
     "name": "stdout",
     "output_type": "stream",
     "text": [
      "Tails\n"
     ]
    }
   ],
   "source": [
    "def coinflip():\n",
    "    return \"Heads\" if random.randint(1,2) == 1 else \"Tails\"\n",
    "\n",
    "print(coinflip())"
   ]
  },
  {
   "attachments": {},
   "cell_type": "markdown",
   "metadata": {},
   "source": [
    "EXTRA: Create a function that will randomly select 5 playing Cards and check if the 5 cards are a Royal Flush"
   ]
  },
  {
   "cell_type": "code",
   "execution_count": 21,
   "metadata": {},
   "outputs": [
    {
     "name": "stdout",
     "output_type": "stream",
     "text": [
      "Royal Flush Detected\n"
     ]
    }
   ],
   "source": [
    "cards = [i for i in range(52)]\n",
    "def selectCard(cards):\n",
    "    res = random.choice(cards)\n",
    "    cards.remove(res)\n",
    "    return res\n",
    "deck = [selectCard(cards) for i in range(5)]\n",
    "if set(deck) == set([0,1,2,3,4]):\n",
    "    print(\"Royal Flush Detected\")\n",
    "elif set(deck) == set([5,6,7,8,9]):\n",
    "    print(\"Royal Flush Detected\")\n",
    "elif set(deck) == set([10,11,12,13,14]):\n",
    "    print(\"Royal Flush Detected\")\n",
    "elif set(deck) == set([15,16,17,18,19]):\n",
    "    print(\"Royal Flush Detected\")\n",
    "else:\n",
    "    print(\"No Royal Flush\")"
   ]
  },
  {
   "attachments": {},
   "cell_type": "markdown",
   "metadata": {},
   "source": [
    "## Homework\n",
    "Given a random decimal number convert it into binary\n",
    "as Extra convert it to hexidecimal as well. "
   ]
  },
  {
   "cell_type": "code",
   "execution_count": 51,
   "metadata": {},
   "outputs": [
    {
     "name": "stdout",
     "output_type": "stream",
     "text": [
      "Random Number: 345791430\n",
      "Binary representation of random number: 10100100111000101101111000110\n",
      "Hexadecimal representation of random number: 149C5BC6\n"
     ]
    }
   ],
   "source": [
    "def DecimalToHex(num):\n",
    "    hex_correlation = {\n",
    "        0:\"0\",\n",
    "        1:\"1\",\n",
    "        2:\"2\",\n",
    "        3:\"3\",\n",
    "        4:\"4\",\n",
    "        5:\"5\",\n",
    "        6:\"6\",\n",
    "        7:\"7\",\n",
    "        8:\"8\",\n",
    "        9:\"9\",\n",
    "        10:\"A\",\n",
    "        11:\"B\",\n",
    "        12:\"C\",\n",
    "        13:\"D\",\n",
    "        14:\"E\",\n",
    "        15:\"F\"\n",
    "    }\n",
    "    res = \"\"\n",
    "    digits = 7\n",
    "    while digits >= 0:\n",
    "        if (num - 16 ** digits) >= 0:\n",
    "            sub_res = 0\n",
    "            while (num - 16 ** digits) >= 0:\n",
    "                sub_res+=1\n",
    "                num -= 16 ** digits  \n",
    "            res = res + str(hex_correlation[sub_res])\n",
    "        else:\n",
    "            res = res + \"0\"\n",
    "        digits-=1  \n",
    "    return res\n",
    "\n",
    "\n",
    "num = random.randint(0,1000000000)\n",
    "print(\"Random Number:\", num)\n",
    "print(\"Binary representation of random number:\", bin(num)[2:])\n",
    "print(\"Hexadecimal representation of random number:\", DecimalToHex(num))\n",
    "\n"
   ]
  }
 ],
 "metadata": {
  "kernelspec": {
   "display_name": "Python 3",
   "language": "python",
   "name": "python3"
  },
  "language_info": {
   "codemirror_mode": {
    "name": "ipython",
    "version": 3
   },
   "file_extension": ".py",
   "mimetype": "text/x-python",
   "name": "python",
   "nbconvert_exporter": "python",
   "pygments_lexer": "ipython3",
   "version": "3.10.6 (main, Nov  2 2022, 18:53:38) [GCC 11.3.0]"
  },
  "orig_nbformat": 4,
  "vscode": {
   "interpreter": {
    "hash": "916dbcbb3f70747c44a77c7bcd40155683ae19c65e1c03b4aa3499c5328201f1"
   }
  }
 },
 "nbformat": 4,
 "nbformat_minor": 2
}
