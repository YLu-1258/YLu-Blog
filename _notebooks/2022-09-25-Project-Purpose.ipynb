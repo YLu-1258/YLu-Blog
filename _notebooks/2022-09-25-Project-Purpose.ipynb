{
 "cells": [
  {
   "cell_type": "markdown",
   "metadata": {},
   "source": [
    "# Project Details\n",
    "> What is the idea behind our Project?\n",
    "- toc: true\n",
    "- title: Project Details\n",
    "- author: Alex Lu\n",
    "- badges: true\n",
    "- comments: true\n",
    "- categories: [jupyter,APCSP,week 5]\n",
    "- author: Alex Lu"
   ]
  },
  {
   "cell_type": "markdown",
   "metadata": {},
   "source": [
    "## The Idea\n",
    "\n",
    "Our team wishes to build a minesweeper game with a python backend that could consistently communicate with our front-end website to bring a new degree of sophistication and aesthetic to this classic Game. This project would be split into two main portions each with it's own challenge. The first portion would be making the game engine in python, while the latter portion would be to design and create an aesthetically pleasing and functional frontend to display the Game Status"
   ]
  },
  {
   "cell_type": "code",
   "execution_count": 2,
   "metadata": {},
   "outputs": [
    {
     "data": {
      "text/html": [
       "<img src=\"https://ylu-1258.github.io/YLu-Blog/images/minesweeper_diagram.png\"/>"
      ],
      "text/plain": [
       "<IPython.core.display.Image object>"
      ]
     },
     "execution_count": 2,
     "metadata": {},
     "output_type": "execute_result"
    }
   ],
   "source": [
    "#hide_input\n",
    "from IPython.display import Image\n",
    "\n",
    "# get the image\n",
    "Image(url=\"https://ylu-1258.github.io/YLu-Blog/images/minesweeper_diagram.png\")"
   ]
  },
  {
   "cell_type": "markdown",
   "metadata": {},
   "source": [
    "## The Frontend\n",
    "The frontend aspect of this project should preferably display a grid of the game and incorporate some aspect of user input. Preliminary testing and experimentation could be done through textbox inputs of coordinate values, while prospective functions could include individual buttons on the Grid itself to provide a GUI for the user to interact with. In both cases, the frontend should be able to communicate with the python backend through JSON data to send and receive data.  \n",
    "\n",
    "More aspects about the Frontend aspects will be added with additional planning in the future.\n",
    "\n",
    "![]({{site.baseurl}}/images/minesweeper_diagram.png \"Minesweeper design methodology and interactions\")"
   ]
  },
  {
   "cell_type": "markdown",
   "metadata": {},
   "source": [
    "## The Backend\n",
    "Arguably the more challenging half of this project, the backend would primarily serve to be the game engine of the minesweeper game. Additionally, the backend would also control and organize the various pages and menus on the website. In this writeup, we will only be focusing on the main goals and challenges faced by the Backend team.\n",
    "\n",
    "1. Using Object Oriented Programming to create individual objects for the game. Some aspects that could be represented by such objects would be the gameboard and also the individual cells and nodes present within the game board.\n",
    "    1. Doing so would simplify the algorithmic aspect of the game, as the board itself could have methods and attributes to help control the game logic. \n",
    "    2. Morever, using an object to represent an individual cell in the board would provide greater functionalities than just using a single variable  \n",
    "2. Use Enumerated types with the python `enum` module to create different values for the type and status of each node. Each of these types could then be bound to a constant value which could then be printed on the screen\n",
    "\n",
    "3. Use Recursion to create an algorithm to recursively detect adjacent cells that are safe (AKA not mines). This algorithm would work in the following format\n",
    "    1. Maintain a list of current cells already determined to be safe\n",
    "    2. Verify if the four adjacent (up, down, left, right) cells next to the selected cell are safe or not, if safe, store the coordinate point in the list, if not, record the cell as a \"border cell\", terminate the recursive process, and run another helper function to determine the precise number of mines surrounding the cell\n",
    "    3. Re-call the function for each of the surrounding adjacent cells to identify other consecutive cells who are safe.\n",
    "    4. Return a list of the coordinates of a contiguous block of safe cells\n",
    "    5. Mark the cells to be safe and calculate number of surrounding mines for border cells.\n",
    "\n",
    "4. Verify the Game status, Game is won if:\n",
    "    1. All mines are flagged\n",
    "    2. All safe cells are cleared\n",
    "    Game is lost if:\n",
    "    1. A mine was dug by the user\n",
    "\n",
    "5. Return the final result back to the front end. If a safe cell was dug, send out a JSON containing an array of the coordinates of the cell and it's safe neighbors. If a mine was dug, send a JSON containing a boolean value to signify the end of the game. \n"
   ]
  },
  {
   "cell_type": "markdown",
   "metadata": {},
   "source": [
    "## **CHALLENGE 1:** OOP\n",
    "Below is the currently implemented code for the gameboard and each individual node.  \n",
    "\n",
    "Here is the code for each individual node in the minesweeper:"
   ]
  },
  {
   "cell_type": "code",
   "execution_count": 3,
   "metadata": {},
   "outputs": [],
   "source": [
    "from enum import Enum\n",
    "from random import randint"
   ]
  },
  {
   "cell_type": "code",
   "execution_count": 4,
   "metadata": {},
   "outputs": [],
   "source": [
    "class MType(Enum):\n",
    "    SAFE = 1\n",
    "    MINE = 2     \n",
    "\n",
    "class MStatus(Enum):\n",
    "    UNKNOWN = 1\n",
    "    DUG = 2  \n",
    "    FLAG = 3  \n",
    "\n",
    "class Node:\n",
    "    def __init__(self):\n",
    "        self.type = MType.SAFE\n",
    "        self.status = MStatus.UNKNOWN\n",
    "        self.value = \"-\"\n",
    "    \n",
    "    def setInitialValue(self):\n",
    "        if self.type == MType.MINE:\n",
    "            self.value=\"M\""
   ]
  },
  {
   "cell_type": "markdown",
   "metadata": {},
   "source": [
    "Here is the Code for the Minesweeper gameboard and its methods."
   ]
  },
  {
   "cell_type": "code",
   "execution_count": 5,
   "metadata": {},
   "outputs": [],
   "source": [
    "# Custome Errors\n",
    "class NotInBoard(Exception):\n",
    "    pass\n",
    "\n",
    "class Minesweeper:\n",
    "    # Class constructor, containing game data\n",
    "    def __init__(self):\n",
    "        self.mine_coords = []\n",
    "        self.board = []\n",
    "        self.rows = 0\n",
    "        self.cols = 0\n",
    "        self.gameWin = False\n",
    "        self.gameOver = False\n",
    "\n",
    "    # Create the gameboard on a given input of rows and columns\n",
    "    def generateBoard(self,r,c):\n",
    "        self.rows = r\n",
    "        self.cols = c\n",
    "        self.board = [[Node() for i in range(self.rows)] for i in range(self.cols)]\n",
    "        return self.board\n",
    "\n",
    "    # Print the current board\n",
    "    def printBoard(self):\n",
    "        res = \"\"\n",
    "        for row in self.board:\n",
    "            concat = \"\"\n",
    "            for column in row:\n",
    "                concat = concat + column.value + \" \"\n",
    "            concat = concat.strip() + \"\\n\"\n",
    "            res = res+concat\n",
    "        print(res)\n",
    "        return 0\n",
    "\n",
    "    # Generate the coordinates of the mines AFTER the first user input\n",
    "    # THE FIRST ACTION ON A CELL WOULD NEVER BE A MINE!\n",
    "    def setMines(self):\n",
    "        num_of_mines = (self.rows * self.cols)//4\n",
    "        counter = 0\n",
    "        while counter <= num_of_mines:\n",
    "            mine_coord = (randint(0,self.rows-1),randint(0,self.cols-1))\n",
    "            print(\"Mine coord: \", mine_coord)\n",
    "            if mine_coord in self.mine_coords:\n",
    "                continue\n",
    "            self.board[mine_coord[0]][mine_coord[1]].type = MType.MINE\n",
    "            self.mine_coords.append(mine_coord)\n",
    "            counter +=1\n",
    "        for i in range(self.rows):\n",
    "            for j in range(self.cols):\n",
    "                self.board[i][j].setInitialValue()\n",
    "        return 0\n",
    "\n",
    "    # The first click of the game\n",
    "    def firstClick(self):\n",
    "        self.printBoard()\n",
    "        try:\n",
    "            ipt = input(\"What row and column? (format in row,column): \")\n",
    "            row, col = int(ipt.split(\",\")[0]), int(ipt.split(\",\")[1])\n",
    "            if row not in range(1,self.rows+1) or col not in range(1,self.cols+1):\n",
    "                print(\"Values not in bound, try again\")\n",
    "                raise NotInBoard\n",
    "            self.setMines()\n",
    "        except NotInBoard:\n",
    "            self.firstClick()\n",
    "\n",
    "    # Following actions after the first-dig\n",
    "    # checkAdkacent function will be created soon\n",
    "    def digMine(self, r ,c):\n",
    "        if self.board[r][c].type == MType.MINE:\n",
    "            self.gameOver = True\n",
    "        else:\n",
    "            safe_mines = self.checkAdjacent(r,c)"
   ]
  },
  {
   "cell_type": "markdown",
   "metadata": {},
   "source": [
    "## **CHALLENGE 2:** Enumerated types\n",
    "This part is kinda free tho ngl"
   ]
  },
  {
   "cell_type": "code",
   "execution_count": 6,
   "metadata": {},
   "outputs": [],
   "source": [
    "from enum import Enum\n",
    "\n",
    "class MType(Enum):\n",
    "    SAFE = 1\n",
    "    MINE = 2     \n",
    "\n",
    "class MStatus(Enum):\n",
    "    UNKNOWN = 1\n",
    "    DUG = 2  \n",
    "    FLAG = 3  "
   ]
  },
  {
   "cell_type": "markdown",
   "metadata": {},
   "source": [
    "## **CHALLENGE 3:** Recursive algorithm"
   ]
  },
  {
   "cell_type": "code",
   "execution_count": null,
   "metadata": {},
   "outputs": [],
   "source": [
    "def revealCells(self, r, c):\n",
    "    if r < 0 or r >= self.rows or c < 0 or c >= self.cols:\n",
    "        return\n",
    "    if self.board[r][c].type == MType.MINE:\n",
    "        return\n",
    "    elif self.board[r][c].adjacent == 0 and self.board[r][c].display == \"-\":\n",
    "        self.safe_field.append([(r,c)])\n",
    "        self.board[r][c].reveal()\n",
    "        self.revealCells(r-1,c-1)\n",
    "        self.revealCells(r-1,c)\n",
    "        self.revealCells(r-1,r+1)\n",
    "        self.revealCells(r,c-1)\n",
    "        self.revealCells(r,c+1)\n",
    "        self.revealCells(r+1,c-1)\n",
    "        self.revealCells(r+1,c)\n",
    "        self.revealCells(r+1,c+1)"
   ]
  },
  {
   "cell_type": "markdown",
   "metadata": {},
   "source": [
    "## **CHALLENGE 4:** Game Status\n",
    "\n",
    "Yet to be implemented"
   ]
  },
  {
   "cell_type": "markdown",
   "metadata": {},
   "source": [
    "## **CHALLENGE 5:** JSON communication\n",
    "\n",
    "Yet to be implemented"
   ]
  },
  {
   "cell_type": "markdown",
   "metadata": {},
   "source": [
    "## **Current Game Implementation**"
   ]
  },
  {
   "cell_type": "code",
   "execution_count": 8,
   "metadata": {},
   "outputs": [
    {
     "name": "stdout",
     "output_type": "stream",
     "text": [
      "- - - - - - - - - -\n",
      "- - - - - - - - - -\n",
      "- - - - - - - - - -\n",
      "- - - - - - - - - -\n",
      "- - - - - - - - - -\n",
      "- - - - - - - - - -\n",
      "- - - - - - - - - -\n",
      "- - - - - - - - - -\n",
      "- - - - - - - - - -\n",
      "- - - - - - - - - -\n",
      "\n",
      "Mine coord:  (3, 8)\n",
      "Mine coord:  (9, 2)\n",
      "Mine coord:  (4, 7)\n",
      "Mine coord:  (7, 3)\n",
      "Mine coord:  (9, 6)\n",
      "Mine coord:  (8, 1)\n",
      "Mine coord:  (5, 1)\n",
      "Mine coord:  (7, 6)\n",
      "Mine coord:  (5, 5)\n",
      "Mine coord:  (8, 4)\n",
      "Mine coord:  (7, 2)\n",
      "Mine coord:  (4, 7)\n",
      "Mine coord:  (8, 3)\n",
      "Mine coord:  (2, 9)\n",
      "Mine coord:  (0, 9)\n",
      "Mine coord:  (5, 4)\n",
      "Mine coord:  (7, 9)\n",
      "Mine coord:  (2, 0)\n",
      "Mine coord:  (0, 1)\n",
      "Mine coord:  (4, 4)\n",
      "Mine coord:  (4, 2)\n",
      "Mine coord:  (6, 3)\n",
      "Mine coord:  (0, 6)\n",
      "Mine coord:  (3, 0)\n",
      "Mine coord:  (9, 7)\n",
      "Mine coord:  (8, 3)\n",
      "Mine coord:  (4, 9)\n",
      "Mine coord:  (9, 6)\n",
      "Mine coord:  (3, 9)\n",
      "- M - - - - M - - M\n",
      "- - - - - - - - - -\n",
      "M - - - - - - - - M\n",
      "M - - - - - - - M M\n",
      "- - M - M - - M - M\n",
      "- M - - M M - - - -\n",
      "- - - M - - - - - -\n",
      "- - M M - - M - - M\n",
      "- M - M M - - - - -\n",
      "- - M - - - M M - -\n",
      "\n",
      "List of generated mine coordinates:  [(3, 8), (9, 2), (4, 7), (7, 3), (9, 6), (8, 1), (5, 1), (7, 6), (5, 5), (8, 4), (7, 2), (8, 3), (2, 9), (0, 9), (5, 4), (7, 9), (2, 0), (0, 1), (4, 4), (4, 2), (6, 3), (0, 6), (3, 0), (9, 7), (4, 9), (3, 9)]\n"
     ]
    }
   ],
   "source": [
    "def main():\n",
    "    MS = Minesweeper()\n",
    "    rows = int(input(\"How many rows do you want? \"))\n",
    "    cols = int(input(\"How many columns do you want? \"))\n",
    "\n",
    "    MS.generateBoard(cols, rows)\n",
    "    MS.firstClick()\n",
    "    MS.printBoard()\n",
    "    # Define a while lop here to loop game.\n",
    "    print(\"List of generated mine coordinates: \", MS.mine_coords)\n",
    "\n",
    "main()"
   ]
  },
  {
   "cell_type": "markdown",
   "metadata": {},
   "source": [
    "<img src=\"https://ylu-1258.github.io/YLu-Blog/images/scrum_methodology.png\" alt=\"Scrum Process\">"
   ]
  },
  {
   "cell_type": "code",
   "execution_count": 7,
   "metadata": {},
   "outputs": [
    {
     "data": {
      "text/html": [
       "<img src=\"https://ylu-1258.github.io/YLu-Blog/images/scrum_methodology.png\"/>"
      ],
      "text/plain": [
       "<IPython.core.display.Image object>"
      ]
     },
     "execution_count": 7,
     "metadata": {},
     "output_type": "execute_result"
    }
   ],
   "source": [
    "#hide_input\n",
    "from IPython.display import Image\n",
    "\n",
    "# get the image\n",
    "Image(url=\"https://ylu-1258.github.io/YLu-Blog/images/scrum_methodology.png\")"
   ]
  },
  {
   "cell_type": "markdown",
   "metadata": {},
   "source": [
    "## Collegeboard's 6 main criteria"
   ]
  },
  {
   "cell_type": "markdown",
   "metadata": {},
   "source": [
    "### Program Purpose & Function\n",
    "\n",
    "- An online single-player minesweeper game that can be played anywhere, anytime  \n",
    "- Users could choose to store data such as high scores (minimum number of moves or time) if they wish."
   ]
  },
  {
   "cell_type": "markdown",
   "metadata": {},
   "source": [
    "### Data Abstraction\n",
    "- Using the `sqlite3` library on python to store user names and each user's corresponding information, such as high-score\n",
    "- Using python lists to store the state of the game, what nodes or cells are revealed, flagged, hidden, etc.\n",
    "- Creating a main class for the game and then establishing a constructor that initializes other object attributes for the main game to access or manipulate."
   ]
  },
  {
   "cell_type": "markdown",
   "metadata": {},
   "source": [
    "### Managing Complexity\n",
    "- Maintaining user data in a organized manner with software like databases (SQL).\n",
    "- Using loops to reduce repetitive code / allow for a dynamic number of times for the execution of our code."
   ]
  },
  {
   "cell_type": "markdown",
   "metadata": {},
   "source": [
    "### Procedural Abstraction\n",
    "- Establishing a set of enumerated types to link certain values with constants. \n",
    "    - Used to established the different states of a node or the particular status of that cell.\n",
    "- Using a main class to cover the Minesweeper Game:\n",
    "    - The class will contain a constructor, attributes, and methods to ensure smooth gameplay.\n",
    "    - This will simplify the programming process too as each individual method under the class will \"inherit\" the attributes of the class. This expands the scope of our functions sort of \"links\" them together. (Methods work in harmony with each other)\n",
    "- Creating templates for SQL queries, JSON queries, and also html pages to reduce the amount of manual programing required"
   ]
  },
  {
   "cell_type": "markdown",
   "metadata": {},
   "source": [
    "### Algorithm Implementation\n",
    "- Maintain a clear-board at the begining of the game. On the first input (click) from the user, start randomly generating `N=(M//3)` number of mines, where M is the total number of mines. \n",
    "    - Use the `random` module to generate a set of integers within the bounds of the array, generate two integers from each mine to indicate the row or coloumn coordinate. Finally, add both generated values into a tuple which will then be appended to a list containing all of the mine coordinates.\n",
    "    - AS OF **10/10** Consider using the `RapidAPI minesweeper API` to generate a board. (However this limits our flexibility as the first mine clicked might be an actual mine, leading to an inevitable loss).\n",
    "- Use an overall gameloop that checks the status of the game on each \"turn of the game\" (iteration of the game).\n",
    "    - If `gameOver == true`, signify that the game is over\n",
    "        - Use control flow statements such as if-else-elif to determine wether or not a user has clicked on a mine. If yes, set `gameOver` to `true`, if not, continue with the current iteration of the loop. \n",
    "        - Based on the current state of the board, if there are no mines left, return a win screen. If there are mines left, assume that the player clicked on a mine and return a lose screen.\n",
    "- Within each iteration, prompt the user to input a coordinate point (When testing, use terminal input with standard `(x,y)` input, for the final product, clicking each cell should return a coordinate automatically to the python backend).\n",
    "    - **Hard part is detecting a nearby \"safe grid\" for each mine clicked, while subsequently revealing all the mines in the safe grid**\n",
    "    - We have decided to use a **recursive** approach to resolve this problem. The recursive approach will store a list of safe mines. It will first append the mine clicked by the user (assuming that the mine passes the safe check). Following this, the algorithm will then check the `(r+1,c), (r+1,c-1), (r+1,c+1), (r,c-1), (r,c+1), (r-1,c), (r-1,c-1), and (r-1,c+1)` coordinates to determine wether or not surrouding cells are safe or not. Recursively execute the same process for each the 8 mines adjacent to the initial cell and stop until an \"edge-mine\" is reached.\n",
    "- Communiate user input and program output via JSON queries between the python backend and the HTML/CSS/JS frontend."
   ]
  },
  {
   "cell_type": "markdown",
   "metadata": {},
   "source": []
  }
 ],
 "metadata": {
  "kernelspec": {
   "display_name": "Python 3.8.10 64-bit",
   "language": "python",
   "name": "python3"
  },
  "language_info": {
   "codemirror_mode": {
    "name": "ipython",
    "version": 3
   },
   "file_extension": ".py",
   "mimetype": "text/x-python",
   "name": "python",
   "nbconvert_exporter": "python",
   "pygments_lexer": "ipython3",
   "version": "3.8.10"
  },
  "orig_nbformat": 4,
  "vscode": {
   "interpreter": {
    "hash": "916dbcbb3f70747c44a77c7bcd40155683ae19c65e1c03b4aa3499c5328201f1"
   }
  }
 },
 "nbformat": 4,
 "nbformat_minor": 2
}
