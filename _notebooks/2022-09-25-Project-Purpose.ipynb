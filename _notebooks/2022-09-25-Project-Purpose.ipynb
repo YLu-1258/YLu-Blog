{
 "cells": [
  {
   "cell_type": "markdown",
   "metadata": {},
   "source": [
    "# Project Details\n",
    "> What is the idea behind our Project?\n",
    "- toc: true\n",
    "- title: Project Details\n",
    "- author: Alex Lu\n",
    "- badges: true\n",
    "- comments: true\n",
    "- categories: [jupyter,APCSP,week 5]\n",
    "- author: Alex Lu"
   ]
  },
  {
   "cell_type": "markdown",
   "metadata": {},
   "source": [
    "## The Idea\n",
    "\n",
    "Our team wishes to build a minesweeper game with a python backend that could consistently communicate with our front-end website to bring a new degree of sophistication and aesthetic to this classic Game. This project would be split into two main portions each with it's own challenge. The first portion would be making the game engine in python, while the latter portion would be to design and create an aesthetically pleasing and functional frontend to display the Game Status"
   ]
  },
  {
   "cell_type": "markdown",
   "metadata": {},
   "source": [
    "## The Frontend\n",
    "The frontend aspect of this project should preferably display a grid of the game and incorporate some aspect of user input. Preliminary testing and experimentation could be done through textbox inputs of coordinate values, while prospective functions could include individual buttons on the Grid itself to provide a GUI for the user to interact with. In both cases, the frontend should be able to communicate with the python backend through JSON data to send and receive data.  \n",
    "\n",
    "More aspects about the Frontend aspects will be added with additional planning in the future.\n",
    "\n",
    "![]({{site.baseurl}}/images/minesweeper_diagram.png \"Minesweeper design methodology and interactions\")"
   ]
  },
  {
   "cell_type": "markdown",
   "metadata": {},
   "source": [
    "## The Backend\n",
    "Arguably the more challenging half of this project, the backend would primarily serve to be the game engine of the minesweeper game. Additionally, the backend would also control and organize the various pages and menus on the website. In this writeup, we will only be focusing on the main goals and challenges faced by the Backend team.\n",
    "\n",
    "1. Using Object Oriented Programming to create individual objects for the game. Some aspects that could be represented by such objects would be the gameboard and also the individual cells and nodes present within the game board.\n",
    "    1. Doing so would simplify the algorithmic aspect of the game, as the board itself could have methods and attributes to help control the game logic. \n",
    "    2. Morever, using an object to represent an individual cell in the board would provide greater functionalities than just using a single variable  \n",
    "2. Use Enumerated types with the python `enum` module to create different values for the type and status of each node. Each of these types could then be bound to a constant value which could then be printed on the screen\n",
    "\n",
    "3. Use Recursion to create an algorithm to recursively detect adjacent cells that are safe (AKA not mines). This algorithm would work in the following format\n",
    "    1. Maintain a list of current cells already determined to be safe\n",
    "    2. Verify if the four adjacent (up, down, left, right) cells next to the selected cell are safe or not, if safe, store the coordinate point in the list, if not, record the cell as a \"border cell\", terminate the recursive process, and run another helper function to determine the precise number of mines surrounding the cell\n",
    "    3. Re-call the function for each of the surrounding adjacent cells to identify other consecutive cells who are safe.\n",
    "    4. Return a list of the coordinates of a contiguous block of safe cells\n",
    "    5. Mark the cells to be safe and calculate number of surrounding mines for border cells.\n",
    "\n",
    "4. Verify the Game status, Game is won if:\n",
    "    1. All mines are flagged\n",
    "    2. All safe cells are cleared\n",
    "    Game is lost if:\n",
    "    1. A mine was dug by the user\n",
    "\n",
    "5. Return the final result back to the front end. If a safe cell was dug, send out a JSON containing an array of the coordinates of the cell and it's safe neighbors. If a mine was dug, send a JSON containing a boolean value to signify the end of the game. \n"
   ]
  },
  {
   "cell_type": "markdown",
   "metadata": {},
   "source": [
    "## **CHALLENGE 1:** OOP\n",
    "Below is the currently implemented code for the gameboard and each individual node.  \n",
    "\n",
    "Here is the code for each individual node in the minesweeper:"
   ]
  },
  {
   "cell_type": "code",
   "execution_count": 3,
   "metadata": {},
   "outputs": [],
   "source": [
    "from enum import Enum\n",
    "from random import randint"
   ]
  },
  {
   "cell_type": "code",
   "execution_count": 4,
   "metadata": {},
   "outputs": [],
   "source": [
    "class MType(Enum):\n",
    "    SAFE = 1\n",
    "    MINE = 2     \n",
    "\n",
    "class MStatus(Enum):\n",
    "    UNKNOWN = 1\n",
    "    DUG = 2  \n",
    "    FLAG = 3  \n",
    "\n",
    "class Node:\n",
    "    def __init__(self):\n",
    "        self.type = MType.SAFE\n",
    "        self.status = MStatus.UNKNOWN\n",
    "        self.value = \"-\"\n",
    "    \n",
    "    def setInitialValue(self):\n",
    "        if self.type == MType.MINE:\n",
    "            self.value=\"M\""
   ]
  },
  {
   "cell_type": "markdown",
   "metadata": {},
   "source": [
    "Here is the Code for the Minesweeper gameboard and its methods."
   ]
  },
  {
   "cell_type": "code",
   "execution_count": 5,
   "metadata": {},
   "outputs": [],
   "source": [
    "# Custome Errors\n",
    "class NotInBoard(Exception):\n",
    "    pass\n",
    "\n",
    "class Minesweeper:\n",
    "    # Class constructor, containing game data\n",
    "    def __init__(self):\n",
    "        self.mine_coords = []\n",
    "        self.board = []\n",
    "        self.rows = 0\n",
    "        self.cols = 0\n",
    "        self.gameWin = False\n",
    "        self.gameOver = False\n",
    "\n",
    "    # Create the gameboard on a given input of rows and columns\n",
    "    def generateBoard(self,r,c):\n",
    "        self.rows = r\n",
    "        self.cols = c\n",
    "        self.board = [[Node() for i in range(self.rows)] for i in range(self.cols)]\n",
    "        return self.board\n",
    "\n",
    "    # Print the current board\n",
    "    def printBoard(self):\n",
    "        res = \"\"\n",
    "        for row in self.board:\n",
    "            concat = \"\"\n",
    "            for column in row:\n",
    "                concat = concat + column.value + \" \"\n",
    "            concat = concat.strip() + \"\\n\"\n",
    "            res = res+concat\n",
    "        print(res)\n",
    "        return 0\n",
    "\n",
    "    # Generate the coordinates of the mines AFTER the first user input\n",
    "    # THE FIRST ACTION ON A CELL WOULD NEVER BE A MINE!\n",
    "    def setMines(self):\n",
    "        num_of_mines = (self.rows * self.cols)//4\n",
    "        counter = 0\n",
    "        while counter <= num_of_mines:\n",
    "            mine_coord = (randint(0,self.rows-1),randint(0,self.cols-1))\n",
    "            print(\"Mine coord: \", mine_coord)\n",
    "            if mine_coord in self.mine_coords:\n",
    "                continue\n",
    "            self.board[mine_coord[0]][mine_coord[1]].type = MType.MINE\n",
    "            self.mine_coords.append(mine_coord)\n",
    "            counter +=1\n",
    "        for i in range(self.rows):\n",
    "            for j in range(self.cols):\n",
    "                self.board[i][j].setInitialValue()\n",
    "        return 0\n",
    "\n",
    "    # The first click of the game\n",
    "    def firstClick(self):\n",
    "        self.printBoard()\n",
    "        try:\n",
    "            ipt = input(\"What row and column? (format in row,column): \")\n",
    "            row, col = int(ipt.split(\",\")[0]), int(ipt.split(\",\")[1])\n",
    "            if row not in range(1,self.rows+1) or col not in range(1,self.cols+1):\n",
    "                print(\"Values not in bound, try again\")\n",
    "                raise NotInBoard\n",
    "            self.setMines()\n",
    "        except NotInBoard:\n",
    "            self.firstClick()\n",
    "\n",
    "    # Following actions after the first-dig\n",
    "    # checkAdkacent function will be created soon\n",
    "    def digMine(self, r ,c):\n",
    "        if self.board[r][c].type == MType.MINE:\n",
    "            self.gameOver = True\n",
    "        else:\n",
    "            safe_mines = self.checkAdjacent(r,c)"
   ]
  },
  {
   "cell_type": "markdown",
   "metadata": {},
   "source": [
    "## **CHALLENGE 2:** Enumerated types\n",
    "This part is kinda free tho ngl"
   ]
  },
  {
   "cell_type": "code",
   "execution_count": 6,
   "metadata": {},
   "outputs": [],
   "source": [
    "from enum import Enum\n",
    "\n",
    "class MType(Enum):\n",
    "    SAFE = 1\n",
    "    MINE = 2     \n",
    "\n",
    "class MStatus(Enum):\n",
    "    UNKNOWN = 1\n",
    "    DUG = 2  \n",
    "    FLAG = 3  "
   ]
  },
  {
   "cell_type": "markdown",
   "metadata": {},
   "source": [
    "## **CHALLENGE 3:** Recursive algorithm\n",
    "\n",
    "Yet to be implemented"
   ]
  },
  {
   "cell_type": "markdown",
   "metadata": {},
   "source": [
    "## **CHALLENGE 4:** Yet to be implemented\n",
    "\n",
    "Yet to be implemented"
   ]
  },
  {
   "cell_type": "markdown",
   "metadata": {},
   "source": [
    "## **CHALLENGE 5:** JSON communication\n",
    "\n",
    "Yet to be implemented"
   ]
  },
  {
   "cell_type": "markdown",
   "metadata": {},
   "source": [
    "## **Current Game Implementation**"
   ]
  },
  {
   "cell_type": "code",
   "execution_count": 8,
   "metadata": {},
   "outputs": [
    {
     "name": "stdout",
     "output_type": "stream",
     "text": [
      "- - - - - - - - - -\n",
      "- - - - - - - - - -\n",
      "- - - - - - - - - -\n",
      "- - - - - - - - - -\n",
      "- - - - - - - - - -\n",
      "- - - - - - - - - -\n",
      "- - - - - - - - - -\n",
      "- - - - - - - - - -\n",
      "- - - - - - - - - -\n",
      "- - - - - - - - - -\n",
      "\n",
      "Mine coord:  (3, 8)\n",
      "Mine coord:  (9, 2)\n",
      "Mine coord:  (4, 7)\n",
      "Mine coord:  (7, 3)\n",
      "Mine coord:  (9, 6)\n",
      "Mine coord:  (8, 1)\n",
      "Mine coord:  (5, 1)\n",
      "Mine coord:  (7, 6)\n",
      "Mine coord:  (5, 5)\n",
      "Mine coord:  (8, 4)\n",
      "Mine coord:  (7, 2)\n",
      "Mine coord:  (4, 7)\n",
      "Mine coord:  (8, 3)\n",
      "Mine coord:  (2, 9)\n",
      "Mine coord:  (0, 9)\n",
      "Mine coord:  (5, 4)\n",
      "Mine coord:  (7, 9)\n",
      "Mine coord:  (2, 0)\n",
      "Mine coord:  (0, 1)\n",
      "Mine coord:  (4, 4)\n",
      "Mine coord:  (4, 2)\n",
      "Mine coord:  (6, 3)\n",
      "Mine coord:  (0, 6)\n",
      "Mine coord:  (3, 0)\n",
      "Mine coord:  (9, 7)\n",
      "Mine coord:  (8, 3)\n",
      "Mine coord:  (4, 9)\n",
      "Mine coord:  (9, 6)\n",
      "Mine coord:  (3, 9)\n",
      "- M - - - - M - - M\n",
      "- - - - - - - - - -\n",
      "M - - - - - - - - M\n",
      "M - - - - - - - M M\n",
      "- - M - M - - M - M\n",
      "- M - - M M - - - -\n",
      "- - - M - - - - - -\n",
      "- - M M - - M - - M\n",
      "- M - M M - - - - -\n",
      "- - M - - - M M - -\n",
      "\n",
      "List of generated mine coordinates:  [(3, 8), (9, 2), (4, 7), (7, 3), (9, 6), (8, 1), (5, 1), (7, 6), (5, 5), (8, 4), (7, 2), (8, 3), (2, 9), (0, 9), (5, 4), (7, 9), (2, 0), (0, 1), (4, 4), (4, 2), (6, 3), (0, 6), (3, 0), (9, 7), (4, 9), (3, 9)]\n"
     ]
    }
   ],
   "source": [
    "def main():\n",
    "    MS = Minesweeper()\n",
    "    rows = int(input(\"How many rows do you want? \"))\n",
    "    cols = int(input(\"How many columns do you want? \"))\n",
    "\n",
    "    MS.generateBoard(cols, rows)\n",
    "    MS.firstClick()\n",
    "    MS.printBoard()\n",
    "    # Define a while lop here to loop game.\n",
    "    print(\"List of generated mine coordinates: \", MS.mine_coords)\n",
    "\n",
    "main()"
   ]
  }
 ],
 "metadata": {
  "kernelspec": {
   "display_name": "Python 3.8.10 64-bit",
   "language": "python",
   "name": "python3"
  },
  "language_info": {
   "codemirror_mode": {
    "name": "ipython",
    "version": 3
   },
   "file_extension": ".py",
   "mimetype": "text/x-python",
   "name": "python",
   "nbconvert_exporter": "python",
   "pygments_lexer": "ipython3",
   "version": "3.8.10"
  },
  "orig_nbformat": 4,
  "vscode": {
   "interpreter": {
    "hash": "916dbcbb3f70747c44a77c7bcd40155683ae19c65e1c03b4aa3499c5328201f1"
   }
  }
 },
 "nbformat": 4,
 "nbformat_minor": 2
}
