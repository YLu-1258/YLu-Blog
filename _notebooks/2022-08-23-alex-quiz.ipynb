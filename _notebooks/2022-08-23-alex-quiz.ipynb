{
 "cells": [
  {
   "cell_type": "code",
   "execution_count": null,
   "metadata": {},
   "outputs": [],
   "source": [
    "# Simple Python Quiz\n",
    "> Are you a 1337 coder?\n",
    "- toc: true\n",
    "- title: Python Quiz\n",
    "- author: Alex Lu\n",
    "- badges: true\n",
    "- comments: true\n",
    "- categories: [jupyter]"
   ]
  },
  {
   "cell_type": "code",
   "execution_count": 2,
   "metadata": {},
   "outputs": [
    {
     "name": "stdout",
     "output_type": "stream",
     "text": [
      "\u001b[95mQUESTION: \u001b[0m\u001b[1mWhat command is used to print an output in Python? (Exculude parenthesis)\u001b[0m\n",
      "\u001b[92mYOU ARE CORRECT!\u001b[0m\n",
      "\u001b[95mQUESTION: \u001b[0m\u001b[1mWhat keyword is used to define a class? (Exculude parenthesis)\u001b[0m\n",
      "\u001b[92mYOU ARE CORRECT!\u001b[0m\n",
      "\u001b[95mQUESTION: \u001b[0m\u001b[1mWhat are the four aspects of OOP? (seperate using spaces, sort alphabetically)\u001b[0m\n",
      "\u001b[92mYOU ARE CORRECT!\u001b[0m\n",
      "\u001b[95mQUESTION: \u001b[0m\u001b[1mWhat data structure uses the \"LIFO\" method?\u001b[0m\n",
      "\u001b[92mYOU ARE CORRECT!\u001b[0m\n"
     ]
    },
    {
     "ename": "TypeError",
     "evalue": "can only concatenate str (not \"int\") to str",
     "output_type": "error",
     "traceback": [
      "\u001b[0;31m---------------------------------------------------------------------------\u001b[0m",
      "\u001b[0;31mTypeError\u001b[0m                                 Traceback (most recent call last)",
      "\u001b[1;32m/home/eris29/vscode/YLu-Blog/_notebooks/2022-08-23-alex-quiz.ipynb Cell 2\u001b[0m in \u001b[0;36m<cell line: 54>\u001b[0;34m()\u001b[0m\n\u001b[1;32m     <a href='vscode-notebook-cell://wsl%2Bubuntu-20.04/home/eris29/vscode/YLu-Blog/_notebooks/2022-08-23-alex-quiz.ipynb#W1sdnNjb2RlLXJlbW90ZQ%3D%3D?line=51'>52</a>\u001b[0m q1\u001b[39m.\u001b[39maddQues(\u001b[39m\"\u001b[39m\u001b[39mWhat are the four aspects of OOP? (seperate using spaces, sort alphabetically)\u001b[39m\u001b[39m\"\u001b[39m, \u001b[39m\"\u001b[39m\u001b[39mAbstraction Encapsulation Inheritance Polymorphism\u001b[39m\u001b[39m\"\u001b[39m)\n\u001b[1;32m     <a href='vscode-notebook-cell://wsl%2Bubuntu-20.04/home/eris29/vscode/YLu-Blog/_notebooks/2022-08-23-alex-quiz.ipynb#W1sdnNjb2RlLXJlbW90ZQ%3D%3D?line=52'>53</a>\u001b[0m q1\u001b[39m.\u001b[39maddQues(\u001b[39m'\u001b[39m\u001b[39mWhat data structure uses the \u001b[39m\u001b[39m\"\u001b[39m\u001b[39mLIFO\u001b[39m\u001b[39m\"\u001b[39m\u001b[39m method?\u001b[39m\u001b[39m'\u001b[39m, \u001b[39m\"\u001b[39m\u001b[39mstack\u001b[39m\u001b[39m\"\u001b[39m)\n\u001b[0;32m---> <a href='vscode-notebook-cell://wsl%2Bubuntu-20.04/home/eris29/vscode/YLu-Blog/_notebooks/2022-08-23-alex-quiz.ipynb#W1sdnNjb2RlLXJlbW90ZQ%3D%3D?line=53'>54</a>\u001b[0m q1\u001b[39m.\u001b[39;49mplayQuiz()\n",
      "\u001b[1;32m/home/eris29/vscode/YLu-Blog/_notebooks/2022-08-23-alex-quiz.ipynb Cell 2\u001b[0m in \u001b[0;36mQuiz.playQuiz\u001b[0;34m(self)\u001b[0m\n\u001b[1;32m     <a href='vscode-notebook-cell://wsl%2Bubuntu-20.04/home/eris29/vscode/YLu-Blog/_notebooks/2022-08-23-alex-quiz.ipynb#W1sdnNjb2RlLXJlbW90ZQ%3D%3D?line=41'>42</a>\u001b[0m \u001b[39mfor\u001b[39;00m i \u001b[39min\u001b[39;00m \u001b[39mrange\u001b[39m(\u001b[39m0\u001b[39m,\u001b[39mself\u001b[39m\u001b[39m.\u001b[39mtotal):\n\u001b[1;32m     <a href='vscode-notebook-cell://wsl%2Bubuntu-20.04/home/eris29/vscode/YLu-Blog/_notebooks/2022-08-23-alex-quiz.ipynb#W1sdnNjb2RlLXJlbW90ZQ%3D%3D?line=42'>43</a>\u001b[0m     \u001b[39mself\u001b[39m\u001b[39m.\u001b[39maskQues(i)\n\u001b[0;32m---> <a href='vscode-notebook-cell://wsl%2Bubuntu-20.04/home/eris29/vscode/YLu-Blog/_notebooks/2022-08-23-alex-quiz.ipynb#W1sdnNjb2RlLXJlbW90ZQ%3D%3D?line=43'>44</a>\u001b[0m \u001b[39mprint\u001b[39m(\u001b[39mself\u001b[39;49m\u001b[39m.\u001b[39;49mcolors\u001b[39m.\u001b[39;49mLILAC \u001b[39m+\u001b[39;49m \u001b[39m\"\u001b[39;49m\u001b[39mCongratulations! you got \u001b[39;49m\u001b[39m\"\u001b[39;49m \u001b[39m+\u001b[39;49m \u001b[39mself\u001b[39;49m\u001b[39m.\u001b[39;49mcolors\u001b[39m.\u001b[39;49mGREEN \u001b[39m+\u001b[39;49m \u001b[39mself\u001b[39;49m\u001b[39m.\u001b[39;49mcorrect \u001b[39m+\u001b[39m \u001b[39m\"\u001b[39m\u001b[39m out of \u001b[39m\u001b[39m\"\u001b[39m \u001b[39m+\u001b[39m \u001b[39mself\u001b[39m\u001b[39m.\u001b[39mcolors\u001b[39m.\u001b[39mBLUE \u001b[39m+\u001b[39m  \u001b[39mself\u001b[39m\u001b[39m.\u001b[39mtotal \u001b[39m+\u001b[39m \u001b[39m\"\u001b[39m\u001b[39m questions right!\u001b[39m\u001b[39m\"\u001b[39m)\n",
      "\u001b[0;31mTypeError\u001b[0m: can only concatenate str (not \"int\") to str"
     ]
    }
   ],
   "source": [
    "class Colors:\n",
    "    PINK = '\\033[95m'\n",
    "    LILAC = '\\033[94m'\n",
    "    BLUE = '\\033[96m'\n",
    "    GREEN = '\\033[92m'\n",
    "    YELLOW = '\\033[93m'\n",
    "    RED = '\\033[91m'\n",
    "    ENDC = '\\033[0m'\n",
    "    BOLD = '\\033[1m'\n",
    "    UNDERLINE = '\\033[4m'\n",
    "\n",
    "class Quiz():\n",
    "    def __init__(self):\n",
    "        self.ques = []\n",
    "        self.ans = []\n",
    "        self.colors = Colors()\n",
    "        self.showans = False\n",
    "        self.total = 0\n",
    "        self.correct = 0\n",
    "\n",
    "    def addQues(self, question, answer):\n",
    "        self.ques.append(question)\n",
    "        self.ans.append(answer)\n",
    "        self.total += 1\n",
    "    \n",
    "    def askQues(self, idx):\n",
    "        print(self.colors.PINK + \"QUESTION: \" + self.colors.ENDC + self.colors.BOLD + self.ques[idx] + self.colors.ENDC)\n",
    "        rsp = input(self.colors.YELLOW + \"What is your response?\" + self.colors.ENDC)\n",
    "        if rsp.lower() == self.ans[idx].lower():\n",
    "            print(self.colors.GREEN + \"YOU ARE CORRECT!\" + self.colors.ENDC)\n",
    "            self.correct += 1\n",
    "        else:\n",
    "            if self.showans:\n",
    "                print(self.colors.RED + \"Response '\" + rsp + \"' is incorrect.\" + self.colors.ENDC + \" The right answer was \" + self.colors.BLUE + self.ans[idx] + self.colors.ENDC)\n",
    "            else:\n",
    "                print(self.colors.RED + \"Response '\" + rsp + \"' is incorrect.\" + self.colors.ENDC)\n",
    "\n",
    "    def playQuiz(self):\n",
    "        show_ans = input(self.colors.UNDERLINE + \"Would you like to show correct answers after incorrect responses? [y/n]\")\n",
    "        print(self.colors.YELLOW + \"GOOD LUCK!\")\n",
    "        if show_ans in [\"y\", \"yes\", \"Y\", \"YES\"]:\n",
    "            self.showans = True\n",
    "        for i in range(0,self.total):\n",
    "            self.askQues(i)\n",
    "        print(self.colors.LILAC + \"Congratulations! you got \" + self.colors.GREEN + str(self.correct) + \" out of \" + self.colors.BLUE +  str(self.total) + \" questions right!\")\n",
    "\n",
    "\n",
    "\n",
    "\n",
    "q1 = Quiz()\n",
    "\n",
    "# AYO CHEATER STOP LOOKIN HERE\n",
    "q1.addQues(\"What command is used to print an output in Python? (Exculude parenthesis)\", \"print\")\n",
    "q1.addQues(\"What keyword is used to define a class? (Exculude parenthesis)\", \"class\")\n",
    "q1.addQues(\"What are the four aspects of OOP? (seperate using spaces, sort alphabetically)\", \"Abstraction Encapsulation Inheritance Polymorphism\")\n",
    "q1.addQues('What data structure uses the \"LIFO\" method?', \"stack\")\n",
    "\n",
    "q1.playQuiz()"
   ]
  },
  {
   "cell_type": "code",
   "execution_count": null,
   "metadata": {},
   "outputs": [],
   "source": []
  }
 ],
 "metadata": {
  "kernelspec": {
   "display_name": "Python 3.8.10 64-bit",
   "language": "python",
   "name": "python3"
  },
  "language_info": {
   "codemirror_mode": {
    "name": "ipython",
    "version": 3
   },
   "file_extension": ".py",
   "mimetype": "text/x-python",
   "name": "python",
   "nbconvert_exporter": "python",
   "pygments_lexer": "ipython3",
   "version": "3.8.10"
  },
  "orig_nbformat": 4,
  "vscode": {
   "interpreter": {
    "hash": "916dbcbb3f70747c44a77c7bcd40155683ae19c65e1c03b4aa3499c5328201f1"
   }
  }
 },
 "nbformat": 4,
 "nbformat_minor": 2
}
