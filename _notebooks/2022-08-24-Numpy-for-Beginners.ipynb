{
  "cells": [
    {
      "cell_type": "markdown",
      "metadata": {},
      "source": [
        "# Numpy for beginners\n",
        "> From Alex Lu with Love\n",
        "- toc: true\n",
        "- title: Intro to Numpy\n",
        "- author: Alex Lu\n",
        "- badges: true\n",
        "- comments: true\n",
        "- categories: [jupyter,interests]"
      ]
    },
    {
      "cell_type": "markdown",
      "metadata": {
        "id": "fkLupYLyZ8kf"
      },
      "source": [
        "## NumPy\n",
        "\n",
        "NumPy is the fundamental package for scientific computing with Python.\n",
        "\n",
        "At the core of the NumPy package, is the `ndarray` object or n-dimensional array. In programming, array describes a collection of elements, similar to a list. The word n-dimensional refers to the fact that ndarrays can have one or more dimensions. \n",
        "\n",
        "Here I will directly convert a list to an ndarray using the `numpy.array()` constructor. To create a 1D ndarray, I can pass in a single list"
      ]
    },
    {
      "cell_type": "code",
      "execution_count": null,
      "metadata": {
        "id": "8B79LHsFY8sp"
      },
      "outputs": [],
      "source": [
        "import numpy as np #using the alias np\n",
        "array_data = np.array([1,2,3,4])"
      ]
    },
    {
      "cell_type": "code",
      "execution_count": null,
      "metadata": {
        "colab": {
          "base_uri": "https://localhost:8080/"
        },
        "id": "DhOjpT5ke2Ad",
        "outputId": "2ecd041a-e64f-48a9-8a5a-eec40625fa3a"
      },
      "outputs": [
        {
          "name": "stdout",
          "output_type": "stream",
          "text": [
            "[1 2 3 4]\n",
            "<class 'numpy.ndarray'>\n"
          ]
        }
      ],
      "source": [
        "print(array_data)\n",
        "print(type(array_data))"
      ]
    },
    {
      "cell_type": "markdown",
      "metadata": {
        "id": "9Y13LgrRkj1-"
      },
      "source": [
        "It's often useful to know the number of rows and columns in a ndarray. I can use the `ndarray.shape` attribute. \n"
      ]
    },
    {
      "cell_type": "code",
      "execution_count": null,
      "metadata": {},
      "outputs": [],
      "source": []
    },
    {
      "cell_type": "code",
      "execution_count": null,
      "metadata": {
        "colab": {
          "base_uri": "https://localhost:8080/"
        },
        "id": "lSijS57fjOnu",
        "outputId": "93ae5211-5dc7-402d-a7f8-6443bd2acee3"
      },
      "outputs": [
        {
          "name": "stdout",
          "output_type": "stream",
          "text": [
            "(2, 3)\n"
          ]
        }
      ],
      "source": [
        "array_2D = np.array([[5, 10, 15],\n",
        "                    [20, 25, 30]])\n",
        "print(array_2D.shape) \n"
      ]
    },
    {
      "cell_type": "markdown",
      "metadata": {
        "id": "7BjarFZpcKbI"
      },
      "source": [
        "### Vectorization in NumPy\n",
        "The NumPy library takes advantage of a processor feature called *Single Instruction Multiple Data (SIMD)* to process data faster. SIMD allows a processor to perform the same operation on multiple data points in a single processor cycle.\n",
        "\n",
        "The concept of replacing for loops with operations applied to multiple data points at once is called **vectorization**, and ndarrays make vectorization possible."
      ]
    },
    {
      "cell_type": "code",
      "execution_count": null,
      "metadata": {
        "colab": {
          "base_uri": "https://localhost:8080/"
        },
        "id": "98m8gYY2e4zR",
        "outputId": "0b62c482-ae8b-444b-d99b-49726e06b931"
      },
      "outputs": [
        {
          "name": "stdout",
          "output_type": "stream",
          "text": [
            "[6, 5]\n",
            "[1, 3]\n",
            "[5, 6]\n",
            "[1, 4]\n",
            "[3, 7]\n",
            "[5, 8]\n",
            "[3, 5]\n",
            "[8, 4]\n"
          ]
        }
      ],
      "source": [
        "numbers = [[6, 5], [1, 3], [5, 6], [1, 4], [3, 7], [5, 8], [3, 5], [8, 4]]\n",
        "print(*numbers, sep='\\n')"
      ]
    },
    {
      "cell_type": "code",
      "execution_count": null,
      "metadata": {
        "colab": {
          "base_uri": "https://localhost:8080/"
        },
        "id": "Cc-Iq9Gac7NX",
        "outputId": "f9ff2a41-c58a-4284-ea2b-2c70039cdeaf"
      },
      "outputs": [
        {
          "name": "stdout",
          "output_type": "stream",
          "text": [
            "[11, 4, 11, 5, 10, 13, 8, 12]\n"
          ]
        }
      ],
      "source": [
        "# Python for loops implementation\n",
        "sums = []\n",
        "for row in numbers:\n",
        "  row_sum = row[0] + row[1]\n",
        "  sums.append(row_sum)\n",
        "\n",
        "print(sums)"
      ]
    },
    {
      "cell_type": "code",
      "execution_count": null,
      "metadata": {
        "colab": {
          "base_uri": "https://localhost:8080/"
        },
        "id": "flqq55IGdNRI",
        "outputId": "43179191-2854-4e48-826d-4b5a6ba727db"
      },
      "outputs": [
        {
          "name": "stdout",
          "output_type": "stream",
          "text": [
            "[11  4 11  5 10 13  8 12]\n"
          ]
        }
      ],
      "source": [
        "# NumPy\n",
        "# Convert the list of lists to an ndarray\n",
        "np_numbers = np.array(numbers)\n",
        "sums = np_numbers[:,0] + np_numbers[:,1]\n",
        "print(sums)\n"
      ]
    },
    {
      "cell_type": "markdown",
      "metadata": {
        "id": "NAgHmn_tgbgW"
      },
      "source": [
        "When I selected each column, we used the syntax `ndarray[:,c]` where c is the column index I wanted to select. The colon selects all rows."
      ]
    },
    {
      "cell_type": "code",
      "execution_count": null,
      "metadata": {
        "colab": {
          "base_uri": "https://localhost:8080/"
        },
        "id": "9x7XvGEOf8-p",
        "outputId": "5a5b892b-59e5-4bde-d015-fea92805aca2"
      },
      "outputs": [
        {
          "name": "stdout",
          "output_type": "stream",
          "text": [
            "[[6 5]\n",
            " [5 6]\n",
            " [3 7]]\n"
          ]
        }
      ],
      "source": [
        "# Select one or more data in ndarray\n",
        "#print(np_numbers)\n",
        "#print(np_numbers[1])\n",
        "#print(np_numbers[2:])\n",
        "\n",
        "#print(np_numbers[3,1])\n",
        "#print(np_numbers[:,1])\n",
        "\n",
        "# Select specific row\n",
        "rows = [0, 2, 4]\n",
        "print(np_numbers[rows, :])"
      ]
    },
    {
      "cell_type": "markdown",
      "metadata": {
        "id": "EZGqeKAwMiyL"
      },
      "source": [
        "### Explore the numerical dataset\n",
        "To explore two-dimensional (2D) ndarrays, I'll analyze New York City taxi trip data released by the city of New York."
      ]
    },
    {
      "cell_type": "code",
      "execution_count": null,
      "metadata": {
        "colab": {
          "base_uri": "https://localhost:8080/"
        },
        "id": "-QcZLWceuVSz",
        "outputId": "9ca4f9fc-be0c-4e11-b07f-eff75b3a781e"
      },
      "outputs": [
        {
          "name": "stdout",
          "output_type": "stream",
          "text": [
            "/content/: Scheme missing.\n",
            "File ‘nyc_taxis.csv’ already there; not retrieving.\n",
            "\n"
          ]
        }
      ],
      "source": [
        "!wget -nc /content/ https://datasets21.s3-us-west-1.amazonaws.com/nyc_taxis.csv"
      ]
    },
    {
      "cell_type": "code",
      "execution_count": null,
      "metadata": {
        "colab": {
          "base_uri": "https://localhost:8080/"
        },
        "id": "_jB8gSmB6h1Q",
        "outputId": "f4f3f64d-ee8d-484d-ddc1-7a53858602dd"
      },
      "outputs": [
        {
          "name": "stdout",
          "output_type": "stream",
          "text": [
            "GNU Wget 1.19.4, a non-interactive network retriever.\n",
            "Usage: wget [OPTION]... [URL]...\n",
            "\n",
            "Mandatory arguments to long options are mandatory for short options too.\n",
            "\n",
            "Startup:\n",
            "  -V,  --version                   display the version of Wget and exit\n",
            "  -h,  --help                      print this help\n",
            "  -b,  --background                go to background after startup\n",
            "  -e,  --execute=COMMAND           execute a `.wgetrc'-style command\n",
            "\n",
            "Logging and input file:\n",
            "  -o,  --output-file=FILE          log messages to FILE\n",
            "  -a,  --append-output=FILE        append messages to FILE\n",
            "  -d,  --debug                     print lots of debugging information\n",
            "  -q,  --quiet                     quiet (no output)\n",
            "  -v,  --verbose                   be verbose (this is the default)\n",
            "  -nv, --no-verbose                turn off verboseness, without being quiet\n",
            "       --report-speed=TYPE         output bandwidth as TYPE.  TYPE can be bits\n",
            "  -i,  --input-file=FILE           download URLs found in local or external FILE\n",
            "  -F,  --force-html                treat input file as HTML\n",
            "  -B,  --base=URL                  resolves HTML input-file links (-i -F)\n",
            "                                     relative to URL\n",
            "       --config=FILE               specify config file to use\n",
            "       --no-config                 do not read any config file\n",
            "       --rejected-log=FILE         log reasons for URL rejection to FILE\n",
            "\n",
            "Download:\n",
            "  -t,  --tries=NUMBER              set number of retries to NUMBER (0 unlimits)\n",
            "       --retry-connrefused         retry even if connection is refused\n",
            "  -O,  --output-document=FILE      write documents to FILE\n",
            "  -nc, --no-clobber                skip downloads that would download to\n",
            "                                     existing files (overwriting them)\n",
            "       --no-netrc                  don't try to obtain credentials from .netrc\n",
            "  -c,  --continue                  resume getting a partially-downloaded file\n",
            "       --start-pos=OFFSET          start downloading from zero-based position OFFSET\n",
            "       --progress=TYPE             select progress gauge type\n",
            "       --show-progress             display the progress bar in any verbosity mode\n",
            "  -N,  --timestamping              don't re-retrieve files unless newer than\n",
            "                                     local\n",
            "       --no-if-modified-since      don't use conditional if-modified-since get\n",
            "                                     requests in timestamping mode\n",
            "       --no-use-server-timestamps  don't set the local file's timestamp by\n",
            "                                     the one on the server\n",
            "  -S,  --server-response           print server response\n",
            "       --spider                    don't download anything\n",
            "  -T,  --timeout=SECONDS           set all timeout values to SECONDS\n",
            "       --dns-timeout=SECS          set the DNS lookup timeout to SECS\n",
            "       --connect-timeout=SECS      set the connect timeout to SECS\n",
            "       --read-timeout=SECS         set the read timeout to SECS\n",
            "  -w,  --wait=SECONDS              wait SECONDS between retrievals\n",
            "       --waitretry=SECONDS         wait 1..SECONDS between retries of a retrieval\n",
            "       --random-wait               wait from 0.5*WAIT...1.5*WAIT secs between retrievals\n",
            "       --no-proxy                  explicitly turn off proxy\n",
            "  -Q,  --quota=NUMBER              set retrieval quota to NUMBER\n",
            "       --bind-address=ADDRESS      bind to ADDRESS (hostname or IP) on local host\n",
            "       --limit-rate=RATE           limit download rate to RATE\n",
            "       --no-dns-cache              disable caching DNS lookups\n",
            "       --restrict-file-names=OS    restrict chars in file names to ones OS allows\n",
            "       --ignore-case               ignore case when matching files/directories\n",
            "  -4,  --inet4-only                connect only to IPv4 addresses\n",
            "  -6,  --inet6-only                connect only to IPv6 addresses\n",
            "       --prefer-family=FAMILY      connect first to addresses of specified family,\n",
            "                                     one of IPv6, IPv4, or none\n",
            "       --user=USER                 set both ftp and http user to USER\n",
            "       --password=PASS             set both ftp and http password to PASS\n",
            "       --ask-password              prompt for passwords\n",
            "       --use-askpass=COMMAND       specify credential handler for requesting \n",
            "                                     username and password.  If no COMMAND is \n",
            "                                     specified the WGET_ASKPASS or the SSH_ASKPASS \n",
            "                                     environment variable is used.\n",
            "       --no-iri                    turn off IRI support\n",
            "       --local-encoding=ENC        use ENC as the local encoding for IRIs\n",
            "       --remote-encoding=ENC       use ENC as the default remote encoding\n",
            "       --unlink                    remove file before clobber\n",
            "       --xattr                     turn on storage of metadata in extended file attributes\n",
            "\n",
            "Directories:\n",
            "  -nd, --no-directories            don't create directories\n",
            "  -x,  --force-directories         force creation of directories\n",
            "  -nH, --no-host-directories       don't create host directories\n",
            "       --protocol-directories      use protocol name in directories\n",
            "  -P,  --directory-prefix=PREFIX   save files to PREFIX/..\n",
            "       --cut-dirs=NUMBER           ignore NUMBER remote directory components\n",
            "\n",
            "HTTP options:\n",
            "       --http-user=USER            set http user to USER\n",
            "       --http-password=PASS        set http password to PASS\n",
            "       --no-cache                  disallow server-cached data\n",
            "       --default-page=NAME         change the default page name (normally\n",
            "                                     this is 'index.html'.)\n",
            "  -E,  --adjust-extension          save HTML/CSS documents with proper extensions\n",
            "       --ignore-length             ignore 'Content-Length' header field\n",
            "       --header=STRING             insert STRING among the headers\n",
            "       --max-redirect              maximum redirections allowed per page\n",
            "       --proxy-user=USER           set USER as proxy username\n",
            "       --proxy-password=PASS       set PASS as proxy password\n",
            "       --referer=URL               include 'Referer: URL' header in HTTP request\n",
            "       --save-headers              save the HTTP headers to file\n",
            "  -U,  --user-agent=AGENT          identify as AGENT instead of Wget/VERSION\n",
            "       --no-http-keep-alive        disable HTTP keep-alive (persistent connections)\n",
            "       --no-cookies                don't use cookies\n",
            "       --load-cookies=FILE         load cookies from FILE before session\n",
            "       --save-cookies=FILE         save cookies to FILE after session\n",
            "       --keep-session-cookies      load and save session (non-permanent) cookies\n",
            "       --post-data=STRING          use the POST method; send STRING as the data\n",
            "       --post-file=FILE            use the POST method; send contents of FILE\n",
            "       --method=HTTPMethod         use method \"HTTPMethod\" in the request\n",
            "       --body-data=STRING          send STRING as data. --method MUST be set\n",
            "       --body-file=FILE            send contents of FILE. --method MUST be set\n",
            "       --content-disposition       honor the Content-Disposition header when\n",
            "                                     choosing local file names (EXPERIMENTAL)\n",
            "       --content-on-error          output the received content on server errors\n",
            "       --auth-no-challenge         send Basic HTTP authentication information\n",
            "                                     without first waiting for the server's\n",
            "                                     challenge\n",
            "\n",
            "HTTPS (SSL/TLS) options:\n",
            "       --secure-protocol=PR        choose secure protocol, one of auto, SSLv2,\n",
            "                                     SSLv3, TLSv1, TLSv1_1, TLSv1_2 and PFS\n",
            "       --https-only                only follow secure HTTPS links\n",
            "       --no-check-certificate      don't validate the server's certificate\n",
            "       --certificate=FILE          client certificate file\n",
            "       --certificate-type=TYPE     client certificate type, PEM or DER\n",
            "       --private-key=FILE          private key file\n",
            "       --private-key-type=TYPE     private key type, PEM or DER\n",
            "       --ca-certificate=FILE       file with the bundle of CAs\n",
            "       --ca-directory=DIR          directory where hash list of CAs is stored\n",
            "       --crl-file=FILE             file with bundle of CRLs\n",
            "       --pinnedpubkey=FILE/HASHES  Public key (PEM/DER) file, or any number\n",
            "                                   of base64 encoded sha256 hashes preceded by\n",
            "                                   'sha256//' and separated by ';', to verify\n",
            "                                   peer against\n",
            "       --random-file=FILE          file with random data for seeding the SSL PRNG\n",
            "\n",
            "HSTS options:\n",
            "       --no-hsts                   disable HSTS\n",
            "       --hsts-file                 path of HSTS database (will override default)\n",
            "\n",
            "FTP options:\n",
            "       --ftp-user=USER             set ftp user to USER\n",
            "       --ftp-password=PASS         set ftp password to PASS\n",
            "       --no-remove-listing         don't remove '.listing' files\n",
            "       --no-glob                   turn off FTP file name globbing\n",
            "       --no-passive-ftp            disable the \"passive\" transfer mode\n",
            "       --preserve-permissions      preserve remote file permissions\n",
            "       --retr-symlinks             when recursing, get linked-to files (not dir)\n",
            "\n",
            "FTPS options:\n",
            "       --ftps-implicit                 use implicit FTPS (default port is 990)\n",
            "       --ftps-resume-ssl               resume the SSL/TLS session started in the control connection when\n",
            "                                         opening a data connection\n",
            "       --ftps-clear-data-connection    cipher the control channel only; all the data will be in plaintext\n",
            "       --ftps-fallback-to-ftp          fall back to FTP if FTPS is not supported in the target server\n",
            "WARC options:\n",
            "       --warc-file=FILENAME        save request/response data to a .warc.gz file\n",
            "       --warc-header=STRING        insert STRING into the warcinfo record\n",
            "       --warc-max-size=NUMBER      set maximum size of WARC files to NUMBER\n",
            "       --warc-cdx                  write CDX index files\n",
            "       --warc-dedup=FILENAME       do not store records listed in this CDX file\n",
            "       --no-warc-digests           do not calculate SHA1 digests\n",
            "       --no-warc-keep-log          do not store the log file in a WARC record\n",
            "       --warc-tempdir=DIRECTORY    location for temporary files created by the\n",
            "                                     WARC writer\n",
            "\n",
            "Recursive download:\n",
            "  -r,  --recursive                 specify recursive download\n",
            "  -l,  --level=NUMBER              maximum recursion depth (inf or 0 for infinite)\n",
            "       --delete-after              delete files locally after downloading them\n",
            "  -k,  --convert-links             make links in downloaded HTML or CSS point to\n",
            "                                     local files\n",
            "       --convert-file-only         convert the file part of the URLs only (usually known as the basename)\n",
            "       --backups=N                 before writing file X, rotate up to N backup files\n",
            "  -K,  --backup-converted          before converting file X, back up as X.orig\n",
            "  -m,  --mirror                    shortcut for -N -r -l inf --no-remove-listing\n",
            "  -p,  --page-requisites           get all images, etc. needed to display HTML page\n",
            "       --strict-comments           turn on strict (SGML) handling of HTML comments\n",
            "\n",
            "Recursive accept/reject:\n",
            "  -A,  --accept=LIST               comma-separated list of accepted extensions\n",
            "  -R,  --reject=LIST               comma-separated list of rejected extensions\n",
            "       --accept-regex=REGEX        regex matching accepted URLs\n",
            "       --reject-regex=REGEX        regex matching rejected URLs\n",
            "       --regex-type=TYPE           regex type (posix|pcre)\n",
            "  -D,  --domains=LIST              comma-separated list of accepted domains\n",
            "       --exclude-domains=LIST      comma-separated list of rejected domains\n",
            "       --follow-ftp                follow FTP links from HTML documents\n",
            "       --follow-tags=LIST          comma-separated list of followed HTML tags\n",
            "       --ignore-tags=LIST          comma-separated list of ignored HTML tags\n",
            "  -H,  --span-hosts                go to foreign hosts when recursive\n",
            "  -L,  --relative                  follow relative links only\n",
            "  -I,  --include-directories=LIST  list of allowed directories\n",
            "       --trust-server-names        use the name specified by the redirection\n",
            "                                     URL's last component\n",
            "  -X,  --exclude-directories=LIST  list of excluded directories\n",
            "  -np, --no-parent                 don't ascend to the parent directory\n",
            "\n",
            "Mail bug reports and suggestions to <bug-wget@gnu.org>\n"
          ]
        }
      ],
      "source": [
        "!wget --help"
      ]
    },
    {
      "cell_type": "code",
      "execution_count": null,
      "metadata": {
        "colab": {
          "base_uri": "https://localhost:8080/"
        },
        "id": "4msSSvZ6hyT-",
        "outputId": "87606c7e-f595-4293-806f-d7d0dcb11030"
      },
      "outputs": [
        {
          "name": "stdout",
          "output_type": "stream",
          "text": [
            "2014\n",
            "15\n"
          ]
        }
      ],
      "source": [
        "from csv import reader\n",
        "#Load data into the notebook\n",
        "with open('nyc_taxis.csv', 'r') as taxis_file:\n",
        "  taxis = list(reader(taxis_file))\n",
        "\n",
        "print(len(taxis))\n",
        "print(len(taxis[0]))\n"
      ]
    },
    {
      "cell_type": "code",
      "execution_count": null,
      "metadata": {
        "id": "bO-_Mt_IPbiu"
      },
      "outputs": [],
      "source": [
        "import numpy as np\n",
        "np_taxis = np.array(taxis)"
      ]
    },
    {
      "cell_type": "code",
      "execution_count": null,
      "metadata": {
        "colab": {
          "base_uri": "https://localhost:8080/"
        },
        "id": "tpsxCE2oTC6C",
        "outputId": "2dfc7bc3-a1a7-4a29-d790-51e2a4081b2d"
      },
      "outputs": [
        {
          "name": "stdout",
          "output_type": "stream",
          "text": [
            "[['pickup_year' 'pickup_month' 'pickup_day' 'pickup_dayofweek'\n",
            "  'pickup_time' 'pickup_location_code' 'dropoff_location_code'\n",
            "  'trip_distance' 'trip_length' 'fare_amount' 'fees_amount'\n",
            "  'tolls_amount' 'tip_amount' 'total_amount' 'payment_type']\n",
            " ['2016' '1' '1' '5' '0' '2' '4' '21.00' '2037' '52.00' '0.80' '5.54'\n",
            "  '11.65' '69.99' '1']\n",
            " ['2016' '1' '1' '5' '0' '2' '1' '16.29' '1520' '45.00' '1.30' '0.00'\n",
            "  '8.00' '54.30' '1']]\n"
          ]
        },
        {
          "data": {
            "text/plain": [
              "(2014, 15)"
            ]
          },
          "execution_count": 20,
          "metadata": {},
          "output_type": "execute_result"
        }
      ],
      "source": [
        "print(np_taxis[:3])\n",
        "np_taxis.shape"
      ]
    },
    {
      "cell_type": "markdown",
      "metadata": {
        "id": "rL9OUl1Nhr2R"
      },
      "source": [
        "I'll only work with a subset of the real data — approximately 90,000 yellow taxi trips to and from New York City airports between January and June 2016. This data set includes a 1/50th random sample.\n",
        "Below is information about selected columns from the dataset:\n",
        "\n",
        "* pickup_year: the year of the trip\n",
        "pickup_month: the month of the trip (January is 1, December is 12)\n",
        "* pickup_day: the day of the month of the trip\n",
        "* pickup_location_code: the airport or borough where the trip started\n",
        "* dropoff_location_code: the airport or borough where the trip ended\n",
        "* trip_distance: the distance of the trip in miles\n",
        "* trip_length: the length of the trip in seconds\n",
        "* fare_amount: the base fare of the trip, in dollars\n",
        "* total_amount: the total amount charged to the passenger, including all fees, tolls and tips\n",
        "\n",
        "Detailed information on all columns could be found [here](https://s3.amazonaws.com/dq-content/289/nyc_taxi_data_dictionary.md)."
      ]
    },
    {
      "cell_type": "code",
      "execution_count": null,
      "metadata": {
        "id": "JJBi-XF6TGpf"
      },
      "outputs": [],
      "source": [
        "# Load CSV with NumPy\n",
        "# Access the column by names\n",
        "np_taxis = np.genfromtxt('nyc_taxis.csv',delimiter=',', names= True)"
      ]
    },
    {
      "cell_type": "markdown",
      "metadata": {
        "id": "n9pR4QTXsIPi"
      },
      "source": [
        "References:\n",
        "\n",
        "[NumPy genfromtxt function - API Reference](https://numpy.org/doc/stable/reference/generated/numpy.genfromtxt.html0)\n",
        "\n",
        "[Tutorial for genfromtxt](https://www.pythonpool.com/numpy-genfromtxt/)\n"
      ]
    },
    {
      "cell_type": "code",
      "execution_count": null,
      "metadata": {
        "id": "hq8XjH3pWfe6"
      },
      "outputs": [],
      "source": [
        "print(np_taxis.shape)\n",
        "print(np_taxis[10]['pickup_location_code'])"
      ]
    },
    {
      "cell_type": "code",
      "execution_count": null,
      "metadata": {
        "id": "uJjHlEcePVyz"
      },
      "outputs": [],
      "source": [
        "z = np.array([1,2])\n",
        "print(z.shape)"
      ]
    },
    {
      "cell_type": "code",
      "execution_count": null,
      "metadata": {
        "id": "NBcziMYIPj6s"
      },
      "outputs": [],
      "source": [
        "y = np.array([[1],[2]])\n",
        "print(y.shape)"
      ]
    },
    {
      "cell_type": "code",
      "execution_count": null,
      "metadata": {
        "id": "orxJG4hSgVKM"
      },
      "outputs": [],
      "source": [
        "# Access the column by index\n",
        "np_taxis = np.genfromtxt('nyc_taxis.csv',delimiter=',', skip_header=1)"
      ]
    },
    {
      "cell_type": "code",
      "execution_count": null,
      "metadata": {
        "id": "gTssRC2vNuYH"
      },
      "outputs": [],
      "source": [
        "print(np_taxis.shape)"
      ]
    },
    {
      "cell_type": "code",
      "execution_count": null,
      "metadata": {
        "id": "QCHJS2IVWokB"
      },
      "outputs": [],
      "source": [
        "print(np_taxis[10])"
      ]
    },
    {
      "cell_type": "code",
      "execution_count": null,
      "metadata": {
        "id": "FJqa8PjQlIv4"
      },
      "outputs": [],
      "source": [
        "np.set_printoptions(suppress=True)"
      ]
    },
    {
      "cell_type": "code",
      "execution_count": null,
      "metadata": {
        "id": "zFPFNIq2Wvss"
      },
      "outputs": [],
      "source": [
        "print(np_taxis[10])"
      ]
    },
    {
      "cell_type": "code",
      "execution_count": null,
      "metadata": {
        "id": "yfUWffz1OLj8"
      },
      "outputs": [],
      "source": [
        "print(np_taxis[1])"
      ]
    },
    {
      "cell_type": "code",
      "execution_count": null,
      "metadata": {
        "id": "wg3empiJlnu3"
      },
      "outputs": [],
      "source": [
        "# select 'pickup_location_code', 'dropoff_location_code','fare_amount', 'fees_amount'\n",
        "cols = [5, 6, 9, 10]\n",
        "print(np_taxis[:,cols])"
      ]
    },
    {
      "cell_type": "markdown",
      "metadata": {
        "id": "ZrPgOSIJp2nk"
      },
      "source": [
        "### Get the Frequency Table of taxis based on the Pickup Location"
      ]
    },
    {
      "cell_type": "code",
      "execution_count": null,
      "metadata": {
        "id": "l-Cdtl9knHbE"
      },
      "outputs": [],
      "source": [
        "print(np.unique(np_taxis[:,6]))"
      ]
    },
    {
      "cell_type": "code",
      "execution_count": null,
      "metadata": {
        "id": "4X-RBRZTopvT"
      },
      "outputs": [],
      "source": [
        "unique, counts = np.unique(np_taxis[:,6], return_counts=True)\n",
        "print(unique)\n",
        "print(counts)"
      ]
    },
    {
      "cell_type": "code",
      "execution_count": null,
      "metadata": {
        "id": "B6_rNVL_zevi"
      },
      "outputs": [],
      "source": [
        "print(np_taxis[:,-2])"
      ]
    },
    {
      "cell_type": "code",
      "execution_count": null,
      "metadata": {
        "id": "Y8gzb_LOCVJK"
      },
      "outputs": [],
      "source": [
        "# elementwise calculation\n",
        "# Calculate the mph of each trip\n",
        "trip_distance_miles = np_taxis[:,7]\n",
        "trip_length_seconds = np_taxis[:,8]\n",
        "\n",
        "trip_length_hours = trip_length_seconds / 3600 # 3600 seconds is one hour\n",
        "\n",
        "trip_mph = trip_distance_miles / trip_length_hours\n",
        "print(trip_mph)"
      ]
    },
    {
      "cell_type": "code",
      "execution_count": null,
      "metadata": {
        "id": "A3vGvrTspxD_"
      },
      "outputs": [],
      "source": [
        "# Display the Descriptive analysis of the total taxi charge for your trip\n",
        "total_amount = np_taxis[:,-2]\n",
        "# measures of central tendency\n",
        "mean = np.mean(total_amount)\n",
        "median = np.median(total_amount)\n",
        "  \n",
        "# measures of dispersion\n",
        "min = np.amin(total_amount)\n",
        "max = np.amax(total_amount)\n",
        "range = np.ptp(total_amount)\n",
        "varience = np.var(total_amount)\n",
        "sd = np.std(total_amount)\n",
        "  \n",
        "print(\"Descriptive analysis\")\n",
        "print(\"\\n\")\n",
        "print(\"Measures of Central Tendency\")\n",
        "print(\"Mean =\", mean)\n",
        "print(\"Median =\", median)\n",
        "print(\"Measures of Dispersion\")\n",
        "print(\"Minimum =\", min)\n",
        "print(\"Maximum =\", max)\n",
        "print(\"Range =\", range)\n",
        "print(\"Varience =\", varience)\n",
        "print(\"Standard Deviation =\", sd)"
      ]
    }
  ],
  "metadata": {
    "colab": {
      "name": "Class6_NumPy_1.ipynb",
      "provenance": []
    },
    "kernelspec": {
      "display_name": "Python 3.8.10 64-bit",
      "language": "python",
      "name": "python3"
    },
    "language_info": {
      "name": "python",
      "version": "3.8.10"
    },
    "vscode": {
      "interpreter": {
        "hash": "916dbcbb3f70747c44a77c7bcd40155683ae19c65e1c03b4aa3499c5328201f1"
      }
    }
  },
  "nbformat": 4,
  "nbformat_minor": 0
}
