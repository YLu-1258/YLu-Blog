{
 "cells": [
  {
   "cell_type": "markdown",
   "metadata": {},
   "source": [
    "# Applab Quiz Writeup\n",
    "> What is code.org and applab?\n",
    "\n",
    "- toc: true\n",
    "- title: Data Abstraction in Python\n",
    "- author: Alex Lu\n",
    "- badges: true\n",
    "- comments: true\n",
    "- categories: [jupyter,APCSP,week 3]\n",
    "- author: Alex Lu"
   ]
  },
  {
   "cell_type": "markdown",
   "metadata": {},
   "source": [
    "## What is AppLab?\n",
    "\n",
    "> App Lab is a programming environment where you can make simple apps. Design an app, code in JavaScript with either blocks or text, then share your app with Teacher or Student Peers. The big limitations of App Lab, that makes it simple, is that the HTML and CSS are not available to developer/student coder, thus it is not directly transportable to an independent Web server.\n",
    "\n",
    "[Code.org](https://studio.code.org/users/sign_up) account created. To create a new project, click on the AppLab section on the main page.\n",
    "\n",
    "The block code used in code.org AppLab is a simplified version of the JavaScript language. Click on the Show Text button to edit the code directly."
   ]
  },
  {
   "cell_type": "markdown",
   "metadata": {},
   "source": [
    "### Plan for the Quiz (Design)\n",
    "\n",
    "✔️ Verify answer \n",
    "\n",
    "✔️ Inccorect Answer Screen\n",
    "\n",
    "✔️ Counter to keep track of incorrect account\n",
    "\n",
    "✔️ Variable to keep track of current problem\n",
    "\n",
    "✔️ Free Response question prompts\n",
    "\n",
    "Link to the [quiz](https://studio.code.org/projects/applab/oI46BLVP4jwiNm8q6-bFXH3GEBLM7W_65_0X7krViUo)\n",
    "\n",
    "![]({{site.baseurl}}/images/app_lab_quiz.png \"Picture of the quiz home screen\")"
   ]
  },
  {
   "cell_type": "markdown",
   "metadata": {},
   "source": [
    "### Quiz Code"
   ]
  },
  {
   "cell_type": "code",
   "execution_count": null,
   "metadata": {},
   "outputs": [],
   "source": [
    "// Starting the Quiz, go to start screen\n",
    "setScreen(\"aStartScreen\");\n",
    "var curr_q = \"Question1\";\n",
    "var incorrect = 0;\n",
    "// Starting the quiz\n",
    "onEvent(\"start_button\", \"click\", function( ) {\n",
    "  setScreen(curr_q);\n",
    "});\n",
    "// First Question Checks\n",
    "onEvent(\"MySQL\", \"click\", function( ) {\n",
    "  setScreen(\"wronganswer\");\n",
    "  incorrect++;\n",
    "});\n",
    "onEvent(\"Python\", \"click\", function( ) {\n",
    "  setScreen(\"wronganswer\");\n",
    "  incorrect++;\n",
    "});\n",
    "onEvent(\"C++\", \"click\", function( ) {\n",
    "  setScreen(\"wronganswer\");\n",
    "  incorrect++;\n",
    "});\n",
    "onEvent(\"JavaScript\", \"click\", function( ) {\n",
    "  curr_q = \"Question2\";\n",
    "  setScreen(\"CorrectAnswer\");\n",
    "});\n",
    "// Second Question Checks\n",
    "onEvent(\"Check2\", \"click\", function( ) {\n",
    "  if (getText(\"binaryquestion\") == \"1337\") {\n",
    "    curr_q = \"Question3\";\n",
    "    setScreen(\"CorrectAnswer\");\n",
    "  }\n",
    "  else {\n",
    "    setScreen(\"wronganswer\");\n",
    "    incorrect++;\n",
    "  }\n",
    "});\n",
    "// Third Question Checks\n",
    "onEvent(\"Check3\", \"click\", function( ) {\n",
    "  if (getText(\"derivative\") == \"1/x\" || getText(\"derivative\") == \"x^-1\" || getText(\"derivative\") == \"x^(-1)\") {\n",
    "    curr_q = \"endScreen\";\n",
    "    var str1 = 'You had ';\n",
    "    var attempts = incorrect.toString();\n",
    "    var str2 = ' incorrect attempts';\n",
    "    setText(\"score\", str1.concat('', attempts, str2));\n",
    "    setScreen(\"CorrectAnswer\");\n",
    "  }\n",
    "  else {\n",
    "    setScreen(\"wronganswer\");\n",
    "    incorrect++;\n",
    "  }\n",
    "});\n",
    "//Try again sends back to previous question \n",
    "onEvent(\"gobacktoq\", \"click\", function( ) {\n",
    "  setScreen(curr_q);\n",
    "});\n",
    "onEvent(\"tryagain\", \"click\", function( ) {\n",
    "  curr_q = \"Question1\";\n",
    "  setScreen(\"aStartScreen\");\n",
    "});\n",
    "\n",
    "onEvent(\"nextQ\", \"click\", function( ) {\n",
    "  setScreen(curr_q);\n",
    "});\n"
   ]
  },
  {
   "cell_type": "markdown",
   "metadata": {},
   "source": [
    "### Successes\n",
    "- Was able to create a quiz where one screen was able to dynamically able to backtrack to the previous answer.\n",
    "- Free response input is now also supported by the quiz.\n",
    "- Background counter helps to keep a track of the number of inccorect attempts made.\n",
    "- Free response questions can accept multiple different forms of input."
   ]
  },
  {
   "cell_type": "markdown",
   "metadata": {},
   "source": [
    "### Discoveries / Challenges\n",
    "- Realized that you can convert between Int and string types with the `toString()` function.\n",
    "- Struggled to find a way to concatenate strings and integers but then found about about the `concat()` function.\n",
    "- The score box seemed to reset, realized that I just made the text box too small :/."
   ]
  }
 ],
 "metadata": {
  "kernelspec": {
   "display_name": "JavaScript (Node.js)",
   "language": "javascript",
   "name": "javascript"
  },
  "language_info": {
   "file_extension": ".js",
   "mimetype": "application/javascript",
   "name": "javascript",
   "version": "6.11.2"
  },
  "orig_nbformat": 4
 },
 "nbformat": 4,
 "nbformat_minor": 2
}
