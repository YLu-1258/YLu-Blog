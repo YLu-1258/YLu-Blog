{
 "cells": [
  {
   "attachments": {},
   "cell_type": "markdown",
   "metadata": {},
   "source": [
    "#  Unit 2.4b Databases Hacks\n",
    "> My hacks fr othe 2.4b lesson, making my own database imperatively\n",
    "- toc: true\n",
    "- categories: []\n",
    "- type: ap\n",
    "- week: 26"
   ]
  },
  {
   "cell_type": "code",
   "execution_count": 3,
   "metadata": {},
   "outputs": [],
   "source": [
    "import sqlite3\n",
    "import csv\n",
    "import pandas as pd\n",
    "import tabulate as tb\n",
    "from io import StringIO as IO\n",
    "\n",
    "# Grab User input\n",
    "db_name = input(\"What name do you want your database to be?\")\n",
    "table_name = input(\"What name do you want your table to be?\")\n",
    "\n",
    "# Create path for database \n",
    "database = 'instance/' + db_name + \".db\"\n",
    "\n",
    "# Useful queries to use\n",
    "create_table_query = f\"\"\"CREATE TABLE {table_name} ( id INTEGER PRIMARY KEY AUTOINCREMENT, task TEXT NOT NULL, location TEXT, complete_by DATE, time Text, AMPM Text);\"\"\"\n",
    "check_table_exists_query = f\"\"\"SELECT count(name) FROM sqlite_master WHERE type='table' AND name='{table_name}'; \"\"\"\n",
    "create_entry_query = f\"\"\"INSERT INTO {table_name} (task, location, complete_by, time, AMPM) VALUES (?, ?, ?, ?, ?);\"\"\"\n",
    "check_duplicate_entry_query = f\"\"\"SELECT count(*) FROM {table_name} WHERE (task=? AND location=? AND complete_by=? AND time=? AND AMPM=?)\"\"\"\n",
    "drop_table_query = f\"\"\"DROP TABLE {table_name};\"\"\"\n",
    "select_all_query = f\"\"\"SELECT * FROM {table_name}\"\"\"\n",
    "\n",
    "get_task_query = f\"\"\"SELECT task FROM {table_name} WHERE id=?\"\"\"\n",
    "get_location_query = f\"\"\"SELECT location FROM {table_name} WHERE id=?\"\"\"\n",
    "get_complete_by_query = f\"\"\"SELECT complete_by FROM {table_name} WHERE id=?\"\"\"\n",
    "get_time_query = f\"\"\"SELECT time FROM {table_name} WHERE id=?\"\"\"\n",
    "get_ampm_query = f\"\"\"SELECT AMPM FROM {table_name} WHERE id=?\"\"\"\n",
    "\n",
    "update_query = f\"\"\"UPDATE {table_name} SET task = ?, location = ?, complete_by = ?, time = ?, AMPM = ? WHERE id = ?\"\"\"\n",
    "\n",
    "delete_row_query = f\"\"\"DELETE FROM {table_name} WHERE id = ?\"\"\"\n",
    "\n",
    "# Other variables\n",
    "affirmatives = [\"yes\", \"ye\", \"y\", \"ok\", \"sure\"]\n"
   ]
  },
  {
   "cell_type": "code",
   "execution_count": 16,
   "metadata": {},
   "outputs": [
    {
     "name": "stdout",
     "output_type": "stream",
     "text": [
      "Updated Schema, All data wiped\n"
     ]
    }
   ],
   "source": [
    "def init_table():\n",
    "    # Connect to the database file\n",
    "    conn = sqlite3.connect(database)\n",
    "\n",
    "    # Create a cursor object to execute SQL queries\n",
    "    cursor = conn.cursor()\n",
    "\n",
    "    # Execute table creation query we made earlier\n",
    "    cursor.execute(check_table_exists_query)\n",
    "    if cursor.fetchone()[0]==0 :\n",
    "        cursor.execute(create_table_query)\n",
    "    else:\n",
    "        yn = input(\"Table already exists, override?\")\n",
    "        if yn.lower() in affirmatives:\n",
    "            cursor.execute(drop_table_query)\n",
    "            cursor.execute(create_table_query)\n",
    "            print(\"Updated Schema, All data wiped\")\n",
    "        else:\n",
    "            print(\"Stopping...\")\n",
    "            return\n",
    "\n",
    "\n",
    "    cursor.close()\n",
    "    conn.commit()\n",
    "    conn.close()\n",
    "\n",
    "init_table()"
   ]
  },
  {
   "cell_type": "code",
   "execution_count": 5,
   "metadata": {},
   "outputs": [
    {
     "name": "stdout",
     "output_type": "stream",
     "text": [
      "(0, 'id', 'INTEGER', 0, None, 1)\n",
      "(1, 'task', 'TEXT', 1, None, 0)\n",
      "(2, 'location', 'TEXT', 0, None, 0)\n",
      "(3, 'complete_by', 'DATE', 0, None, 0)\n",
      "(4, 'time', 'Text', 0, None, 0)\n",
      "(5, 'AMPM', 'Text', 0, None, 0)\n"
     ]
    }
   ],
   "source": [
    "def schema():\n",
    "    \n",
    "    # Connect to the database file\n",
    "    conn = sqlite3.connect(database)\n",
    "\n",
    "    # Create a cursor object to execute SQL queries\n",
    "    cursor = conn.cursor()\n",
    "    \n",
    "    # Fetch results of Schema\n",
    "    results = cursor.execute(\"PRAGMA table_info('todo')\").fetchall()\n",
    "\n",
    "    # Print the results\n",
    "    for row in results:\n",
    "        print(row)\n",
    "\n",
    "    # Close the database connection\n",
    "    conn.close()\n",
    "    \n",
    "schema()\n"
   ]
  },
  {
   "cell_type": "code",
   "execution_count": 6,
   "metadata": {},
   "outputs": [
    {
     "name": "stdout",
     "output_type": "stream",
     "text": [
      "A new task Finish USH Poster Project has been created\n",
      "A new task Start Homework has been created\n"
     ]
    }
   ],
   "source": [
    "def create(task, location, complete_by, time, am_pm):\n",
    "    \n",
    "    \n",
    "    # Connect to the database file\n",
    "    conn = sqlite3.connect(database)\n",
    "\n",
    "    # Create a cursor object to execute SQL queries\n",
    "    cursor = conn.cursor()\n",
    "    \n",
    "    # Fetch results of Schema\n",
    "    unique = True if cursor.execute(check_duplicate_entry_query, (task, location, complete_by, time, am_pm)).fetchall()[0][0] == 0 else False\n",
    "    if not unique:\n",
    "        yn = input(f\"Duplicate entry detected with task: {task}\\n location: {location}\\n complete by date: {complete_by}\\n time: {time}{am_pm}\\n Still Add task?\")\n",
    "        if yn.lower() not in affirmatives:\n",
    "            print(\"Not adding duplicate entry.\")\n",
    "            return\n",
    "    \n",
    "    try:\n",
    "            # Execute an SQL command to insert data into a table, date is in form of 'YYYY-MM-DD'\n",
    "            cursor.execute(create_entry_query, (task, location, complete_by, time, am_pm))\n",
    "            \n",
    "            # Commit the changes to the database\n",
    "            conn.commit()\n",
    "            print(f\"A new task {task} has been created\")\n",
    "                    \n",
    "    except sqlite3.Error as error:\n",
    "        print(\"Error while executing the INSERT:\", error)\n",
    "\n",
    "    # Close the database connection\n",
    "    cursor.close()\n",
    "    conn.close()\n",
    "    \n",
    "create(\"Finish USH Poster Project\", \"Home\", \"2023-03-17\", \"7:00\", \"AM\")\n",
    "create(\"Start Homework\", \"Home\", \"2023-03-18\", \"4:15\", \"PM\")\n",
    "#create(\"Bring out Trash cans\", \"Home\", \"2023-03-18\", \"5:00\", \"PM\")\n",
    "#create(\"Cook Dinner\", \"Home\", \"2023-03-18\", \"6:00\", \"PM\")\n"
   ]
  },
  {
   "cell_type": "code",
   "execution_count": null,
   "metadata": {},
   "outputs": [],
   "source": [
    "def import_csv(values):\n",
    "    reader = csv.reader(values.split('|'), delimiter=\",\")\n",
    "    tasks=[]\n",
    "    locations=[]\n",
    "    complete_by = []\n",
    "    times = []\n",
    "    ampms = []\n",
    "    for entry in reader:\n",
    "        assert len(entry) == 5\n",
    "        tasks.append(entry[0])\n",
    "        locations.append(entry[1])\n",
    "        complete_by.append(entry[2])\n",
    "        times.append(entry[3])\n",
    "        ampms.append(entry[4])\n",
    "    for i in range(len(tasks)):\n",
    "        create(tasks[i], locations[i], complete_by[i], times[i], ampms[i])\n",
    "\n",
    "import_csv(\"\"\"Finish Research Literature Review, Home, 2023-03-20, 8:00, PM\n",
    "Go to Gym, LA Fitness, 2023-03-21, 6:00, PM\n",
    "Teach Sister Piano, Home, 2023-03-21, 8:00, PM\"\"\")"
   ]
  },
  {
   "cell_type": "code",
   "execution_count": 9,
   "metadata": {},
   "outputs": [
    {
     "name": "stdout",
     "output_type": "stream",
     "text": [
      "1         Finish USH Poster Project        Home  2023-03-17  7:00  AM\n",
      "2                    Start Homework        Home  2023-03-18  4:15  PM\n",
      "3 Finish Research Literature Review        Home  2023-03-20  8:00  PM\n",
      "4                         Go to Gym  LA Fitness  2023-03-21  6:00  PM\n",
      "5                Teach Sister Piano        Home  2023-03-21  8:00  PM\n"
     ]
    }
   ],
   "source": [
    "def read():\n",
    "    # Connect to the database file\n",
    "    conn = sqlite3.connect(database)\n",
    "\n",
    "    # Create a cursor object to execute SQL queries\n",
    "    cursor = conn.cursor()\n",
    "    \n",
    "    # Execute a SELECT statement to retrieve data from a table\n",
    "    results = cursor.execute(select_all_query).fetchall()\n",
    "\n",
    "    # Print the results\n",
    "    if len(results) == 0:\n",
    "        print(\"Table is empty\")\n",
    "    else:\n",
    "        temp_arr = [[str(j) for j in i] for i in results]\n",
    "        df = pd.DataFrame( data = temp_arr[1:] , columns = temp_arr[0])\n",
    "        df.style.set_properties(**{'text-align': 'left'})\n",
    "        print(df.to_string(index=False))\n",
    "\n",
    "    # Close the cursor and connection objects\n",
    "    cursor.close()\n",
    "    conn.close()\n",
    "    \n",
    "read()\n"
   ]
  },
  {
   "cell_type": "code",
   "execution_count": 12,
   "metadata": {},
   "outputs": [
    {
     "name": "stdout",
     "output_type": "stream",
     "text": [
      "1         Finish USH Poster Project        Home  2023-03-17  7:00  AM\n",
      "2                    Start Homework        Home  2023-03-18  4:15  PM\n",
      "3 Finish Research Literature Review        Home  2023-03-20  8:00  PM\n",
      "4                         Go to Gym  LA Fitness  2023-03-21  6:00  PM\n",
      "5                Teach Sister Piano        Home  2023-03-21  8:00  PM\n",
      "5 Teach Sister Piano  Home 2023-03-22  8:00  PM\n",
      "Task 5 has been updated\n"
     ]
    }
   ],
   "source": [
    "def update():\n",
    "    # Connect to the database file\n",
    "    conn = sqlite3.connect(database)\n",
    "\n",
    "    # Create a cursor object to execute SQL commands\n",
    "    cursor = conn.cursor()\n",
    "\n",
    "    read()\n",
    "    id = input(\"Enter task id to update\")\n",
    "    task = input(\"Enter updated task (Esc to keep default):\") or cursor.execute(get_task_query, (id)).fetchall()[0][0]\n",
    "    location = input(\"Enter updated location (Esc to keep default):\") or cursor.execute(get_location_query, (id)).fetchall()[0][0]\n",
    "    complete_by = input(\"Enter updated date of completion in YYYY-MM-DD format (Esc to keep default):\") or cursor.execute(get_complete_by_query, (id)).fetchall()[0][0]\n",
    "    time = input(\"Enter updated time (Esc to keep default):\") or cursor.execute(get_time_query, (id)).fetchall()[0][0]\n",
    "    ampm = input(\"Enter AM or PM (Esc to keep default):\") or cursor.execute(get_ampm_query, (id)).fetchall()[0][0]\n",
    "    print(id, task, location, complete_by, time, ampm)\n",
    "    # Connect to the database file\n",
    "    conn = sqlite3.connect(database)\n",
    "\n",
    "    # Create a cursor object to execute SQL commands\n",
    "    cursor = conn.cursor()\n",
    "\n",
    "    try:\n",
    "        # Execute an SQL command to update data in a table\n",
    "        cursor.execute(update_query, (task, location, complete_by, time, ampm, id))\n",
    "        if cursor.rowcount == 0:\n",
    "            # The id was not found in the table\n",
    "            print(f\"Task id {id} was not found in the table\")\n",
    "        else:\n",
    "            print(f\"Task {id} has been updated\")\n",
    "            conn.commit()\n",
    "    except sqlite3.Error as error:\n",
    "        print(\"Error while executing the UPDATE:\", error)\n",
    "        \n",
    "    \n",
    "    # Close the cursor and connection objects\n",
    "    cursor.close()\n",
    "    conn.close()\n",
    "\n",
    "update()"
   ]
  },
  {
   "cell_type": "code",
   "execution_count": 13,
   "metadata": {},
   "outputs": [
    {
     "name": "stdout",
     "output_type": "stream",
     "text": [
      "1         Finish USH Poster Project        Home  2023-03-17  7:00  AM\n",
      "2                    Start Homework        Home  2023-03-18  4:15  PM\n",
      "3 Finish Research Literature Review        Home  2023-03-20  8:00  PM\n",
      "4                         Go to Gym  LA Fitness  2023-03-21  6:00  PM\n",
      "5                Teach Sister Piano        Home  2023-03-22  8:00  PM\n",
      "Task 2 was successfully deleted\n"
     ]
    }
   ],
   "source": [
    "def delete():\n",
    "    id = input(\"Enter task number to delete\")\n",
    "\n",
    "    # Connect to the database file\n",
    "    conn = sqlite3.connect(database)\n",
    "\n",
    "    # Create a cursor object to execute SQL commands\n",
    "    cursor = conn.cursor()\n",
    "\n",
    "    read()\n",
    "    \n",
    "    try:\n",
    "        cursor.execute(delete_row_query, (id))\n",
    "        if cursor.rowcount == 0:\n",
    "            # The uid was not found in the table\n",
    "            print(f\"Task {id} was not found in the table\")\n",
    "        else:\n",
    "            # The uid was found in the table and the row was deleted\n",
    "            print(f\"Task {id} was successfully deleted\")\n",
    "        conn.commit()\n",
    "    except sqlite3.Error as error:\n",
    "        print(\"Error while executing the DELETE:\", error)\n",
    "        \n",
    "    # Close the cursor and connection objects\n",
    "    cursor.close()\n",
    "    conn.close()\n",
    "\n",
    "delete()"
   ]
  },
  {
   "cell_type": "code",
   "execution_count": 23,
   "metadata": {},
   "outputs": [
    {
     "name": "stdout",
     "output_type": "stream",
     "text": [
      "Please select an operation:\n",
      "\t 1) Add new entries \n",
      "\t 2) Import CSV entries \n",
      "\t 3) View Tasks \n",
      "\t 4) Update Task \n",
      "\t 5) Delete Task \n",
      " \t 6) Schema\n",
      "\n",
      "Displaying Entries\n",
      "\n",
      "1 Finish Research Literature Review        Home  2023-03-20  8:00  PM\n",
      "2                         Go to Gym  LA Fitness  2023-03-21  6:00  PM\n",
      "3                Teach Sister Piano        Home  2023-03-21  8:00  PM\n",
      "Please select an operation:\n",
      "\t 1) Add new entries \n",
      "\t 2) Import CSV entries \n",
      "\t 3) View Tasks \n",
      "\t 4) Update Task \n",
      "\t 5) Delete Task \n",
      " \t 6) Schema\n",
      "See you next time!\n"
     ]
    }
   ],
   "source": [
    "def menu():\n",
    "    print(\"Please select an operation:\\n\\t 1) Add new entries \\n\\t 2) Import CSV entries \\n\\t 3) View Tasks \\n\\t 4) Update Task \\n\\t 5) Delete Task \\n \\t 6) Schema\")\n",
    "    option = input()\n",
    "    if option== \"1\":\n",
    "        print(\"\\nAdding New entry\\n\")\n",
    "        task = input(\"Enter updated task:\")\n",
    "        location = input(\"Enter updated location:\")\n",
    "        complete_by = input(\"Enter updated date of completion in YYYY-MM-DD format:\")\n",
    "        time = input(\"Enter updated time:\")\n",
    "        ampm = input(\"Enter AM or PM:\")\n",
    "        create(task, location, complete_by, time, ampm)\n",
    "    elif option == \"2\":\n",
    "        print(\"\\nImporting Entries\\n\")\n",
    "        to_import = input(\"Enter raw csv data, seperated by commas, split by new line characters\")\n",
    "        import_csv(to_import)\n",
    "    elif option == \"3\":\n",
    "        print(\"\\nDisplaying Entries\\n\")\n",
    "        read()\n",
    "    elif option == \"4\":\n",
    "        print(\"\\nUpdating Entries\\n\")\n",
    "        update()\n",
    "    elif option == \"5\":\n",
    "        print(\"\\nDeleting Entries\\n\")\n",
    "        delete()\n",
    "    elif option == \"6\":\n",
    "        print(\"\\nDatabase Schema\\n\")\n",
    "        schema()\n",
    "    else:\n",
    "        print(\"See you next time!\")\n",
    "        return\n",
    "    menu()\n",
    "menu()\n",
    "\n",
    "# Finish Research Literature Review, Home, 2023-03-20, 8:00, PM|Go to Gym, LA Fitness, 2023-03-21, 6:00, PM|Teach Sister Piano, Home, 2023-03-21, 8:00, PM"
   ]
  }
 ],
 "metadata": {
  "kernelspec": {
   "display_name": "Python 3",
   "language": "python",
   "name": "python3"
  },
  "language_info": {
   "codemirror_mode": {
    "name": "ipython",
    "version": 3
   },
   "file_extension": ".py",
   "mimetype": "text/x-python",
   "name": "python",
   "nbconvert_exporter": "python",
   "pygments_lexer": "ipython3",
   "version": "3.9.7"
  },
  "orig_nbformat": 4
 },
 "nbformat": 4,
 "nbformat_minor": 2
}
