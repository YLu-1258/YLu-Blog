{
 "cells": [
  {
   "cell_type": "markdown",
   "metadata": {},
   "source": [
    "# Homework \n",
    "\n",
    "- toc: true\n",
    "- badges: true\n",
    "- comments: true\n",
    "- categories: [Week 13]"
   ]
  },
  {
   "cell_type": "markdown",
   "metadata": {},
   "source": [
    "## Homework/Hacks\n",
    "\n",
    " our homework we have decided for a decimal number to binary converter. You must use conditional statements within your code and have a input box for where the decimal number will go. This will give you a 2.7 out of 3 and you may add anything else to the code to get above a 2.7.\n",
    "\n"
   ]
  },
  {
   "cell_type": "markdown",
   "metadata": {},
   "source": [
    "Below is an example of decimal number to binary converter which you can use as a starting template."
   ]
  },
  {
   "cell_type": "code",
   "execution_count": 21,
   "metadata": {},
   "outputs": [
    {
     "name": "stdout",
     "output_type": "stream",
     "text": [
      "Binary of num 2384092834823094824209384 is: 000101111101000001011100110110111110011001110011100111100111011110011011000111111\n",
      "Binary of character A is: 1000001\n",
      "Octal representation of number 1068 is: 00002054\n"
     ]
    },
    {
     "ename": "KeyError",
     "evalue": "459",
     "output_type": "error",
     "traceback": [
      "\u001b[0;31m---------------------------------------------------------------------------\u001b[0m",
      "\u001b[0;31mKeyError\u001b[0m                                  Traceback (most recent call last)",
      "Cell \u001b[0;32mIn [21], line 78\u001b[0m\n\u001b[1;32m     76\u001b[0m \u001b[39mprint\u001b[39m(\u001b[39m\"\u001b[39m\u001b[39mOctal representation of number \u001b[39m\u001b[39m{0}\u001b[39;00m\u001b[39m is: \u001b[39m\u001b[39m{1}\u001b[39;00m\u001b[39m\"\u001b[39m\u001b[39m.\u001b[39mformat(O_num, DecimalToOctal(O_num)))\n\u001b[1;32m     77\u001b[0m H_num \u001b[39m=\u001b[39m \u001b[39mint\u001b[39m(\u001b[39minput\u001b[39m(\u001b[39m\"\u001b[39m\u001b[39mwhat is your desired number? \u001b[39m\u001b[39m\"\u001b[39m))\n\u001b[0;32m---> 78\u001b[0m \u001b[39mprint\u001b[39m(\u001b[39m\"\u001b[39m\u001b[39mHexadecimal representation of number \u001b[39m\u001b[39m{0}\u001b[39;00m\u001b[39m is: \u001b[39m\u001b[39m{1}\u001b[39;00m\u001b[39m\"\u001b[39m\u001b[39m.\u001b[39mformat(H_num, DecimalToHex(H_num)))\n",
      "Cell \u001b[0;32mIn [21], line 60\u001b[0m, in \u001b[0;36mDecimalToHex\u001b[0;34m(num)\u001b[0m\n\u001b[1;32m     58\u001b[0m         sub_res\u001b[39m+\u001b[39m\u001b[39m=\u001b[39m\u001b[39m1\u001b[39m\n\u001b[1;32m     59\u001b[0m         num \u001b[39m-\u001b[39m\u001b[39m=\u001b[39m \u001b[39m16\u001b[39m \u001b[39m*\u001b[39m\u001b[39m*\u001b[39m digits  \n\u001b[0;32m---> 60\u001b[0m     res \u001b[39m=\u001b[39m res \u001b[39m+\u001b[39m \u001b[39mstr\u001b[39m(hex_correlation[sub_res])\n\u001b[1;32m     61\u001b[0m \u001b[39melse\u001b[39;00m:\n\u001b[1;32m     62\u001b[0m     res \u001b[39m=\u001b[39m res \u001b[39m+\u001b[39m \u001b[39m\"\u001b[39m\u001b[39m0\u001b[39m\u001b[39m\"\u001b[39m\n",
      "\u001b[0;31mKeyError\u001b[0m: 459"
     ]
    }
   ],
   "source": [
    "def DecimalToBinary(num):\n",
    "    strs = \"\"\n",
    "    while num:\n",
    "        # if (num & 1) = 1\n",
    "        if (num & 1):\n",
    "            strs += \"1\"\n",
    "        # if (num & 1) = 0\n",
    "        else:\n",
    "            strs += \"0\"\n",
    "        # right shift by 1\n",
    "        num >>= 1\n",
    "    return strs\n",
    " \n",
    "## making a function to convert a given character into it's ascii binary code, using the if conditional statement and ord() function\n",
    "def CharToBinary(char):\n",
    "    return DecimalToBinary(ord(char)) if len(char) == 1 else False\n",
    "\n",
    "def DecimalToOctal(num):\n",
    "    res = \"\"\n",
    "    digits = 7\n",
    "    while digits >= 0:\n",
    "        if (num - 8 ** digits) >= 0:\n",
    "            sub_res = 0\n",
    "            while (num - 8 ** digits) >= 0:\n",
    "                sub_res+=1\n",
    "                num -= 8 ** digits  \n",
    "            res = res + str(sub_res)\n",
    "        else:\n",
    "            res = res + \"0\"\n",
    "        digits-=1 \n",
    "    return res\n",
    "\n",
    "def DecimalToHex(num):\n",
    "    hex_correlation = {\n",
    "        0:\"0\",\n",
    "        1:\"1\",\n",
    "        2:\"2\",\n",
    "        3:\"3\",\n",
    "        4:\"4\",\n",
    "        5:\"5\",\n",
    "        6:\"6\",\n",
    "        7:\"7\",\n",
    "        8:\"8\",\n",
    "        9:\"9\",\n",
    "        10:\"A\",\n",
    "        11:\"B\",\n",
    "        12:\"C\",\n",
    "        13:\"D\",\n",
    "        14:\"E\",\n",
    "        15:\"F\"\n",
    "    }\n",
    "    res = \"\"\n",
    "    digits = 7\n",
    "    while digits >= 0:\n",
    "        if (num - 16 ** digits) >= 0:\n",
    "            sub_res = 0\n",
    "            while (num - 16 ** digits) >= 0:\n",
    "                sub_res+=1\n",
    "                num -= 16 ** digits  \n",
    "            res = res + str(hex_correlation[sub_res])\n",
    "        else:\n",
    "            res = res + \"0\"\n",
    "        digits-=1  \n",
    "    return res\n",
    "\n",
    "# function to reverse the string\n",
    "def reverse(strs):\n",
    "    print(strs[::-1])\n",
    " \n",
    "# Driver Code\n",
    "num = int(input(\"What is your desired number? \"))\n",
    "print(\"Binary of num {0} is: {1}\".format(num, DecimalToBinary(num)))\n",
    "char = input(\"What is your desired character? \")\n",
    "print(\"Binary of character {0} is: {1}\".format(char, CharToBinary(char)))\n",
    "O_num = int(input(\"what is your desired number? \"))\n",
    "print(\"Octal representation of number {0} is: {1}\".format(O_num, DecimalToOctal(O_num)))\n",
    "H_num = int(input(\"what is your desired number? \"))\n",
    "print(\"Hexadecimal representation of number {0} is: {1}\".format(H_num, DecimalToHex(H_num)))"
   ]
  }
 ],
 "metadata": {
  "kernelspec": {
   "display_name": "Python 3.9.6 64-bit",
   "language": "python",
   "name": "python3"
  },
  "language_info": {
   "codemirror_mode": {
    "name": "ipython",
    "version": 3
   },
   "file_extension": ".py",
   "mimetype": "text/x-python",
   "name": "python",
   "nbconvert_exporter": "python",
   "pygments_lexer": "ipython3",
   "version": "3.10.6"
  },
  "orig_nbformat": 4,
  "vscode": {
   "interpreter": {
    "hash": "31f2aee4e71d21fbe5cf8b01ff0e069b9275f58929596ceb00d14d90e3e16cd6"
   }
  }
 },
 "nbformat": 4,
 "nbformat_minor": 2
}
