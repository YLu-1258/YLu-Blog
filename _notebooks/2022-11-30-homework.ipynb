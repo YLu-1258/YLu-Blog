{
 "cells": [
  {
   "cell_type": "markdown",
   "metadata": {},
   "source": [
    "# Homework \n",
    "\n",
    "- toc: true\n",
    "- badges: true\n",
    "- comments: true\n",
    "- categories: [Week 13]"
   ]
  },
  {
   "cell_type": "markdown",
   "metadata": {},
   "source": [
    "## Homework/Hacks\n",
    "\n",
    " our homework we have decided for a decimal number to binary converter. You must use conditional statements within your code and have a input box for where the decimal number will go. This will give you a 2.7 out of 3 and you may add anything else to the code to get above a 2.7.\n",
    "\n"
   ]
  },
  {
   "cell_type": "markdown",
   "metadata": {},
   "source": [
    "Below is an example of decimal number to binary converter which you can use as a starting template."
   ]
  },
  {
   "cell_type": "code",
   "execution_count": 1,
   "metadata": {},
   "outputs": [
    {
     "name": "stdout",
     "output_type": "stream",
     "text": [
      "Binary of num 198 is: 01100011\n",
      "Binary of character B is: 0100001\n",
      "Octal representation of number 10394 is: 00024232\n",
      "Hexadecimal representation of number 123908378 is: 0762B11A\n"
     ]
    }
   ],
   "source": [
    "def DecimalToBinary(num):\n",
    "    strs = \"\"\n",
    "    while num:\n",
    "        # if (num & 1) = 1\n",
    "        if (num & 1):\n",
    "            strs += \"1\"\n",
    "        # if (num & 1) = 0\n",
    "        else:\n",
    "            strs += \"0\"\n",
    "        # right shift by 1\n",
    "        num >>= 1\n",
    "    return strs\n",
    " \n",
    "## making a function to convert a given character into it's ascii binary code, using the if conditional statement and ord() function\n",
    "def CharToBinary(char):\n",
    "    return DecimalToBinary(ord(char)) if len(char) == 1 else False\n",
    "\n",
    "def DecimalToOctal(num):\n",
    "    res = \"\"\n",
    "    digits = 7\n",
    "    while digits >= 0:\n",
    "        if (num - 8 ** digits) >= 0:\n",
    "            sub_res = 0\n",
    "            while (num - 8 ** digits) >= 0:\n",
    "                sub_res+=1\n",
    "                num -= 8 ** digits  \n",
    "            res = res + str(sub_res)\n",
    "        else:\n",
    "            res = res + \"0\"\n",
    "        digits-=1 \n",
    "    return res\n",
    "\n",
    "def DecimalToHex(num):\n",
    "    hex_correlation = {\n",
    "        0:\"0\",\n",
    "        1:\"1\",\n",
    "        2:\"2\",\n",
    "        3:\"3\",\n",
    "        4:\"4\",\n",
    "        5:\"5\",\n",
    "        6:\"6\",\n",
    "        7:\"7\",\n",
    "        8:\"8\",\n",
    "        9:\"9\",\n",
    "        10:\"A\",\n",
    "        11:\"B\",\n",
    "        12:\"C\",\n",
    "        13:\"D\",\n",
    "        14:\"E\",\n",
    "        15:\"F\"\n",
    "    }\n",
    "    res = \"\"\n",
    "    digits = 7\n",
    "    while digits >= 0:\n",
    "        if (num - 16 ** digits) >= 0:\n",
    "            sub_res = 0\n",
    "            while (num - 16 ** digits) >= 0:\n",
    "                sub_res+=1\n",
    "                num -= 16 ** digits  \n",
    "            res = res + str(hex_correlation[sub_res])\n",
    "        else:\n",
    "            res = res + \"0\"\n",
    "        digits-=1  \n",
    "    return res\n",
    "\n",
    "# function to reverse the string\n",
    "def reverse(strs):\n",
    "    print(strs[::-1])\n",
    " \n",
    "# Driver Code\n",
    "num = int(input(\"What is your desired number? \"))\n",
    "print(\"Binary of num {0} is: {1}\".format(num, DecimalToBinary(num)))\n",
    "char = input(\"What is your desired character? \")\n",
    "print(\"Binary of character {0} is: {1}\".format(char, CharToBinary(char)))\n",
    "O_num = int(input(\"what is your desired number? \"))\n",
    "print(\"Octal representation of number {0} is: {1}\".format(O_num, DecimalToOctal(O_num)))\n",
    "H_num = int(input(\"what is your desired number? \"))\n",
    "print(\"Hexadecimal representation of number {0} is: {1}\".format(H_num, DecimalToHex(H_num)))"
   ]
  }
 ],
 "metadata": {
  "kernelspec": {
   "display_name": "Python 3.9.6 64-bit",
   "language": "python",
   "name": "python3"
  },
  "language_info": {
   "codemirror_mode": {
    "name": "ipython",
    "version": 3
   },
   "file_extension": ".py",
   "mimetype": "text/x-python",
   "name": "python",
   "nbconvert_exporter": "python",
   "pygments_lexer": "ipython3",
   "version": "3.10.6"
  },
  "orig_nbformat": 4,
  "vscode": {
   "interpreter": {
    "hash": "31f2aee4e71d21fbe5cf8b01ff0e069b9275f58929596ceb00d14d90e3e16cd6"
   }
  }
 },
 "nbformat": 4,
 "nbformat_minor": 2
}
