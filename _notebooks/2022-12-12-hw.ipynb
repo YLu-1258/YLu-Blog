{
 "cells": [
  {
   "attachments": {},
   "cell_type": "markdown",
   "metadata": {},
   "source": [
    "# Unit 3 Lesson 16, Student Copy\n",
    "- toc: true\n",
    "- comments: true\n"
   ]
  },
  {
   "attachments": {},
   "cell_type": "markdown",
   "metadata": {},
   "source": [
    "### Hack #1 - Class Notes\n",
    "\n",
    "Write any extra notes you have here\n",
    "1) We run simulations all the time to test projected results in real life\n",
    "2) Simulations could help us represent various real life scenarios with many of their random values and nature with spinners and rngs\n",
    "3) Many different examples can be simulated\n",
    "    1) Air traffic\n",
    "    2) Chemical Reactions\n",
    "    3) Missile launches\n",
    "4) We can use the python random module to run various simulations in our programs. For instance, random number generators could be used to simulate different probabilities and such."
   ]
  },
  {
   "attachments": {},
   "cell_type": "markdown",
   "metadata": {},
   "source": [
    "### Hack #2 - Functions Classwork"
   ]
  },
  {
   "cell_type": "code",
   "execution_count": 42,
   "metadata": {},
   "outputs": [
    {
     "name": "stdout",
     "output_type": "stream",
     "text": [
      "Your random number generated on the interval of 10 to 100 was 92.\n",
      "Removed random piece of clothing 'T-Shirts' from closet\n",
      "Moved a random piece of clothing 'Hoodie' from another closet to the main closet\n",
      "['Shoes', 'pants', 'boxers', 'socks', 'jacket', 'Hoodie']\n",
      "Heads\n",
      "Heads\n",
      "Heads\n",
      "Tails\n",
      "Heads\n"
     ]
    }
   ],
   "source": [
    "# insert your work with randomization/ functions and the mycloset code here # Hint: Use the functions we talked about in the beginning!\n",
    "from random import *\n",
    "lo = int(input(\"What is your desired lower range?\"))\n",
    "hi = int(input(\"What is your desired upper range?\"))\n",
    "x = randint(lo,hi)\n",
    "print(\"Your random number generated on the interval of {0} to {1} was {2}.\".format(lo, hi, x))\n",
    "\n",
    "closet = [\"Shoes\", \"T-Shirts\", \"pants\", \"boxers\", \"socks\", \"jacket\"]\n",
    "new_closet = [\"Hoodie\", \"boots\", \"umbrella\"]\n",
    "def randomTrash():\n",
    "    x = choice(closet)\n",
    "    closet.remove(x)\n",
    "    print(\"Removed random piece of clothing '{0}' from closet\".format(x))\n",
    "\n",
    "def randomAdd():\n",
    "    y = choice(new_closet)\n",
    "    closet.append(y)\n",
    "    new_closet.remove(y)\n",
    "    print(\"Moved a random piece of clothing '{}' from another closet to the main closet\".format(y))\n",
    "\n",
    "def coinflip():         \n",
    "    if randint(1, 3) > 1:\n",
    "        print(\"Heads\")\n",
    "    else:\n",
    "        print(\"Tails\")\n",
    "\n",
    "randomTrash()\n",
    "randomAdd()\n",
    "print(closet)\n",
    "\n",
    "\n",
    "\n",
    "#Tossing the coin 5 times:\n",
    "coinflip()\n",
    "coinflip()\n",
    "coinflip()\n",
    "coinflip()\n",
    "coinflip()\n"
   ]
  },
  {
   "attachments": {},
   "cell_type": "markdown",
   "metadata": {},
   "source": [
    "coinflip example"
   ]
  },
  {
   "cell_type": "markdown",
   "metadata": {},
   "source": [
    "### Hack #3 - Binary Simulation Problem"
   ]
  },
  {
   "cell_type": "code",
   "execution_count": 49,
   "metadata": {},
   "outputs": [
    {
     "name": "stdout",
     "output_type": "stream",
     "text": [
      "The following people survived the apocalypse: \n",
      "\t - Jiya\n",
      "\t - Shruthi\n",
      "\t - Ananya\n",
      "\t - Tom Holland\n"
     ]
    }
   ],
   "source": [
    "# insert your zombie simulation here; you don't have to use this template but it will help you get started\n",
    "\n",
    "from random import randint\n",
    "\n",
    "def randomnum(): # function for generating random int\n",
    "    return randint(0,255)\n",
    "\n",
    "def converttobin(n): # function for converting decimal to binary\n",
    "    x = n\n",
    "    N = 7\n",
    "    res = []\n",
    "    while N >= 0:\n",
    "        if (x - 2 ** N) >= 0:\n",
    "            res.append(1)\n",
    "            x-=2 ** N\n",
    "            N-=1\n",
    "        else:\n",
    "            res.append(0)\n",
    "            N-=1\n",
    "    return res\n",
    "\n",
    "\n",
    "def survivors(): # function to assign position\n",
    "    survivorstatus = [\"Jiya\", \"Shruthi\", \"Noor\", \"Ananya\" , \"Peter Parker\", \"Andrew Garfield\", \"Tom Holland\", \"Tobey Maguire\"]\n",
    "    chances = converttobin(randomnum())\n",
    "    return [survivorstatus[i] for i in range(8) if chances[i] == 1]\n",
    "\n",
    "def printsurvivors(survivor_list):\n",
    "    print(\"The following people survived the apocalypse: \")\n",
    "    for i in survivor_list:\n",
    "        print(\"\\t - {}\".format(i))\n",
    "\n",
    "    # replace the names above with your choice of people in the house\n",
    "\n",
    "survivor_list = survivors()\n",
    "printsurvivors(survivor_list)"
   ]
  },
  {
   "cell_type": "code",
   "execution_count": 28,
   "metadata": {},
   "outputs": [
    {
     "name": "stdout",
     "output_type": "stream",
     "text": [
      "0\n",
      "1\n",
      "2\n",
      "3\n",
      "4\n",
      "5\n",
      "6\n",
      "7\n"
     ]
    }
   ],
   "source": [
    "for i in range(8):\n",
    "    print(i)"
   ]
  },
  {
   "cell_type": "markdown",
   "metadata": {},
   "source": [
    "### Hack #4 - Thinking through a problem\n",
    "- create your own simulation involving a dice roll\n",
    "- should include randomization and a function for rolling + multiple trials"
   ]
  },
  {
   "cell_type": "code",
   "execution_count": 58,
   "metadata": {},
   "outputs": [
    {
     "name": "stdout",
     "output_type": "stream",
     "text": [
      "Trial 1\n",
      "Dice1:  2\n",
      "Dice2:  3\n",
      "Nothing Special :(\n",
      "Trial 2\n",
      "Dice1:  5\n",
      "Dice2:  4\n",
      "Nothing Special :(\n",
      "Trial 3\n",
      "Dice1:  1\n",
      "Dice2:  1\n",
      "Snake Eyes!\n",
      "Trial 4\n",
      "Dice1:  3\n",
      "Dice2:  1\n",
      "Nothing Special :(\n",
      "Trial 5\n",
      "Dice1:  3\n",
      "Dice2:  4\n",
      "Nothing Special :(\n",
      "Trial 6\n",
      "Dice1:  3\n",
      "Dice2:  3\n",
      "Nothing Special :(\n",
      "Trial 7\n",
      "Dice1:  2\n",
      "Dice2:  3\n",
      "Nothing Special :(\n",
      "Trial 8\n",
      "Dice1:  3\n",
      "Dice2:  5\n",
      "Nothing Special :(\n",
      "Trial 9\n",
      "Dice1:  1\n",
      "Dice2:  5\n",
      "Nothing Special :(\n",
      "Trial 10\n",
      "Dice1:  1\n",
      "Dice2:  6\n",
      "Nothing Special :(\n"
     ]
    }
   ],
   "source": [
    "def snakeeyes():\n",
    "    x = randint(1,6)\n",
    "    y = randint(1,6)\n",
    "    print(\"Dice1: \", x)\n",
    "    print(\"Dice2: \", y)\n",
    "    if x == y == 1:\n",
    "        print(\"Snake Eyes!\")\n",
    "        return\n",
    "    print(\"Nothing Special :(\")\n",
    "\n",
    "def runtrials():\n",
    "    trials = 10\n",
    "    counter = 0\n",
    "    while counter < trials:\n",
    "        print(\"Trial {0}\".format(counter+1))\n",
    "        snakeeyes()\n",
    "        counter+=1\n",
    "\n",
    "runtrials()"
   ]
  },
  {
   "attachments": {},
   "cell_type": "markdown",
   "metadata": {},
   "source": [
    "### Hack 5 - Applying your knowledge to situation based problems\n",
    "\n",
    "Using the questions bank below, create a quiz that presents the user a random question and calculates the user's score. You can use the template below or make your own. Making your own using a loop can give you extra points. "
   ]
  },
  {
   "attachments": {},
   "cell_type": "markdown",
   "metadata": {},
   "source": [
    "1. A researcher gathers data about the effect of Advanced Placement®︎ classes on students' success in college and career, and develops a simulation to show how a sequence of AP classes affect a hypothetical student's pathway.Several school administrators are concerned that the simulation contains bias favoring high-income students, however.\n",
    "    - answer options:\n",
    "        1. The simulation is an abstraction and therefore cannot contain any bias\n",
    "        2. The simulation may accidentally contain bias due to the exclusion of details.\n",
    "        3. If the simulation is found to contain bias, then it is not possible to remove the bias from the simulation.\n",
    "        4. The only way for the simulation to be biased is if the researcher intentionally used data that favored their desired output.\n",
    "2. Jack is trying to plan his financial future using an online tool. The tool starts off by asking him to input details about his current finances and career. It then lets him choose different future scenarios, such as having children. For each scenario chosen, the tool does some calculations and outputs his projected savings at the ages of 35, 45, and 55.Would that be considered a simulation and why?\n",
    "    - answer options\n",
    "        1. No, it's not a simulation because it does not include a visualization of the results.\n",
    "        2. No, it's not a simulation because it does not include all the details of his life history and the future financial environment.\n",
    "        3. Yes, it's a simulation because it runs on a computer and includes both user input and computed output.\n",
    "        4. Yes, it's a simulation because it is an abstraction of a real world scenario that enables the drawing of inferences.\n",
    "3. Sylvia is an industrial engineer working for a sporting goods company. She is developing a baseball bat that can hit balls with higher accuracy and asks their software engineering team to develop a simulation to verify the design.Which of the following details is most important to include in this simulation?\n",
    "    - answer options\n",
    "        1. Realistic sound effects based on the material of the baseball bat and the velocity of the hit\n",
    "        2. A depiction of an audience in the stands with lifelike behavior in response to hit accuracy\n",
    "        3. Accurate accounting for the effects of wind conditions on the movement of the ball\n",
    "        4. A baseball field that is textured to differentiate between the grass and the dirt\n",
    "4. Ashlynn is an industrial engineer who is trying to design a safer parachute. She creates a computer simulation of the parachute opening at different heights and in different environmental conditions.What are advantages of running the simulation versus an actual experiment?\n",
    "    - answer options\n",
    "        1. The simulation will not contain any bias that favors one body type over another, while an experiment will be biased.\n",
    "        2. The simulation can be run more safely than an actual experiment\n",
    "        3. The simulation will accurately predict the parachute's safety level, while an experiment may be inaccurate due to faulty experimental design.\n",
    "        4. The simulation can test the parachute design in a wide range of environmental conditions that may be difficult to reliably reproduce in an experiment.\n",
    "    * this question has 2 correct answers\n",
    "5. YOUR OWN QUESTION; can be situational, pseudo code based, or vocab/concept based\n",
    "6. YOUR OWN QUESTION; can be situational, pseudo code based, or vocab/concept based"
   ]
  },
  {
   "cell_type": "code",
   "execution_count": 4,
   "metadata": {},
   "outputs": [
    {
     "name": "stdout",
     "output_type": "stream",
     "text": [
      "Sylvia is an industrial engineer working for a sporting goods company. She is developing a baseball bat that can hit balls with higher accuracy and asks their software engineering team to develop a simulation to verify the design.Which of the following details is most important to include in this simulation?\n",
      "A) Realistic sound effects based on the material of the baseball bat and the velocity of the hit.\n",
      "B) A depiction of an audience in the stands with lifelike behavior in response to hit accuracy.\n",
      "C) Accurate accounting for the effects of wind conditions on the movement of the ball.\n",
      "D) A baseball field that is textured to differentiate between the grass and the dirt.\n",
      "Correct! Nice Job!\n",
      "Ashlynn is an industrial engineer who is trying to design a safer parachute. She creates a computer simulation of the parachute opening at different heights and in different environmental conditions.What are advantages of running the simulation versus an actual experiment?\n",
      "A) The simulation will not contain any bias that favors one body type over another, while an experiment will be biased.\n",
      "B) The simulation can be run more safely than an actual experiment.\n",
      "C) The simulation will accurately predict the parachute's safety level, while an experiment may be inaccurate due to faulty experimental design.\n",
      "D) The simulation can test the parachute design in a wide range of environmental conditions that may be difficult to reliably reproduce in an experiment.\n",
      "Try again next time\n",
      "A researcher gathers data about the effect of Advanced Placement®︎ classes on students' success in college and career, and develops a simulation to show how a sequence of AP classes affect a hypothetical student's pathway.Several school administrators are concerned that the simulation contains bias favoring high-income students, however.\n",
      "A) The simulation is an abstraction and therefore cannot contain any bias.\n",
      "B) The simulation may accidentally contain bias due to the exclusion of details.\n",
      "C) If the simulation is found to contain bias, then it is not possible to remove the bias from the simulation.\n",
      "D) The only way for the simulation to be biased is if the researcher intentionally used data that favored their desired output.\n",
      "Correct! Nice Job!\n",
      "Which of the following ways can we best simulate a spinner?\n",
      "A) Having the user randomly pick a number.\n",
      "B) Using the randint method from the random package over a range of values to generate a value.\n",
      "C) Hard code a random sequence in the source code.\n",
      "D) Use some pattern in nature to return a random value\n",
      "Correct! Nice Job!\n",
      "What module in python could be used to generate random values in simulation experiments?\n",
      "A) random\n",
      "B) randint\n",
      "C) turtle\n",
      "D) tensorflow\n",
      "Correct! Nice Job!\n",
      "Jack is trying to plan his financial future using an online tool. The tool starts off by asking him to input details about his current finances and career. It then lets him choose different future scenarios, such as having children. For each scenario chosen, the tool does some calculations and outputs his projected savings at the ages of 35, 45, and 55.Would that be considered a simulation and why?\n",
      "A) No, it's not a simulation because it does not include a visualization of the results.\n",
      "B) No, it's not a simulation because it does not include all the details of his life history and the future financial environment.\n",
      "C) Yes, it's a simulation because it runs on a computer and includes both user input and computed output.\n",
      "D) Yes, it's a simulation because it is an abstraction of a real world scenario that enables the drawing of inferences.\n",
      "Try again next time\n",
      "You got a total of 4 out of 6 problems right!\n"
     ]
    }
   ],
   "source": [
    "from random import shuffle\n",
    "questions = [\n",
    "    (\"A researcher gathers data about the effect of Advanced Placement®︎ classes on students' success in college and career, and develops a simulation to show how a sequence of AP classes affect a hypothetical student's pathway.Several school administrators are concerned that the simulation contains bias favoring high-income students, however.\",\n",
    "    \"A) The simulation is an abstraction and therefore cannot contain any bias.\", \n",
    "    \"B) The simulation may accidentally contain bias due to the exclusion of details.\", \n",
    "    \"C) If the simulation is found to contain bias, then it is not possible to remove the bias from the simulation.\", \n",
    "    \"D) The only way for the simulation to be biased is if the researcher intentionally used data that favored their desired output.\",\n",
    "    [\"D\"]),\n",
    "    (\"Jack is trying to plan his financial future using an online tool. The tool starts off by asking him to input details about his current finances and career. It then lets him choose different future scenarios, such as having children. For each scenario chosen, the tool does some calculations and outputs his projected savings at the ages of 35, 45, and 55.Would that be considered a simulation and why?\",\n",
    "    \"A) No, it's not a simulation because it does not include a visualization of the results.\", \n",
    "    \"B) No, it's not a simulation because it does not include all the details of his life history and the future financial environment.\", \n",
    "    \"C) Yes, it's a simulation because it runs on a computer and includes both user input and computed output.\", \n",
    "    \"D) Yes, it's a simulation because it is an abstraction of a real world scenario that enables the drawing of inferences.\",\n",
    "    [\"D\"]),\n",
    "    (\"Sylvia is an industrial engineer working for a sporting goods company. She is developing a baseball bat that can hit balls with higher accuracy and asks their software engineering team to develop a simulation to verify the design.Which of the following details is most important to include in this simulation?\",\n",
    "    \"A) Realistic sound effects based on the material of the baseball bat and the velocity of the hit.\", \n",
    "    \"B) A depiction of an audience in the stands with lifelike behavior in response to hit accuracy.\", \n",
    "    \"C) Accurate accounting for the effects of wind conditions on the movement of the ball.\",\n",
    "    \"D) A baseball field that is textured to differentiate between the grass and the dirt.\",\n",
    "    \"C\"),\n",
    "    (\"Ashlynn is an industrial engineer who is trying to design a safer parachute. She creates a computer simulation of the parachute opening at different heights and in different environmental conditions.What are advantages of running the simulation versus an actual experiment?\",\n",
    "    \"A) The simulation will not contain any bias that favors one body type over another, while an experiment will be biased.\", \n",
    "    \"B) The simulation can be run more safely than an actual experiment.\", \n",
    "    \"C) The simulation will accurately predict the parachute's safety level, while an experiment may be inaccurate due to faulty experimental design.\", \n",
    "    \"D) The simulation can test the parachute design in a wide range of environmental conditions that may be difficult to reliably reproduce in an experiment.\",\n",
    "    [\"B\", \"D\"]),\n",
    "    (\"What module in python could be used to generate random values in simulation experiments?\",\n",
    "    \"A) random\", \n",
    "    \"B) randint\", \n",
    "    \"C) turtle\", \n",
    "    \"D) tensorflow\",\n",
    "    [\"A\"]),\n",
    "    (\"Which of the following ways can we best simulate a spinner?\",\n",
    "    \"A) Having the user randomly pick a number.\", \n",
    "    \"B) Using the randint method from the random package over a range of values to generate a value.\", \n",
    "    \"C) Hard code a random sequence in the source code.\", \n",
    "    \"D) Use some pattern in nature to return a random value\",\n",
    "    [\"B\"])\n",
    "]\n",
    "\n",
    "correct = 0\n",
    "total = 6\n",
    "shuffle(questions)\n",
    "def printQuestion(tup):\n",
    "    print(tup[0])\n",
    "    print(tup[1])\n",
    "    print(tup[2])\n",
    "    print(tup[3])\n",
    "    print(tup[4])\n",
    "\n",
    "def questionloop():\n",
    "    correct = 0\n",
    "    for i in range(len(questions)):\n",
    "        printQuestion(questions[i])\n",
    "        ans = input(\"What is your answer? \")\n",
    "        if ans in questions[i][5]:\n",
    "            print(\"Correct! Nice Job!\")\n",
    "            correct+=1\n",
    "        else:\n",
    "            print(\"Try again next time\")\n",
    "    return correct\n",
    "\n",
    "correct = questionloop()\n",
    "print(\"You got a total of {0} out of {1} problems right!\".format(correct, total))"
   ]
  },
  {
   "attachments": {},
   "cell_type": "markdown",
   "metadata": {},
   "source": [
    "### Hack #6 / Challenge - Taking real life problems and implementing them into code"
   ]
  },
  {
   "attachments": {},
   "cell_type": "markdown",
   "metadata": {},
   "source": [
    "Create your own simulation based on your experiences/knowledge!\n",
    "Be creative! Think about instances in your own life, science, puzzles that can be made into simulations\n",
    "\n",
    "Some ideas to get your brain running: A simulation that breeds two plants and tells you phenotypes of offspring, an adventure simulation..."
   ]
  },
  {
   "cell_type": "code",
   "execution_count": 5,
   "metadata": {},
   "outputs": [
    {
     "name": "stdout",
     "output_type": "stream",
     "text": [
      "The speed of a pendulum with length 0.2 and angle 84 is around 1.0226895644880192 m/s\n",
      "The speed of a pendulum with length 0.9 and angle 70 is around 1.9971400495004945 m/s\n",
      "The speed of a pendulum with length 0.8 and angle 52 is around 0.4579075854418543 m/s\n",
      "The speed of a pendulum with length 0.5 and angle 143 is around 4.4253569953806435 m/s\n",
      "The speed of a pendulum with length 0.2 and angle 70 is around 0.9414608479873579 m/s\n"
     ]
    }
   ],
   "source": [
    "import math, random\n",
    "def pendulum(length, angle):\n",
    "    h = length - length*math.sin(angle)\n",
    "    v = math.sqrt(2*9.8 * h)\n",
    "    return v\n",
    "\n",
    "for i in range(5):\n",
    "    l = (random.randint(1,10)/10)\n",
    "    theta = random.randint(0,179)\n",
    "    print(\"The speed of a pendulum with length {0} and angle {1} is around {2} m/s\".format(l, theta, pendulum(l, theta)))"
   ]
  }
 ],
 "metadata": {
  "kernelspec": {
   "display_name": "Python 3",
   "language": "python",
   "name": "python3"
  },
  "language_info": {
   "codemirror_mode": {
    "name": "ipython",
    "version": 3
   },
   "file_extension": ".py",
   "mimetype": "text/x-python",
   "name": "python",
   "nbconvert_exporter": "python",
   "pygments_lexer": "ipython3",
   "version": "3.10.6"
  },
  "orig_nbformat": 4,
  "vscode": {
   "interpreter": {
    "hash": "916dbcbb3f70747c44a77c7bcd40155683ae19c65e1c03b4aa3499c5328201f1"
   }
  }
 },
 "nbformat": 4,
 "nbformat_minor": 2
}
