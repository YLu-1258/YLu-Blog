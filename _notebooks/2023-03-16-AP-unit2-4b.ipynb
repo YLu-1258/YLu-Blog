{
 "cells": [
  {
   "attachments": {},
   "cell_type": "markdown",
   "metadata": {},
   "source": [
    "#  Unit 2.4b Using Programs with Data, SQL\n",
    "> Using Programs with Data is focused on SQL and database actions.  Part B focuses on learning SQL commands, connections, and curses using an Imperative programming style,\n",
    "- toc: true\n",
    "- image: /images/python.png\n",
    "- categories: []\n",
    "- type: ap\n",
    "- week: 26"
   ]
  },
  {
   "attachments": {},
   "cell_type": "markdown",
   "metadata": {},
   "source": [
    "# Database Programming is Program with Data\n",
    "> Each Tri 2 Final Project should be an example of a Program with Data. \n",
    "\n",
    ">  Prepare to use SQLite in common Imperative Technique\n",
    "- Explore [SQLite Connect object](https://www.tutorialspoint.com/python_data_access/python_sqlite_establishing_connection.htm) to establish database connection\n",
    "- Explore [SQLite Cursor Object](https://www.tutorialspoint.com/python_data_access/python_sqlite_cursor_object.htm) to fetch data from a table within a database\n"
   ]
  },
  {
   "attachments": {},
   "cell_type": "markdown",
   "metadata": {},
   "source": [
    "## Schema of Users table in Sqlite.db\n",
    "> Uses PRAGMA statement to read schema.\n",
    "\n",
    "Describe Schema, here is resource [Resource](https://www.sqlite.org/index.html)\n",
    "- What is a database schema?\n",
    "    - **A database schema serves as the outline and a blueprint of all tables and associated attributes within a database.**\n",
    "- What is the purpose of identity Column in SQL database?\n",
    "    - **The Identity colun is a numeric column in databases that can be automatically populated with numeric values. Typically, to declare an identity column in the database schema, we would define a seed (intial value) and an incrementation value. Each table can only have 1 identity column.**\n",
    "- What is the purpose of a primary key in SQL database?\n",
    "    - **The primary key in a SQL database serves to act as an identifier for a particular database entry. The values in this column must be unique and non-NULL. Similar to the identity column, each table in a database can only have 1 primary key.**\n",
    "        - *On the other hand, a composite key is one that operates with multiple columns in a table, and serves to uniquely identify a row based on the contents of the corresponding columns. EX: ProductID and UserID, these columns could have non-unique IDs, but every pair in the database must be unique.*\n",
    "- What are the Data Types in SQL table?\n",
    "    - **There are many data types for SQL. The most common types represent string and numeric data**\n",
    "\n",
    "Examples:  \n",
    "| Type | Name | Purpose |\n",
    "| - | - | - |\n",
    "| String | CHAR(size) | Stores a fixed length of strings. Default length is 1 |\n",
    "| String | VARCHAR(size) | Stores are variable length string. |\n",
    "| String | TEXT(size) | Holds a string with a maximum size of 65,535 bytes |\n",
    "|  |  |  |\n",
    "| Numeric | INTEGER(size) | Stores a signed integer (-2147483648 to 2147483647) or unsigned integer (0 to 4294967295) |\n",
    "| Numeric | FLOAT(p) or DOUBLE() | Stores a floating point number, double can store more bits than FLOAT |\n"
   ]
  },
  {
   "cell_type": "code",
   "execution_count": 1,
   "metadata": {},
   "outputs": [
    {
     "name": "stdout",
     "output_type": "stream",
     "text": [
      "(0, 'id', 'INTEGER', 1, None, 1)\n",
      "(1, '_name', 'VARCHAR(255)', 1, None, 0)\n",
      "(2, '_uid', 'VARCHAR(255)', 1, None, 0)\n",
      "(3, '_password', 'VARCHAR(255)', 1, None, 0)\n",
      "(4, '_dob', 'DATE', 0, None, 0)\n"
     ]
    }
   ],
   "source": [
    "import sqlite3\n",
    "\n",
    "database = 'instance/sqlite.db' # this is location of database\n",
    "\n",
    "def schema():\n",
    "    \n",
    "    # Connect to the database file\n",
    "    conn = sqlite3.connect(database)\n",
    "\n",
    "    # Create a cursor object to execute SQL queries\n",
    "    cursor = conn.cursor()\n",
    "    \n",
    "    # Fetch results of Schema\n",
    "    results = cursor.execute(\"PRAGMA table_info('users')\").fetchall()\n",
    "\n",
    "    # Print the results\n",
    "    for row in results:\n",
    "        print(row)\n",
    "\n",
    "    # Close the database connection\n",
    "    conn.close()\n",
    "    \n",
    "schema()\n"
   ]
  },
  {
   "attachments": {},
   "cell_type": "markdown",
   "metadata": {},
   "source": [
    "## Reading Users table in Sqlite.db\n",
    "> Uses SQL SELECT statement to read data\n",
    "\n",
    "- What is a connection object?  After you google it, what do you think it does?\n",
    "  - **A connection object represents the connection to an open SQLite database. It contains all the attributes and methods that we may use to alter and manipulate the database.**\n",
    "- Same for cursor object?\n",
    "  - **A cursor object represents and invokes methods to execute SQL queries on a database. Using it we can fetch and alter database entries in our DB.**\n",
    "- Look at conn object and cursor object in VSCode debugger.  What attributes are in the object?\n",
    "  - **Looking at the VSCode debugger, we can see that these objects contain certain special variables function variables and class variables for the Connection object. We can also see that it represents many of the methods we use to modifiy the database, such as `execute()` and accessing data `fetchall()`**\n",
    "- Is \"results\" an object?  How do you know?\n",
    "  - **\"results\" is an object because we can see that it contains many attributes and methods of it's own in the debug menu**"
   ]
  },
  {
   "cell_type": "code",
   "execution_count": 10,
   "metadata": {},
   "outputs": [
    {
     "name": "stdout",
     "output_type": "stream",
     "text": [
      "(1, 'Thomas Edison', 'toby', 'sha256$IQiLG4AbM5dcnNoL$e49522d138cacc1e98785d482fe66d039bf2e487c5b371538831102c306641db', '1847-02-11')\n",
      "(2, 'Nikola Tesla', 'niko', 'sha256$S7wEhsAIHhuowABr$30eb9f4f186b88d6a642aa13590dfaf97a9dc039e5536bf86c21c81d5da32dda', '2023-03-15')\n",
      "(3, 'Alexander Graham Bell', 'lex', 'sha256$bCwwzDSaMq7lWwID$d80eae2665c1fa612437db0c1fded6c1ed42fa66ba4183560661aeaa41619d02', '2023-03-15')\n",
      "(4, 'Eli Whitney', 'whit', 'sha256$QhfkU8j8aR4WVAfd$d31b07e2a7a1f66498d5e1da4d30bd08873fd134058149bdd28404f4ef9e200a', '2023-03-15')\n",
      "(5, 'Indiana Jones', 'indi', 'sha256$geO9CNSTl4xs8gg9$c30ee2df54229ad7ac640c89ecacf38d00ec3e48b64515f7fe285ce4e1c4a5c1', '1920-10-21')\n",
      "(6, 'Marion Ravenwood', 'raven', 'sha256$79mFg8xP1wDlScb1$bd6a81f36bd3bca1f841385aed7dd4faefc820ace67175fa0d6b54d59b674ff1', '1921-10-21')\n",
      "(7, 'alex', '', 'sha256$is4jvpXEdcAguC7y$9ed42aa62953f3cb3a2ddf32fd594e6db19f1feea3d3e7b68a6b47be7cbcd53d', '1940-01-01')\n",
      "(8, 'Alexander Lu', '1337', 'password', '2006-11-29')\n"
     ]
    }
   ],
   "source": [
    "import sqlite3\n",
    "\n",
    "def read():\n",
    "    # Connect to the database file\n",
    "    conn = sqlite3.connect(database)\n",
    "\n",
    "    # Create a cursor object to execute SQL queries\n",
    "    cursor = conn.cursor()\n",
    "    \n",
    "    # Execute a SELECT statement to retrieve data from a table\n",
    "    results = cursor.execute('SELECT * FROM users').fetchall()\n",
    "\n",
    "    # Print the results\n",
    "    if len(results) == 0:\n",
    "        print(\"Table is empty\")\n",
    "    else:\n",
    "        for row in results:\n",
    "            print(row)\n",
    "\n",
    "    # Close the cursor and connection objects\n",
    "    cursor.close()\n",
    "    conn.close()\n",
    "    \n",
    "read()\n"
   ]
  },
  {
   "attachments": {},
   "cell_type": "markdown",
   "metadata": {},
   "source": [
    "## Create a new User in table in Sqlite.db\n",
    "> Uses SQL INSERT to add row\n",
    "-  Compore create() in both SQL lessons.  What is better or worse in the two implementations?\n",
    "   -  **In the OOP lesson, the create() object relies on the instantiated object to extract data to upload to the database. However, in the Imperitive approach, we directly edit the Database with SQL queries. From a logistic point of view, the OOP method should be better than imperative approach since it could share attributes and arguments with the other CRUD elements as well.**\n",
    "-  Explain purpose of SQL INSERT. Is this the same as User \\_\\_init\\_\\_?\n",
    "   -  **SQL INSERT serves to create a new database entry within the table. On the otherhand, User.\\_\\_init\\_\\_() in the OOP approach serves to instantiate an object to be added to the database. They are not the same things**"
   ]
  },
  {
   "cell_type": "code",
   "execution_count": 9,
   "metadata": {},
   "outputs": [
    {
     "name": "stdout",
     "output_type": "stream",
     "text": [
      "A new user record 1337 has been created\n"
     ]
    }
   ],
   "source": [
    "import sqlite3\n",
    "\n",
    "def create():\n",
    "    name = input(\"Enter your name:\")\n",
    "    uid = input(\"Enter your user id:\")\n",
    "    password = input(\"Enter your password\")\n",
    "    dob = input(\"Enter your date of birth 'YYYY-MM-DD'\")\n",
    "    \n",
    "    # Connect to the database file\n",
    "    conn = sqlite3.connect(database)\n",
    "\n",
    "    # Create a cursor object to execute SQL commands\n",
    "    cursor = conn.cursor()\n",
    "\n",
    "    try:\n",
    "        # Execute an SQL command to insert data into a table\n",
    "        cursor.execute(\"INSERT INTO users (_name, _uid, _password, _dob) VALUES (?, ?, ?, ?)\", (name, uid, password, dob))\n",
    "        \n",
    "        # Commit the changes to the database\n",
    "        conn.commit()\n",
    "        print(f\"A new user record {uid} has been created\")\n",
    "                \n",
    "    except sqlite3.Error as error:\n",
    "        print(\"Error while executing the INSERT:\", error)\n",
    "\n",
    "\n",
    "    # Close the cursor and connection objects\n",
    "    cursor.close()\n",
    "    conn.close()\n",
    "    \n",
    "create()"
   ]
  },
  {
   "attachments": {},
   "cell_type": "markdown",
   "metadata": {},
   "source": [
    "## Updating a User in table in Sqlite.db\n",
    "> Uses SQL UPDATE to modify password\n",
    "- What does the hacked part do?\n",
    "  - **The hacked part essentially serves a joke warning against the user when they create an insecure password lesser than 2 characters. Additionally, it also sets a new password for the user**\n",
    "- Explain try/except, when would except occur?\n",
    "  - **An except would occur if our UPDATE query were to fail to execute. While completing the hacks, I have encountered such a case where my database was locked, thus preventing me from updating and invoking the except block.**\n",
    "- What code seems to be repeated in each of these examples to point, why is it repeated?\n",
    "  - **Within every code block, we are repeating the initializaion of the connection and cursor objects. This is repeated because of a programming idea called \"scope\". Each time we define these objects, they only exist within the function, and not elsewhere, so we must redefine them if we wish to use them again.**"
   ]
  },
  {
   "cell_type": "code",
   "execution_count": null,
   "metadata": {},
   "outputs": [],
   "source": [
    "import sqlite3\n",
    "\n",
    "def update():\n",
    "    uid = input(\"Enter user id to update\")\n",
    "    password = input(\"Enter updated password\")\n",
    "    if len(password) < 2:\n",
    "        message = \"hacked\"\n",
    "        password = 'gothackednewpassword123'\n",
    "    else:\n",
    "        message = \"successfully updated\"\n",
    "\n",
    "    # Connect to the database file\n",
    "    conn = sqlite3.connect(database)\n",
    "\n",
    "    # Create a cursor object to execute SQL commands\n",
    "    cursor = conn.cursor()\n",
    "\n",
    "    try:\n",
    "        # Execute an SQL command to update data in a table\n",
    "        cursor.execute(\"UPDATE users SET _password = ? WHERE _uid = ?\", (password, uid))\n",
    "        if cursor.rowcount == 0:\n",
    "            # The uid was not found in the table\n",
    "            print(f\"No uid {uid} was not found in the table\")\n",
    "        else:\n",
    "            print(f\"The row with user id {uid} the password has been {message}\")\n",
    "            conn.commit()\n",
    "    except sqlite3.Error as error:\n",
    "        print(\"Error while executing the UPDATE:\", error)\n",
    "        \n",
    "    \n",
    "    # Close the cursor and connection objects\n",
    "    cursor.close()\n",
    "    conn.close()\n",
    "    \n",
    "#update()\n"
   ]
  },
  {
   "attachments": {},
   "cell_type": "markdown",
   "metadata": {},
   "source": [
    "## Delete a User in table in Sqlite.db\n",
    "> Uses a delete function to remove a user based on a user input of the id.\n",
    "- Is DELETE a dangerous operation?  Why?\n",
    "  - **DELETE could be a dangerous function. This is because it contains the ability to drop entire database entries with no recovery. This is especially dangerous in certain attacks, such as SQL Injects, where a malicious attacker could potentially inject SQL fragments to delete other uninteded entries, causing havoc.**\n",
    "- In the print statemements, what is the \"f\" and what does {uid} do?\n",
    "  - **The f represents a formatted a string, while {uid} documents a variable to be inserted into the string, where uid is the name of the variable**"
   ]
  },
  {
   "cell_type": "code",
   "execution_count": null,
   "metadata": {},
   "outputs": [],
   "source": [
    "import sqlite3\n",
    "\n",
    "def delete():\n",
    "    uid = input(\"Enter user id to delete\")\n",
    "\n",
    "    # Connect to the database file\n",
    "    conn = sqlite3.connect(database)\n",
    "\n",
    "    # Create a cursor object to execute SQL commands\n",
    "    cursor = conn.cursor()\n",
    "    \n",
    "    try:\n",
    "        cursor.execute(\"DELETE FROM users WHERE _uid = ?\", (uid,))\n",
    "        if cursor.rowcount == 0:\n",
    "            # The uid was not found in the table\n",
    "            print(f\"No uid {uid} was not found in the table\")\n",
    "        else:\n",
    "            # The uid was found in the table and the row was deleted\n",
    "            print(f\"The row with uid {uid} was successfully deleted\")\n",
    "        conn.commit()\n",
    "    except sqlite3.Error as error:\n",
    "        print(\"Error while executing the DELETE:\", error)\n",
    "        \n",
    "    # Close the cursor and connection objects\n",
    "    cursor.close()\n",
    "    conn.close()\n",
    "    \n",
    "#delete()"
   ]
  },
  {
   "attachments": {},
   "cell_type": "markdown",
   "metadata": {},
   "source": [
    "# Menu Interface to CRUD operations\n",
    "> CRUD and Schema interactions from one location by running menu. Observe input at the top of VSCode, observe output underneath code cell.\n",
    "- Why does the menu repeat?\n",
    "  - **This menu repeats itself until the escape key is pressed because it calls itself again repeatedly via recursion**\n",
    "- Could you refactor this menu?  Make it work with a List?\n",
    "  - **We could refactor this menu, by changing it such that we include a list of possible options that the user could select from, instead of having repeated if and elif statements.**"
   ]
  },
  {
   "cell_type": "code",
   "execution_count": 13,
   "metadata": {},
   "outputs": [
    {
     "name": "stdout",
     "output_type": "stream",
     "text": [
      "(1, 'Thomas Edison', 'toby', 'sha256$IQiLG4AbM5dcnNoL$e49522d138cacc1e98785d482fe66d039bf2e487c5b371538831102c306641db', '1847-02-11')\n",
      "(2, 'Nikola Tesla', 'niko', 'sha256$S7wEhsAIHhuowABr$30eb9f4f186b88d6a642aa13590dfaf97a9dc039e5536bf86c21c81d5da32dda', '2023-03-15')\n",
      "(3, 'Alexander Graham Bell', 'lex', 'sha256$bCwwzDSaMq7lWwID$d80eae2665c1fa612437db0c1fded6c1ed42fa66ba4183560661aeaa41619d02', '2023-03-15')\n",
      "(4, 'Eli Whitney', 'whit', 'sha256$QhfkU8j8aR4WVAfd$d31b07e2a7a1f66498d5e1da4d30bd08873fd134058149bdd28404f4ef9e200a', '2023-03-15')\n",
      "(5, 'Indiana Jones', 'indi', 'sha256$geO9CNSTl4xs8gg9$c30ee2df54229ad7ac640c89ecacf38d00ec3e48b64515f7fe285ce4e1c4a5c1', '1920-10-21')\n",
      "(6, 'Marion Ravenwood', 'raven', 'sha256$79mFg8xP1wDlScb1$bd6a81f36bd3bca1f841385aed7dd4faefc820ace67175fa0d6b54d59b674ff1', '1921-10-21')\n",
      "(7, 'alex', '', 'sha256$is4jvpXEdcAguC7y$9ed42aa62953f3cb3a2ddf32fd594e6db19f1feea3d3e7b68a6b47be7cbcd53d', '1940-01-01')\n",
      "(8, 'Alexander Lu', '1337', 'password', '2006-11-29')\n",
      "(9, 'Ethan ', '1338', 'password', '2012-12-29')\n"
     ]
    }
   ],
   "source": [
    "# Menu, to run other cells from one control point\n",
    "def menu():\n",
    "    operation = input(\"Enter: (C)reate (R)ead (U)pdate or (D)elete or (S)chema\")\n",
    "    if operation.lower() == 'c':\n",
    "        create()\n",
    "    elif operation.lower() == 'r':\n",
    "        read()\n",
    "    elif operation.lower() == 'u':\n",
    "        update()\n",
    "    elif operation.lower() == 'd':\n",
    "        delete()\n",
    "    elif operation.lower() == 's':\n",
    "        schema()\n",
    "    elif len(operation)==0: # Escape Key\n",
    "        return\n",
    "    else:\n",
    "        print(\"Please enter c, r, u, or d\") \n",
    "    menu() # recursion, repeat menu\n",
    "        \n",
    "try:\n",
    "    menu() # start menu\n",
    "except:\n",
    "    print(\"Perform Jupyter 'Run All' prior to starting menu\")\n"
   ]
  },
  {
   "attachments": {},
   "cell_type": "markdown",
   "metadata": {},
   "source": [
    "# Hacks\n",
    "- Add this Blog to you own Blogging site.  In the Blog add notes and observations on each code cell.\n",
    "- In this implementation, do you see procedural abstraction?\n",
    "- In 2.4a or 2.4b lecture\n",
    "    - Do you see data abstraction?  Complement this with Debugging example.\n",
    "    - Use Imperative or OOP style to Create a new Table or do something that applies to your CPT project.\n",
    "    \n",
    "\n",
    "Reference... [sqlite documentation](https://www.sqlitetutorial.net/sqlite-python/creating-tables/)"
   ]
  }
 ],
 "metadata": {
  "kernelspec": {
   "display_name": "base",
   "language": "python",
   "name": "python3"
  },
  "language_info": {
   "codemirror_mode": {
    "name": "ipython",
    "version": 3
   },
   "file_extension": ".py",
   "mimetype": "text/x-python",
   "name": "python",
   "nbconvert_exporter": "python",
   "pygments_lexer": "ipython3",
   "version": "3.9.7"
  },
  "orig_nbformat": 4,
  "vscode": {
   "interpreter": {
    "hash": "8b82d5009c68ba5675978267e2b13a671f2a7143d61273c5a3813c97e0b2493d"
   }
  }
 },
 "nbformat": 4,
 "nbformat_minor": 2
}
