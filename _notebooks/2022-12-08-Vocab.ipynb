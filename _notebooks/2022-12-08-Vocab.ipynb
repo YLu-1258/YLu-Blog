{
 "cells": [
  {
   "attachments": {},
   "cell_type": "markdown",
   "metadata": {},
   "source": [
    "# Vocabulary\n",
    "> Gotta know vocabulary words for units 2 and 3\n",
    "- toc: true\n",
    "- badges: true\n",
    "- comments: true\n",
    "- categories: [Week 13]"
   ]
  },
  {
   "attachments": {},
   "cell_type": "markdown",
   "metadata": {},
   "source": [
    "## Unit 2 Binary/Data Terms\n",
    "\n",
    "**Bits**: The smallest unit of computational storage. Stores a boolean value and can be either on or off, 1 or 0.  \n",
    "\n",
    "**Bytes**: A collection of 8 bits, typically, characters are encoded with a binary byte, such as the ascii encoding system  \n",
    "\n",
    " - **Nibble**: A collection of 4 bits, can store a value between 0 and 15. Due to this nature, a nibble could also be stored within one hexadecimal digit.  \n",
    "\n",
    "**Hexadecimal**: The base 16 numbering system. Follows the standard base 10 digits from 0 - 9, and then branches off. In hex, 10 is represented as A, 11 is represented as B and so on until F, which represents 15.  \n",
    "\n",
    "### Binary Numbers:\n",
    "> The binary representation of a number. Stored in bits of powers of two. If a bit's value is 1, that means that that power of two \"fits within the original number. If the bit is 0, that means that that number does not fit within the original number.  \n",
    "\n",
    "**Unsigned Integer**: An integer value without a specified sign. In other words, these integers are always positive or 0. An unsigned int has 32 bits to store a value that can range from _0_ to _4,294,967,295_ (2^32 - 1)  \n",
    "\n",
    "**Signed Integer**: An integer value with a specified sign. In other words, these integers can be either positive or negative. A signed int also has 32 bits to store a value that can range from _-2,147,483,647_ (-2^31 + 1) to _2,147,483,647_ (2^31 - 1)\n",
    "\n",
    "**Floating Point**: A floating point number is a number that contains a decimal point, or some decimal value attached to the number itself. A floating point number typically also consists of 32 bits. In memory, the floating point number is stored with 1 bit for the sign of the number, 8 bits for the exponent, and 23 bits fo the fraction. This type of floating point number is called \"Single precision\".\n",
    "\n",
    "### Binary Data Abstraction \n",
    "> The act of taking higher level data and simplifying it through a binary representation of it. EG, color and sound could be broken into numerical values, then decimal representations.\n",
    "\n",
    "**Boolean**: A boolean value is one that could be either on or off. Typically, boolean values are represented in programing as either True or False.  \n"
   ]
  },
  {
   "cell_type": "code",
   "execution_count": 1,
   "metadata": {},
   "outputs": [
    {
     "name": "stdout",
     "output_type": "stream",
     "text": [
      "A quick demonstration on the behaviors of booleans and their operations\n",
      "False\n",
      "True\n",
      "False\n",
      "True\n",
      "False\n"
     ]
    }
   ],
   "source": [
    "print(\"A quick demonstration on the behaviors of booleans and their operations\")\n",
    "t = True\n",
    "f = False\n",
    "print(t == f)\n",
    "print(t != f)\n",
    "print(not t)\n",
    "print(t)\n",
    "print(f)"
   ]
  },
  {
   "attachments": {},
   "cell_type": "markdown",
   "metadata": {},
   "source": [
    "**ASCII**: A character encoding system based on binary that coordinates letters, special characters, and certain control characters.  \n",
    "\n",
    "**Unicode**: Another character encoding system that uses 16 bits instead of 8 bits to encode characters. Thus, unlike ASCII, Unicode is able to store much more characters on a broader scale.\n",
    "\n",
    "**RGB**: A color model in which the colors red, blue and green are mixed together in order to form different blends and hues of colors.  \n",
    "\n",
    "### Data Compression\n",
    "> The act of of restructuring or encoding text in an attempt to reduce the overall size of a particular file or string.\n",
    "\n",
    "**Lossy**: An irreversible form of data compression that uses imprecise rounding and approximations to reduce data size. Some examples are JPEG image, MPEG video and MP3 audio formats.\n",
    "\n",
    "**Lossless**: In the name, when re-extracting or recovering, the original data can almost be perfectly restored from the compression, hence lossless. This type of compression is possible because of various statistical redundancies that occur in files and data."
   ]
  },
  {
   "attachments": {},
   "cell_type": "markdown",
   "metadata": {},
   "source": [
    "## Unit 3: Algorithms and Programming Terms\n",
    "\n",
    "**Variables**: Variables can serve as a reference name for a container of data. Variables can have different data types that correlate to the type of data they store. For instance, integers, chars, or booleans."
   ]
  },
  {
   "cell_type": "code",
   "execution_count": 3,
   "metadata": {},
   "outputs": [
    {
     "name": "stdout",
     "output_type": "stream",
     "text": [
      "Integer Variable:  1337\n",
      "Boolean Variable:  True\n",
      "String Variable:  I love coding\n"
     ]
    }
   ],
   "source": [
    "var_int = 1337\n",
    "var_bool = True\n",
    "var_string = \"I love coding\"\n",
    "print(\"Integer Variable: \", var_int)\n",
    "print(\"Boolean Variable: \", var_bool)\n",
    "print(\"String Variable: \", var_string)"
   ]
  },
  {
   "attachments": {},
   "cell_type": "markdown",
   "metadata": {},
   "source": [
    "**Data Types**: A specific family or group of similar data that grant certain interactions or interpretations of it's data. Common examples are:\n",
    " - Integer\n",
    " - Float\n",
    " - Character\n",
    " - Boolean\n",
    " - String\n",
    " - Array\n",
    " - Enums\n",
    "\n",
    "**Assignment Operators**: Assignment operators are operators that can perform a certain arithmetic operation, while assigning a value to a certain variable."
   ]
  },
  {
   "cell_type": "code",
   "execution_count": 6,
   "metadata": {},
   "outputs": [
    {
     "name": "stdout",
     "output_type": "stream",
     "text": [
      "x =  10\n",
      "x =  50\n",
      "x =  3000\n",
      "x =  1000.0\n",
      "x =  975.0\n",
      "x =  9.0\n"
     ]
    }
   ],
   "source": [
    "# Assignment Operators\n",
    "x = 10\n",
    "print(\"x = \", x)\n",
    "x += 40\n",
    "print(\"x = \", x)\n",
    "x *= 60\n",
    "print(\"x = \", x)\n",
    "x /= 3\n",
    "print(\"x = \", x)\n",
    "x -= 25\n",
    "print(\"x = \", x)\n",
    "x %= 23\n",
    "print(\"x = \", x)"
   ]
  },
  {
   "attachments": {},
   "cell_type": "markdown",
   "metadata": {},
   "source": [
    "### Managing Complexity with Variables\n",
    "> Variables can be used to create references to values and complex structures in our code\n",
    "\n",
    "**Lists**: A python list is a data structure that allows for the storage of multiple values sequentially within a single variable. A list is also one of python's iterables, which are objects that could be traversed via `iteration`.\n",
    "\n",
    "**2D-Lists**: 2-Dimensional lists are essentially lists that have nested lists inside them, hence, two dimensional. in this case, the nested list would count as one whole element of the larger list, and can have it's own elements to be accessed.\n",
    "\n",
    "**Dictionaries**: Dictionaries in python are similar to hashmaps in C++ and other languages. Dictionaries serve to store key-value pairs, which is convenient for matching one value to another.\n",
    "\n",
    "**Class**: A class is one of the fundamental building blocks for `Object Oriented Programming`. A class serves as a blueprint for an `Object`, which can contain various attributes and methods. "
   ]
  },
  {
   "cell_type": "code",
   "execution_count": 20,
   "metadata": {},
   "outputs": [
    {
     "name": "stdout",
     "output_type": "stream",
     "text": [
      "A python list:  [1, 2, 3, 4, 4, 5, 6, 7, 8, 9, 11]\n",
      "First 10 odd numbers:  [1, 3, 5, 7, 9, 11, 13, 15, 17, 19]\n",
      "16\n",
      "Alex : 16 years old\n",
      "Evan : 17 years old\n",
      "Hasseb : 15 years old\n",
      "Nathan : 17 years old\n",
      "Lily : 16 years old\n",
      "0.2\n"
     ]
    }
   ],
   "source": [
    "# A simple list\n",
    "arr1 = [1,2,3,4,5,6,7,8,9,10]\n",
    "\n",
    "# List operations\n",
    "x = arr1[1]                 # retrieving the second element\n",
    "y = arr1.pop()              # popping and storing the last element of hte list within variable y\n",
    "arr1.insert(3,4)            # inserting value 4 at index 3 of the list\n",
    "arr1.append(11)             # Adding 11 at the end of the list\n",
    "print(\"A python list: \", arr1)\n",
    "\n",
    "# Python's list comprehension syntax\n",
    "arr2 = [i+i-1 for i in range(1,11)]         # Creating a list of the first 10 odd numbers\n",
    "print(\"First 10 odd numbers: \", arr2)\n",
    "\n",
    "# Dictionaries\n",
    "names = {\n",
    "    \"Alex\":16,\n",
    "    \"Evan\":17,\n",
    "    \"Hasseb\":15,\n",
    "    \"Nathan\":17,\n",
    "    \"Lily\":16\n",
    "}\n",
    "print(names[\"Alex\"])            # Accessing the value of Alex\n",
    "for key in names.keys():        # Accessing each element in the dictionary\n",
    "    print(key + \" : \" + str(names[key]) + \" years old\")\n",
    "\n",
    "# Classes\n",
    "class Vehicle():\n",
    "    def __init__(self, color=\"white\", speed=0.2):           # Class Constructor\n",
    "        self.color = color                                  # Class Attributes\n",
    "        self.speed = speed\n",
    "        self.pos = 0\n",
    "        self.time = 60\n",
    "\n",
    "    def goForward(self):                                    # Class Methods\n",
    "        self.pos + self.speed * 60\n",
    "\n",
    "    def goBackwards(self):\n",
    "        self.pos - self.speed * 60\n",
    "\n",
    "class Car(Vehicle):                                         # Child class inheriting from the vehicle class\n",
    "    def __init__(self, color = \"red\", speed = \"0.8\"):\n",
    "        self.fuel = 45\n",
    "\n",
    "    def getSpeed(self):\n",
    "        print(self.speed)\n",
    "\n",
    "    def getFuel(self):\n",
    "        print(self.fuel)\n",
    "car1 = Car()\n",
    "car1.getSpeed()"
   ]
  },
  {
   "attachments": {},
   "cell_type": "markdown",
   "metadata": {},
   "source": [
    "**Expressions**: A combination of operators and terms that form a mathematical relationship.\n",
    "\n",
    "**Comparison Operators**: Compares two values and returns a boolean result.\n",
    "\n",
    "**Booleans Expressions and Selection**: An expression that would return a boolean value, either True or False. If True, the program will select that value and do something with it, if not, the program will ignore that value\n",
    "\n",
    "**Booleans Expressions and Iteration**: Similar to \"Boolean Expressions and Selection\" (see above), except boolean expressions could be used as conditionals within loop and iterations to create logical progressions.\n",
    "\n",
    "**Truth Tables**: A set of rules for binary operations that are always strictly true:"
   ]
  },
  {
   "cell_type": "code",
   "execution_count": 22,
   "metadata": {},
   "outputs": [
    {
     "data": {
      "image/png": "[encoded data removed]",
      "text/plain": [
       "<IPython.core.display.Image object>"
      ]
     },
     "execution_count": 22,
     "metadata": {},
     "output_type": "execute_result"
    }
   ],
   "source": [
    "#hide_input\n",
    "from IPython import display\n",
    "display.Image(\"../images/truth-table.png\")"
   ]
  },
  {
   "cell_type": "code",
   "execution_count": 30,
   "metadata": {},
   "outputs": [
    {
     "name": "stdout",
     "output_type": "stream",
     "text": [
      "29.5\n",
      "True\n",
      "False\n",
      "True\n",
      "False\n",
      "True\n",
      "False\n",
      "[123, 192, 153, 164]\n",
      "0\n",
      "1\n",
      "2\n",
      "3\n",
      "4\n",
      "5\n",
      "6\n",
      "7\n",
      "8\n",
      "9\n",
      "10\n",
      "\n"
     ]
    }
   ],
   "source": [
    "# Expression:\n",
    "\n",
    "res = 1+5*9/2+6\n",
    "print(res)\n",
    "\n",
    "# Comparison Operators\n",
    "print(6>1)\n",
    "print(6<1)\n",
    "print(42>=3)\n",
    "print(2349<=34)\n",
    "print(18==18)\n",
    "print(81!=81)\n",
    "\n",
    "# Boolean Expressions and selection\n",
    "\n",
    "arr1 = [123,13,2,192,84,20,153,47,164]\n",
    "arr2 = [i for i in arr1 if i > 100]         # Checking each element in arr1 to see if they are greater than 100, if so, add to arr2\n",
    "print(arr2)\n",
    "\n",
    "# Boolean Expressions and iteration\n",
    "i = 0\n",
    "while i <= 10:              # Checking for if the counter variable is smaller than or equal to 10.\n",
    "    print(i)\n",
    "    i+=1"
   ]
  },
  {
   "attachments": {},
   "cell_type": "markdown",
   "metadata": {},
   "source": [
    "**Characters**: A singular symbol or control character.\n",
    "\n",
    "**Strings**: A collection of characters \"stringed\" together.\n",
    "\n",
    "**Length**: The overall number of elements a particular structure has. Elements for a list, and characters for a string\n",
    "\n",
    "**Concatenation**: The act of combining two strings together into a larger string\n",
    "\n",
    "**Upper and Lower**: String operations in python to convert a string into either all caps or lower case. Useful for controlling case-insensitive user information.\n",
    "\n",
    "**Traversing strings**: Strings can be traversed similar to lists, where we can visit each character and perform an action on it"
   ]
  },
  {
   "cell_type": "code",
   "execution_count": 32,
   "metadata": {},
   "outputs": [
    {
     "name": "stdout",
     "output_type": "stream",
     "text": [
      "11\n",
      "HELLO WORLD\n",
      "hello world\n",
      "72\n",
      "101\n",
      "108\n",
      "108\n",
      "111\n",
      "32\n",
      "87\n",
      "111\n",
      "114\n",
      "108\n",
      "100\n"
     ]
    }
   ],
   "source": [
    "# Character:\n",
    "a = \"A\"\n",
    "\n",
    "# String:\n",
    "b = \"Hello World\"\n",
    "\n",
    "# Length\n",
    "print(len(b))               # Length of the b string variable\n",
    "\n",
    "# Upper and Lower\n",
    "print(b.upper())\n",
    "print(b.lower())\n",
    "\n",
    "# Traversing a string\n",
    "for i in b:\n",
    "    print(ord(i))"
   ]
  },
  {
   "attachments": {},
   "cell_type": "markdown",
   "metadata": {},
   "source": [
    "### Conditional Statements\n",
    "**Python If, Elif, Else conditionals**: The if statement in python consists of the `if` keyword and a boolean condition. If the condition evaluates to be true, then the code underneath the if block would be executed.  \n",
    "\n",
    "The elif statement in python consists of the `elif` keyword and another boolean condition. If the condition for the first if statement evaluates to be false, python will then check for the elif conditions in order. If any one of the conditions meet, python will execute the first True condition and stop the check there.\n",
    "\n",
    "The else statement in python consists of the `else` keyword and no conditions. The code under this block is ran if none of the if or elif statements are satisfied. Thus, the else statement could be thought of as a default output.\n",
    "\n",
    "**Nested Selection Statements**: Similar to loops, if elif, and else statements could be nested within one another to create more specific and complex checks."
   ]
  },
  {
   "cell_type": "code",
   "execution_count": 33,
   "metadata": {},
   "outputs": [
    {
     "name": "stdout",
     "output_type": "stream",
     "text": [
      "It is warm outside, Go play!\n"
     ]
    }
   ],
   "source": [
    "temp = 75\n",
    "if temp <= 80:\n",
    "    if temp >= 60:\n",
    "        print(\"It is warm outside, Go play!\")\n",
    "    elif (temp < 60 and temp > 35):\n",
    "        print(\"It is slightly chilly, go wear a jacket!\")\n",
    "    else:\n",
    "        print(\"Prepare for snow!\")\n",
    "elif (temp > 80 and temp < 100):\n",
    "    print(\"It is pretty hot outside, bring some water\")\n",
    "else:\n",
    "    print(\"It is BURNING!!!!\")"
   ]
  },
  {
   "attachments": {},
   "cell_type": "markdown",
   "metadata": {},
   "source": [
    "### Python Iteration\n",
    "**Python For**: A for loop is a loop used for iterating over an array of values or a range of numbers. Typically, a force loop could be used for traversing a list to perform actions on each element, or using numerical values to represent list indices.\n",
    "\n",
    "\n",
    "**While loops with Range with List**: A while loop could be used in conjuncture with a range to specify a certain set of numbers to analyze. Typically, this set up could also be used with a list to traverse the list by indexes. A powerful aspect of this approach is that we can set different rules about how our range behaves to have traversing behaviors outside of the standard sequence.\n",
    "\n",
    "\n",
    "**Combining loops with conditionals to Break**: An if-elif-else conditional could also be added within for and while loops to control code execution. A condition can be set such that if met, the program will call the `break` keyword, which will automatically terminal the current iteration and end the loop cycle, continuing with the rest of the program.\n",
    "\n",
    "\n",
    "**Continue**: The continue keyword can be used within a loop to skip all remaining code in that cycle and continue on to the next iteration."
   ]
  },
  {
   "cell_type": "code",
   "execution_count": 35,
   "metadata": {},
   "outputs": [
    {
     "name": "stdout",
     "output_type": "stream",
     "text": [
      "Bob\n",
      "John\n",
      "Alex\n",
      "Steve\n",
      "Michael\n",
      "----------------------------------------\n",
      "Bob\n",
      "John\n",
      "Alex\n",
      "Steve\n",
      "Michael\n",
      "----------------------------------------\n",
      "Bob\n",
      "John\n",
      "----------------------------------------\n",
      "Bob\n",
      "John\n",
      "Steve\n",
      "Michael\n"
     ]
    }
   ],
   "source": [
    "# For loop\n",
    "arr = [\"Bob\", \"John\", \"Alex\", \"Steve\", \"Michael\"]\n",
    "for i in range(5):\n",
    "    print(arr[i])\n",
    "print(\"----------------------------------------\")\n",
    "# While loops with range with list\n",
    "i = 0\n",
    "while i in range(5):\n",
    "    print(arr[i])\n",
    "    i+=1\n",
    "print(\"----------------------------------------\")\n",
    "# Combining loops with conditionals to Break:\n",
    "for i in range(5):\n",
    "    if arr[i] == \"Alex\":\n",
    "        break\n",
    "    print(arr[i])\n",
    "print(\"----------------------------------------\")\n",
    "# Continue keyword (We can skip an element)\n",
    "for i in range(5):\n",
    "    if arr[i] == \"Alex\":\n",
    "        continue\n",
    "    print(arr[i])"
   ]
  },
  {
   "attachments": {},
   "cell_type": "markdown",
   "metadata": {},
   "source": [
    "**Procedural Abstraction**: Complex operations and computing logic could be stored within smaller procedures that when combined, make up the whole program and logic. These smaller bits of code allows for a simpler view of the code and better code structure.\n",
    "\n",
    "**Python Def procedures**: Procedures (functions) could be created in python using the `def` keyword\n",
    "\n",
    "**Parameters**: Parameters are the input values for a given procedure or function\n",
    "\n",
    "**Return Values**: Return values are the result of each procedure or the desired value that the given procedure passes on to the rest of the program"
   ]
  },
  {
   "cell_type": "code",
   "execution_count": 44,
   "metadata": {},
   "outputs": [
    {
     "name": "stdout",
     "output_type": "stream",
     "text": [
      "55\n"
     ]
    }
   ],
   "source": [
    "def fibo(n):           # Procedural Abstraction by abstracting the fibonacci sequence with the python def function\n",
    "  if n <= 2:          # n is our argument\n",
    "    return 1\n",
    "  return fibo(n - 1) + fibo(n - 2)            # Our return values are either a) 1 if the number is equal to or smaller than 2\n",
    "                                            #                           or b) the sum of the 2 previous fibonacci numbers\n",
    "\n",
    "print(fibo(10))"
   ]
  }
 ],
 "metadata": {
  "kernelspec": {
   "display_name": "Python 3.10.6 64-bit",
   "language": "python",
   "name": "python3"
  },
  "language_info": {
   "codemirror_mode": {
    "name": "ipython",
    "version": 3
   },
   "file_extension": ".py",
   "mimetype": "text/x-python",
   "name": "python",
   "nbconvert_exporter": "python",
   "pygments_lexer": "ipython3",
   "version": "3.10.6 (main, Nov  2 2022, 18:53:38) [GCC 11.3.0]"
  },
  "orig_nbformat": 4,
  "vscode": {
   "interpreter": {
    "hash": "916dbcbb3f70747c44a77c7bcd40155683ae19c65e1c03b4aa3499c5328201f1"
   }
  }
 },
 "nbformat": 4,
 "nbformat_minor": 2
}
