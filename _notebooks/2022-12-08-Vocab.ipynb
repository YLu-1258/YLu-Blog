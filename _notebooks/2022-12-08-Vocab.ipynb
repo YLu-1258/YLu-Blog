{
 "cells": [
  {
   "attachments": {},
   "cell_type": "markdown",
   "metadata": {},
   "source": [
    "# Vocabulary\n",
    "> Gotta know vocabulary words for units 2 and 3\n",
    "- toc: true\n",
    "- badges: true\n",
    "- comments: true\n",
    "- categories: [Week 13]"
   ]
  },
  {
   "attachments": {},
   "cell_type": "markdown",
   "metadata": {},
   "source": [
    "## Unit 2 Binary/Data Terms\n",
    "\n",
    "**Bits**: The smallest unit of computational storage. Stores a boolean value and can be either on or off, 1 or 0.  \n",
    "\n",
    "**Bytes**: A collection of 8 bits, typically, characters are encoded with a binary byte, such as the ascii encoding system  \n",
    "\n",
    " - **Nibble**: A collection of 4 bits, can store a value between 0 and 15. Due to this nature, a nibble could also be stored within one hexadecimal digit.  \n",
    "\n",
    "**Hexadecimal**: The base 16 numbering system. Follows the standard base 10 digits from 0 - 9, and then branches off. In hex, 10 is represented as A, 11 is represented as B and so on until F, which represents 15.  \n",
    "\n",
    "### Binary Numbers:\n",
    "> The binary representation of a number. Stored in bits of powers of two. If a bit's value is 1, that means that that power of two \"fits within the original number. If the bit is 0, that means that that number does not fit within the original number.  \n",
    "\n",
    "**Unsigned Integer**: An integer value without a specified sign. In other words, these integers are always positive or 0. An unsigned int has 32 bits to store a value that can range from _0_ to _4,294,967,295_ (2^32 - 1)  \n",
    "\n",
    "**Signed Integer**: An integer value with a specified sign. In other words, these integers can be either positive or negative. A signed int also has 32 bits to store a value that can range from _-2,147,483,647_ (-2^31 + 1) to _2,147,483,647_ (2^31 - 1)\n",
    "\n",
    "**Floating Point**: A floating point number is a number that contains a decimal point, or some decimal value attached to the number itself. A floating point number typically also consists of 32 bits. In memory, the floating point number is stored with 1 bit for the sign of the number, 8 bits for the exponent, and 23 bits fo the fraction. This type of floating point number is called \"Single precision\".\n",
    "\n",
    "### Binary Data Abstraction \n",
    "> The act of taking higher level data and simplifying it through a binary representation of it. EG, color and sound could be broken into numerical values, then decimal representations.\n",
    "\n",
    "**Boolean**: A boolean value is one that could be either on or off. Typically, boolean values are represented in programing as either True or False.  \n",
    "\n",
    "**ASCII**: \n"
   ]
  },
  {
   "cell_type": "code",
   "execution_count": null,
   "metadata": {},
   "outputs": [],
   "source": []
  }
 ],
 "metadata": {
  "kernelspec": {
   "display_name": "Python 3.10.6 64-bit",
   "language": "python",
   "name": "python3"
  },
  "language_info": {
   "name": "python",
   "version": "3.10.6"
  },
  "orig_nbformat": 4,
  "vscode": {
   "interpreter": {
    "hash": "916dbcbb3f70747c44a77c7bcd40155683ae19c65e1c03b4aa3499c5328201f1"
   }
  }
 },
 "nbformat": 4,
 "nbformat_minor": 2
}
