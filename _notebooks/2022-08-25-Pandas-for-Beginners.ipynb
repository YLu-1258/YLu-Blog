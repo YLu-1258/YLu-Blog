{
  "cells": [
    {
      "cell_type": "markdown",
      "metadata": {},
      "source": [
        "# Numpy for beginners\n",
        "> From Alex Lu with Love\n",
        "- toc: true\n",
        "- title: Intro to Pandas\n",
        "- author: Alex Lu\n",
        "- badges: true\n",
        "- comments: true\n",
        "- categories: [jupyter,interests]"
      ]
    },
    {
      "cell_type": "markdown",
      "metadata": {
        "id": "nf9xqTUrjGwV"
      },
      "source": [
        "## **Pandas**\n"
      ]
    },
    {
      "cell_type": "markdown",
      "metadata": {
        "id": "y29ENupcjOHC"
      },
      "source": [
        "I will use a dataset of [Fortune 1000](https://www.kaggle.com/winston56/fortune-500-data-2021) from Kaggle datasets to explore pandas library here.\n",
        "\n",
        "The Fortune 1000 dataset is from the Fortune website. It contains U.S. company data for the year 2021. The dataset is 1000 rows and 18 columns.\n",
        "\n",
        "Features:\n",
        "* Company - values are the name of the company\n",
        "Rank - The 2021 rank established by Fortune (1-1000)\n",
        "* Rank Change - The change in the rank from 2020 to 2021. There is only a rank change listed if the company is currently in the top 500 and was previously in the top 500.\n",
        "* Revenue - Revenue of each company in millions. This is the criteria used to rank each company.\n",
        "* Profit - Profit of each company in millions.\n",
        "Num. of Employees - The number of employees each company employs.\n",
        "* Sector - The sector of the market the company operates in.\n",
        "* City - The city where the company's headquarters is located.\n",
        "* State - The state where the company's headquarters is located\n",
        "* Newcomer - Indicates whether or not the company is new to the top Fortune 500 (\"yes\" or \"no\"). No value will be listed for companies outside of the top 500.\n",
        "* CEO Founder - Indicates whether the CEO of the company is also the founder (\"yes\" or \"no\").\n",
        "* CEO Woman - Indicates whether the CEO of the company is a woman (\"yes\" or \"no\").\n",
        "* Profitable - Indicates whether the company is profitable or not (\"yes\" or \"no\").\n",
        "* Prev. Rank - The 2020 rank of the company, as established by Fortune. There will only be previous rank data for the top 500 companies.\n",
        "* CEO - The name of the CEO of the company\n",
        "* Website - The url of the company website\n",
        "* Ticker - The stock ticker symbol of public companies. Some rows will have empty values because the company is a private corporation.\n",
        "* Market Cap - The market cap (or value) of the company in millions. Some rows will have empty values because the company is private. Market valuations were determined on January 20, 2021."
      ]
    },
    {
      "cell_type": "code",
      "execution_count": null,
      "metadata": {
        "colab": {
          "base_uri": "https://localhost:8080/"
        },
        "id": "BXNMZlWjdBDv",
        "outputId": "60b4c0e6-b90b-4cdb-e47d-b216c80cc519"
      },
      "outputs": [
        {
          "name": "stdout",
          "output_type": "stream",
          "text": [
            "/content/: Scheme missing.\n",
            "--2022-05-28 20:30:03--  https://datasets21.s3-us-west-1.amazonaws.com/Fortune_1000.csv\n",
            "Resolving datasets21.s3-us-west-1.amazonaws.com (datasets21.s3-us-west-1.amazonaws.com)... 52.219.192.90\n",
            "Connecting to datasets21.s3-us-west-1.amazonaws.com (datasets21.s3-us-west-1.amazonaws.com)|52.219.192.90|:443... connected.\n",
            "HTTP request sent, awaiting response... 200 OK\n",
            "Length: 138487 (135K) [text/csv]\n",
            "Saving to: ‘Fortune_1000.csv’\n",
            "\n",
            "Fortune_1000.csv    100%[===================>] 135.24K  --.-KB/s    in 0.07s   \n",
            "\n",
            "2022-05-28 20:30:03 (2.02 MB/s) - ‘Fortune_1000.csv’ saved [138487/138487]\n",
            "\n",
            "FINISHED --2022-05-28 20:30:03--\n",
            "Total wall clock time: 0.3s\n",
            "Downloaded: 1 files, 135K in 0.07s (2.02 MB/s)\n"
          ]
        }
      ],
      "source": [
        "# download data file into Google Colab server\n",
        "!wget -nc /content/ https://datasets21.s3-us-west-1.amazonaws.com/Fortune_1000.csv"
      ]
    },
    {
      "cell_type": "code",
      "execution_count": null,
      "metadata": {
        "id": "No2oRDXqlK2B"
      },
      "outputs": [],
      "source": [
        "# import data by pandas.read_csv\n",
        "import pandas as pd\n",
        "f1000 = pd.read_csv('Fortune_1000.csv',index_col=0)"
      ]
    },
    {
      "cell_type": "code",
      "execution_count": null,
      "metadata": {
        "colab": {
          "base_uri": "https://localhost:8080/"
        },
        "id": "zQkIwKcvlmwC",
        "outputId": "16653c39-56a3-4469-d2dd-2f394b2dbf0a"
      },
      "outputs": [
        {
          "name": "stdout",
          "output_type": "stream",
          "text": [
            "<class 'pandas.core.frame.DataFrame'>\n",
            "Index: 1000 entries, Walmart to Liberty Oilfield Services\n",
            "Data columns (total 17 columns):\n",
            " #   Column             Non-Null Count  Dtype  \n",
            "---  ------             --------------  -----  \n",
            " 0   rank               1000 non-null   int64  \n",
            " 1   rank_change        1000 non-null   float64\n",
            " 2   revenue            1000 non-null   float64\n",
            " 3   profit             998 non-null    float64\n",
            " 4   num. of employees  1000 non-null   int64  \n",
            " 5   sector             1000 non-null   object \n",
            " 6   city               1000 non-null   object \n",
            " 7   state              1000 non-null   object \n",
            " 8   newcomer           500 non-null    object \n",
            " 9   ceo_founder        1000 non-null   object \n",
            " 10  ceo_woman          1000 non-null   object \n",
            " 11  profitable         1000 non-null   object \n",
            " 12  prev_rank          1000 non-null   object \n",
            " 13  CEO                992 non-null    object \n",
            " 14  Website            1000 non-null   object \n",
            " 15  Ticker             938 non-null    object \n",
            " 16  Market Cap         960 non-null    object \n",
            "dtypes: float64(3), int64(2), object(12)\n",
            "memory usage: 140.6+ KB\n"
          ]
        }
      ],
      "source": [
        "# explore the dataset\n",
        "f1000.info()"
      ]
    },
    {
      "cell_type": "code",
      "execution_count": null,
      "metadata": {
        "colab": {
          "base_uri": "https://localhost:8080/",
          "height": 295
        },
        "id": "Mc4lk5azu6uf",
        "outputId": "ad142e2d-02ae-4474-a773-7d3d38b41f76"
      },
      "outputs": [
        {
          "data": {
            "text/html": [
              "<div>\n",
              "<style scoped>\n",
              "    .dataframe tbody tr th:only-of-type {\n",
              "        vertical-align: middle;\n",
              "    }\n",
              "\n",
              "    .dataframe tbody tr th {\n",
              "        vertical-align: top;\n",
              "    }\n",
              "\n",
              "    .dataframe thead th {\n",
              "        text-align: right;\n",
              "    }\n",
              "</style>\n",
              "<table border=\"1\" class=\"dataframe\">\n",
              "  <thead>\n",
              "    <tr style=\"text-align: right;\">\n",
              "      <th></th>\n",
              "      <th>rank</th>\n",
              "      <th>rank_change</th>\n",
              "      <th>revenue</th>\n",
              "      <th>profit</th>\n",
              "      <th>num. of employees</th>\n",
              "      <th>sector</th>\n",
              "      <th>city</th>\n",
              "      <th>state</th>\n",
              "      <th>newcomer</th>\n",
              "      <th>ceo_founder</th>\n",
              "      <th>ceo_woman</th>\n",
              "      <th>profitable</th>\n",
              "      <th>prev_rank</th>\n",
              "      <th>CEO</th>\n",
              "      <th>Website</th>\n",
              "      <th>Ticker</th>\n",
              "      <th>Market Cap</th>\n",
              "    </tr>\n",
              "    <tr>\n",
              "      <th>company</th>\n",
              "      <th></th>\n",
              "      <th></th>\n",
              "      <th></th>\n",
              "      <th></th>\n",
              "      <th></th>\n",
              "      <th></th>\n",
              "      <th></th>\n",
              "      <th></th>\n",
              "      <th></th>\n",
              "      <th></th>\n",
              "      <th></th>\n",
              "      <th></th>\n",
              "      <th></th>\n",
              "      <th></th>\n",
              "      <th></th>\n",
              "      <th></th>\n",
              "      <th></th>\n",
              "    </tr>\n",
              "  </thead>\n",
              "  <tbody>\n",
              "    <tr>\n",
              "      <th>Walmart</th>\n",
              "      <td>1</td>\n",
              "      <td>0.0</td>\n",
              "      <td>523964.0</td>\n",
              "      <td>14881.0</td>\n",
              "      <td>2200000</td>\n",
              "      <td>Retailing</td>\n",
              "      <td>Bentonville</td>\n",
              "      <td>AR</td>\n",
              "      <td>no</td>\n",
              "      <td>no</td>\n",
              "      <td>no</td>\n",
              "      <td>yes</td>\n",
              "      <td>1.0</td>\n",
              "      <td>C. Douglas McMillon</td>\n",
              "      <td>https://www.stock.walmart.com</td>\n",
              "      <td>WMT</td>\n",
              "      <td>411690</td>\n",
              "    </tr>\n",
              "    <tr>\n",
              "      <th>Amazon</th>\n",
              "      <td>2</td>\n",
              "      <td>3.0</td>\n",
              "      <td>280522.0</td>\n",
              "      <td>11588.0</td>\n",
              "      <td>798000</td>\n",
              "      <td>Retailing</td>\n",
              "      <td>Seattle</td>\n",
              "      <td>WA</td>\n",
              "      <td>no</td>\n",
              "      <td>yes</td>\n",
              "      <td>no</td>\n",
              "      <td>yes</td>\n",
              "      <td>5.0</td>\n",
              "      <td>Jeffrey P. Bezos</td>\n",
              "      <td>https://www.amazon.com</td>\n",
              "      <td>AMZN</td>\n",
              "      <td>1637405</td>\n",
              "    </tr>\n",
              "    <tr>\n",
              "      <th>Exxon Mobil</th>\n",
              "      <td>3</td>\n",
              "      <td>-1.0</td>\n",
              "      <td>264938.0</td>\n",
              "      <td>14340.0</td>\n",
              "      <td>74900</td>\n",
              "      <td>Energy</td>\n",
              "      <td>Irving</td>\n",
              "      <td>TX</td>\n",
              "      <td>no</td>\n",
              "      <td>no</td>\n",
              "      <td>no</td>\n",
              "      <td>yes</td>\n",
              "      <td>2.0</td>\n",
              "      <td>Darren W. Woods</td>\n",
              "      <td>https://www.exxonmobil.com</td>\n",
              "      <td>XOM</td>\n",
              "      <td>177923</td>\n",
              "    </tr>\n",
              "  </tbody>\n",
              "</table>\n",
              "</div>"
            ],
            "text/plain": [
              "             rank  rank_change  ...  Ticker  Market Cap\n",
              "company                         ...                    \n",
              "Walmart         1          0.0  ...     WMT      411690\n",
              "Amazon          2          3.0  ...    AMZN     1637405\n",
              "Exxon Mobil     3         -1.0  ...     XOM      177923\n",
              "\n",
              "[3 rows x 17 columns]"
            ]
          },
          "execution_count": 5,
          "metadata": {
            "tags": []
          },
          "output_type": "execute_result"
        }
      ],
      "source": [
        "f1000.head(3)"
      ]
    },
    {
      "cell_type": "markdown",
      "metadata": {
        "id": "8JifR8XFqMK8"
      },
      "source": [
        "### Select data using those labels\n",
        "\n",
        "Because the axes in pandas have labels, I can select data using those labels — unlike in NumPy, where I needed to know the exact index location. To do this, I can use the `DataFrame.loc[]` attribute. The syntax for `DataFrame.loc[]` is:\n",
        "\n",
        "`df.loc[row_label, column_label]`"
      ]
    },
    {
      "cell_type": "markdown",
      "metadata": {
        "id": "RnCkyLYOyh2f"
      },
      "source": [
        "#### Select Single Column"
      ]
    },
    {
      "cell_type": "code",
      "execution_count": null,
      "metadata": {
        "id": "9q7mB1M8q6Rb"
      },
      "outputs": [],
      "source": [
        "companies = f1000.loc[:,'company']\n",
        "print(companies)\n",
        "print(type(f1000))\n",
        "print(type(companies))"
      ]
    },
    {
      "cell_type": "markdown",
      "metadata": {
        "id": "kg4b5tHIuEgf"
      },
      "source": [
        "#### Series object"
      ]
    },
    {
      "cell_type": "code",
      "execution_count": null,
      "metadata": {
        "id": "b4uA2pLCuuwF"
      },
      "outputs": [],
      "source": [
        "#print(f1000['revenue'])\n",
        "print(f1000.loc[:,'revenue'])\n",
        "\n",
        "print(f1000.loc['Apple','revenue'])"
      ]
    },
    {
      "cell_type": "markdown",
      "metadata": {
        "id": "gOR0cK29w3pt"
      },
      "source": [
        "#### Select multiple columns\n",
        "* List of columns\n",
        "* Slice of columns"
      ]
    },
    {
      "cell_type": "code",
      "execution_count": null,
      "metadata": {
        "id": "hgYAmgO2vwSL"
      },
      "outputs": [],
      "source": [
        "#f1000.loc[:,['rank','revenue', 'sector']]\n",
        "f1000[['rank','revenue']]\n",
        "\n",
        "#f1000.loc[:,'rank':'sector']"
      ]
    },
    {
      "cell_type": "markdown",
      "metadata": {
        "id": "Gy0mffWj0qG2"
      },
      "source": [
        "#### Select rows by labels\n"
      ]
    },
    {
      "cell_type": "code",
      "execution_count": null,
      "metadata": {
        "id": "jO_KztIcxLEK"
      },
      "outputs": [],
      "source": [
        "#f1000.loc['Walmart']\n",
        "f1000.loc[['Amazon', 'Apple']]\n",
        "#f1000.loc['Amazon':'Apple']"
      ]
    },
    {
      "cell_type": "markdown",
      "metadata": {
        "id": "sjrvd78N2Awa"
      },
      "source": [
        "### Series.value_counts() method\n",
        "`Series.value_counts()` method. This method displays each unique non-null value in a column and their counts in order."
      ]
    },
    {
      "cell_type": "code",
      "execution_count": null,
      "metadata": {
        "id": "JCjP06kg06Zh"
      },
      "outputs": [],
      "source": [
        "sector_value_counts = f1000['sector'].value_counts(ascending=True)\n",
        "print(sector_value_counts)"
      ]
    },
    {
      "cell_type": "code",
      "execution_count": null,
      "metadata": {
        "id": "xcqfFwTx6f6H"
      },
      "outputs": [],
      "source": [
        "f1000['sector'].value_counts().loc['Technology']"
      ]
    },
    {
      "cell_type": "markdown",
      "metadata": {
        "id": "bdFCk3r82wKa"
      },
      "source": []
    },
    {
      "cell_type": "code",
      "execution_count": null,
      "metadata": {
        "id": "McphvMhz4aZC"
      },
      "outputs": [],
      "source": [
        "# find out the biggest increase and biggest decrease in rank\n",
        "#f1000['rank_change'].max()\n",
        "#f1000['rank_change'].min()\n",
        "f1000['rank_change'].describe()"
      ]
    },
    {
      "cell_type": "code",
      "execution_count": null,
      "metadata": {
        "colab": {
          "base_uri": "https://localhost:8080/"
        },
        "id": "fGHiPXHLihGr",
        "outputId": "b23c07c1-55ae-4471-90e7-d86b4adec3e3"
      },
      "outputs": [
        {
          "data": {
            "text/plain": [
              " 0.0     544\n",
              "-1.0      22\n",
              "-2.0      18\n",
              " 2.0      16\n",
              " 4.0      15\n",
              "        ... \n",
              " 59.0      1\n",
              " 91.0      1\n",
              "-30.0      1\n",
              " 28.0      1\n",
              " 98.0      1\n",
              "Name: rank_change, Length: 118, dtype: int64"
            ]
          },
          "execution_count": 6,
          "metadata": {
            "tags": []
          },
          "output_type": "execute_result"
        }
      ],
      "source": [
        "f1000['rank_change'].value_counts()"
      ]
    },
    {
      "cell_type": "markdown",
      "metadata": {
        "id": "0q9E5yo57_Q9"
      },
      "source": [
        "*Exercise*:\n",
        "\n",
        "List out the numbers of companies in the Fortune 1000 of the top 3 states"
      ]
    },
    {
      "cell_type": "code",
      "execution_count": null,
      "metadata": {
        "colab": {
          "base_uri": "https://localhost:8080/"
        },
        "id": "avX3qIfy6Sx4",
        "outputId": "838553c5-e3fc-42c7-d2e4-de17ebfbcaff"
      },
      "outputs": [
        {
          "name": "stdout",
          "output_type": "stream",
          "text": [
            "CA    121\n",
            "TX     95\n",
            "NY     89\n",
            "Name: state, dtype: int64\n"
          ]
        }
      ],
      "source": [
        "top_3_states = f1000['state'].value_counts().head(3)\n",
        "print(top_3_states)"
      ]
    },
    {
      "cell_type": "markdown",
      "metadata": {
        "id": "V6ylgJL--Vw_"
      },
      "source": [
        "*Exercise:*\n",
        "\n",
        "find the company that employs the most people in California in the dataset.\n",
        "\n",
        "I can use the `DataFrame.sort_values()` method to sort the rows on the employees column"
      ]
    },
    {
      "cell_type": "code",
      "execution_count": null,
      "metadata": {
        "colab": {
          "base_uri": "https://localhost:8080/",
          "height": 182
        },
        "id": "QfpVY5nk8nlv",
        "outputId": "7b0278db-8fb3-4750-8765-364e19b68246"
      },
      "outputs": [
        {
          "data": {
            "text/html": [
              "<div>\n",
              "<style scoped>\n",
              "    .dataframe tbody tr th:only-of-type {\n",
              "        vertical-align: middle;\n",
              "    }\n",
              "\n",
              "    .dataframe tbody tr th {\n",
              "        vertical-align: top;\n",
              "    }\n",
              "\n",
              "    .dataframe thead th {\n",
              "        text-align: right;\n",
              "    }\n",
              "</style>\n",
              "<table border=\"1\" class=\"dataframe\">\n",
              "  <thead>\n",
              "    <tr style=\"text-align: right;\">\n",
              "      <th></th>\n",
              "      <th>rank</th>\n",
              "      <th>rank_change</th>\n",
              "      <th>revenue</th>\n",
              "      <th>profit</th>\n",
              "      <th>num. of employees</th>\n",
              "      <th>sector</th>\n",
              "      <th>city</th>\n",
              "      <th>state</th>\n",
              "      <th>newcomer</th>\n",
              "      <th>ceo_founder</th>\n",
              "      <th>ceo_woman</th>\n",
              "      <th>profitable</th>\n",
              "      <th>prev_rank</th>\n",
              "      <th>CEO</th>\n",
              "      <th>Website</th>\n",
              "      <th>Ticker</th>\n",
              "      <th>Market Cap</th>\n",
              "    </tr>\n",
              "    <tr>\n",
              "      <th>company</th>\n",
              "      <th></th>\n",
              "      <th></th>\n",
              "      <th></th>\n",
              "      <th></th>\n",
              "      <th></th>\n",
              "      <th></th>\n",
              "      <th></th>\n",
              "      <th></th>\n",
              "      <th></th>\n",
              "      <th></th>\n",
              "      <th></th>\n",
              "      <th></th>\n",
              "      <th></th>\n",
              "      <th></th>\n",
              "      <th></th>\n",
              "      <th></th>\n",
              "      <th></th>\n",
              "    </tr>\n",
              "  </thead>\n",
              "  <tbody>\n",
              "    <tr>\n",
              "      <th>Wells Fargo</th>\n",
              "      <td>30</td>\n",
              "      <td>-1.0</td>\n",
              "      <td>103915.0</td>\n",
              "      <td>19549.0</td>\n",
              "      <td>259800</td>\n",
              "      <td>Financials</td>\n",
              "      <td>San Francisco</td>\n",
              "      <td>CA</td>\n",
              "      <td>no</td>\n",
              "      <td>no</td>\n",
              "      <td>no</td>\n",
              "      <td>yes</td>\n",
              "      <td>29.0</td>\n",
              "      <td>Charles W. Scharf</td>\n",
              "      <td>https://www.wellsfargo.com</td>\n",
              "      <td>WFC</td>\n",
              "      <td>99941</td>\n",
              "    </tr>\n",
              "  </tbody>\n",
              "</table>\n",
              "</div>"
            ],
            "text/plain": [
              "             rank  rank_change  ...  Ticker  Market Cap\n",
              "company                         ...                    \n",
              "Wells Fargo    30         -1.0  ...     WFC       99941\n",
              "\n",
              "[1 rows x 17 columns]"
            ]
          },
          "execution_count": 8,
          "metadata": {
            "tags": []
          },
          "output_type": "execute_result"
        }
      ],
      "source": [
        "f1000[f1000['state']=='CA'].sort_values('num. of employees',ascending=False).head(1)"
      ]
    },
    {
      "cell_type": "markdown",
      "metadata": {
        "id": "8Qw-8P76Pggl"
      },
      "source": [
        "*Exercise:*\n",
        "\n",
        "find the unique list of states in the dataset\n",
        "\n",
        "To identify the unique states, I can use the `Series.unique()` method. This method returns an array of unique values from any series. \n"
      ]
    },
    {
      "cell_type": "code",
      "execution_count": null,
      "metadata": {
        "colab": {
          "base_uri": "https://localhost:8080/"
        },
        "id": "cahbt41IPJpj",
        "outputId": "0838c978-e47f-40a3-e717-b6e8cd731a6d"
      },
      "outputs": [
        {
          "name": "stdout",
          "output_type": "stream",
          "text": [
            "['AR' 'WA' 'TX' 'CA' 'RI' 'NE' 'MN' 'PA' 'MI' 'CT' 'OH' 'NY' 'IL' 'DC'\n",
            " 'NC' 'GA' 'IN' 'MA' 'NJ' 'VA' 'MO' 'TN' 'KY' 'ID' 'MD' 'OR' 'FL' 'WI'\n",
            " 'CO' 'OK' 'LA' 'DE' 'AZ' 'IA' 'NV' 'KS' 'AL' 'SC' 'ND' 'NH' 'MS' 'PR'\n",
            " 'UT' 'HI' 'VT' 'ME']\n"
          ]
        }
      ],
      "source": [
        "states = f1000['state'].unique()\n",
        "print(states)"
      ]
    },
    {
      "cell_type": "markdown",
      "metadata": {
        "id": "XBy9FELsQRi-"
      },
      "source": [
        "***Practice:***\n",
        "\n",
        "I'm going to produce the following dictionary of the top employer in each state:\n",
        "\n",
        "1. create an empty dictionary, `top_employer_by_state` to store the results of the exercise.\n",
        "\n",
        "2. Use the `Series.unique()` method to create an array of unique values from the state column\n",
        "\n",
        "3. Use a for loop to iterate over the array unique states. In each iteration:\n",
        "* Select only the rows that have a state name equal to the current iteration.\n",
        "* Use `DataFrame.sort_values()` to sort those rows by the `num. of employees` column in descending order.\n",
        "* Select the first row from the sorted dataframe and convert the Dataframe into a series using `DataFrame.squeeze()`\n",
        "* Extract the company name from the index label company by `Series.name`.\n",
        "* Assign the results to the top_employer_by_state dictionary, using the state name as the key, and the company name as the value."
      ]
    },
    {
      "cell_type": "code",
      "execution_count": null,
      "metadata": {
        "id": "EeE8SEZzQNcv"
      },
      "outputs": [],
      "source": [
        "top_exmployer_by_state = {}\n",
        "states = f1000['state'].unique()\n",
        "\n",
        "for state in states:\n",
        "  selected_companies = f1000[f1000['state']==state]\n",
        "  top_exmployer_by_state[state] = selected_companies.sort_values('num. of employees', ascending=False).head(1).squeeze().name\n",
        "  "
      ]
    },
    {
      "cell_type": "code",
      "execution_count": null,
      "metadata": {
        "colab": {
          "base_uri": "https://localhost:8080/"
        },
        "id": "He-LbVZBYeEH",
        "outputId": "beae849b-4548-4c60-f2ef-3dd1790ac4d3"
      },
      "outputs": [
        {
          "name": "stdout",
          "output_type": "stream",
          "text": [
            "AR  :  Walmart\n",
            "WA  :  Amazon\n",
            "TX  :  Yum China Holdings\n",
            "CA  :  Wells Fargo\n",
            "RI  :  CVS Health\n",
            "NE  :  Berkshire Hathaway\n",
            "MN  :  Target\n",
            "PA  :  Aramark\n",
            "MI  :  Ford Motor\n",
            "CT  :  XPO Logistics\n",
            "OH  :  Kroger\n",
            "NY  :  IBM\n",
            "IL  :  Walgreens Boots Alliance\n",
            "DC  :  Danaher\n",
            "NC  :  Lowe&#8217;s\n",
            "GA  :  Home Depot\n",
            "IN  :  Anthem\n",
            "MA  :  TJX\n",
            "NJ  :  Cognizant Technology Solutions\n",
            "VA  :  Hilton Worldwide Holdings\n",
            "MO  :  Emerson Electric\n",
            "TN  :  FedEx\n",
            "KY  :  Humana\n",
            "ID  :  Albertsons\n",
            "MD  :  Marriott International\n",
            "OR  :  Nike\n",
            "FL  :  Publix Super Markets\n",
            "WI  :  Kohl&#8217;s\n",
            "CO  :  VF\n",
            "OK  :  Helmerich & Payne\n",
            "LA  :  Lumen Technologies\n",
            "DE  :  DuPont\n",
            "AZ  :  Republic Services\n",
            "IA  :  Casey&#8217;s General Stores\n",
            "NV  :  MGM Resorts International\n",
            "KS  :  Yellow\n",
            "AL  :  Encompass Health\n",
            "SC  :  Sonoco Products\n",
            "ND  :  MDU Resources Group\n",
            "NH  :  PC Connection\n",
            "MS  :  Sanderson Farms\n",
            "PR  :  Popular\n",
            "UT  :  Nu Skin Enterprises\n",
            "HI  :  Hawaiian Holdings\n",
            "VT  :  NLV Financial\n",
            "ME  :  IDEXX Laboratories\n"
          ]
        }
      ],
      "source": [
        "for key in top_exmployer_by_state:\n",
        "  print(key, ' : ', top_exmployer_by_state[key])"
      ]
    },
    {
      "cell_type": "markdown",
      "metadata": {
        "id": "HVmFaFJG8zzA"
      },
      "source": [
        "## Reference\n",
        "\n",
        "[pandas API reference](https://pandas.pydata.org/docs/reference/index.html)\n",
        "\n",
        "[pandas vs. NumPy](https://www.javatpoint.com/pandas-vs-numpy#:~:text=The%20Pandas%20module%20mainly%20works,works%20with%20the%20numerical%20data.&text=NumPy%20library%20provides%20objects%20for,memory%20as%20compared%20to%20Pandas.)"
      ]
    }
  ],
  "metadata": {
    "colab": {
      "name": "Class8_Pandas_2.ipynb",
      "provenance": []
    },
    "kernelspec": {
      "display_name": "Python 3.8.10 64-bit",
      "language": "python",
      "name": "python3"
    },
    "language_info": {
      "name": "python",
      "version": "3.8.10"
    },
    "vscode": {
      "interpreter": {
        "hash": "916dbcbb3f70747c44a77c7bcd40155683ae19c65e1c03b4aa3499c5328201f1"
      }
    }
  },
  "nbformat": 4,
  "nbformat_minor": 0
}
