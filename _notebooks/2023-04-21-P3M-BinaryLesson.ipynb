{
 "cells": [
  {
   "attachments": {},
   "cell_type": "markdown",
   "metadata": {},
   "source": [
    "# P3-M 4/21 Binary Overview\n",
    "> A series of binary lessons focusssed on math and conversions.\n",
    "- toc: true\n",
    "- badges: false\n",
    "- comments: true\n",
    "- author: Colin Mills, Aiden Huynh, Toby Leeder, Dash Penning, Ekam Kaire, Ishi Singh, Azeem Khan, Nathan Capule\n",
    "- categories: [student]\n",
    "- type: ap\n",
    "- week: 30"
   ]
  },
  {
   "attachments": {},
   "cell_type": "markdown",
   "metadata": {},
   "source": [
    "## How to contact us\n",
    "Join the \"coding\" channel on slack! That is the only place where we will be answering questions or sending announcements about lessons. If you have a question please contact us there.\n",
    "#### How to join\n",
    "* Click on \"add channels\" below the list of channels\n",
    "* Click on \"browse channels\"\n",
    "* Search for \"coding\"\n",
    "* Click the green \"Join\" button on the right\n",
    "\n",
    "## Learning Objectives\n",
    "![CollegeBoard Requirements for Binary](https://user-images.githubusercontent.com/111464932/229885445-65ef56d2-f3d4-43da-aa62-8683e8c0a08b.png)\n",
    "\n",
    "### DAT-1.A: Representing Data with Bits\n",
    "\n",
    "#### Basic Information\n",
    "* Bit is short for **binary** digit, and represents a value of either 0 or 1.\n",
    "    - A byte is 8 bits.\n",
    "* Sequences of bits are used to represent different things.\n",
    "    - Representing data with sequences of bits is called **Abstraction**.\n",
    "\n",
    "#### Practice Questions:\n",
    "1. How many bits are in 3 bytes?\n",
    "   1. There are 3*8=24 bits in 3 bytes\n",
    "2. What digital information can be represented by bits? \n",
    "   1. Any digital information that can be represented numerically can be represented by bits.\n",
    "3. Are bits an analog or digital form of storing data? What is the difference between the two?\n",
    "   1. bits are an digital form of string data, meaing that the data is stored with electrical impulses and signals rather than physical representations such as the position of a clock's hand\n",
    "\n",
    "#### Examples\n",
    "* Boolean variables (true or false) are the easiest way to visualize binary.\n",
    "    - 0 = False\n",
    "    - 1 = True\n"
   ]
  },
  {
   "cell_type": "code",
   "execution_count": 2,
   "metadata": {},
   "outputs": [
    {
     "name": "stdout",
     "output_type": "stream",
     "text": [
      "binary is cool\n",
      "binary is cool\n",
      "binary is awesome\n",
      "binary is awesome\n",
      "binary is cool\n",
      "binary is cool\n",
      "binary is awesome\n",
      "binary is awesome\n",
      "binary is awesome\n",
      "binary is cool\n"
     ]
    }
   ],
   "source": [
    "import random\n",
    "\n",
    "def example(runs):\n",
    "    # Repeat code for the amount of runs given\n",
    "    while runs > 0:\n",
    "        # Assigns variable boolean to either True or False based on random binary number 0 or 1.\n",
    "        boolean = False if random.randint(0, 1) == 0 else True \n",
    "\n",
    "        # If the number was 1 (True), it prints \"awesome.\"\n",
    "        if boolean:\n",
    "            print(\"binary is awesome\")\n",
    "            \n",
    "        # If the number was 2 (False), it prints \"cool.\"\n",
    "        else:\n",
    "            print(\"binary is cool\")\n",
    "            \n",
    "        runs -= 1\n",
    "     \n",
    "# Change the parameter to how many times to run the function.   \n",
    "example(10)"
   ]
  },
  {
   "attachments": {},
   "cell_type": "markdown",
   "metadata": {},
   "source": [
    "### DAT-1.B: The Consequences of Using Bits to Represent Data\n",
    "\n",
    "#### Basic Information\n",
    "* Integers are represented by a fixed number of bits, this limits the range of integer values. This limitation can result in **overflow** or other errors.\n",
    "* Other programming languages allow for abstraction only limited by the computers memory.\n",
    "* Fixed number of bits are used to represent real numbers/limits\n",
    "\n",
    "#### Practice Questions:\n",
    "1. What is the largest number can be represented by 5 bits?\n",
    "   1. The largest number that can be represented by 5 bits is 2^0+2^1+2^2+2^3+2^4 or 2^5 - 1 = 31\n",
    "2. One programing language can only use 16 bits to represent non-negative numbers, while a second language uses 56 bits to represent numbers. How many times as many unique numbers can be represented by the second language?\n",
    "   1. The second language can represent 2^56 unique numbers, while the first language can represent 2^16 numbers. Dividing the two values, we get that the second language can store 2^40 more unique integers than the first language\n",
    "3. 5 bits are used to represent both positive and negative numbers, what is the largest number that can be represented by these bits? (*hint: different thatn question 1*)\n",
    "   1. The first bit is used to represent if the number is positive or negative. So, 4 bits are used to represent the magnitude of the number, with the greatest magnitude being 2^4-1 = 15. So positive 15 is the answer. \n",
    "\n",
    "#### Examples"
   ]
  },
  {
   "cell_type": "code",
   "execution_count": 3,
   "metadata": {},
   "outputs": [
    {
     "ename": "OverflowError",
     "evalue": "math range error",
     "output_type": "error",
     "traceback": [
      "\u001b[1;31m---------------------------------------------------------------------------\u001b[0m",
      "\u001b[1;31mOverflowError\u001b[0m                             Traceback (most recent call last)",
      "\u001b[1;32mc:\\Alex\\vscode\\ylu-blog\\_notebooks\\2023-04-21-P3M-BinaryLesson.ipynb Cell 5\u001b[0m in \u001b[0;36m8\n\u001b[0;32m      <a href='vscode-notebook-cell:/c%3A/Alex/vscode/ylu-blog/_notebooks/2023-04-21-P3M-BinaryLesson.ipynb#W4sZmlsZQ%3D%3D?line=4'>5</a>\u001b[0m     \u001b[39mprint\u001b[39m(\u001b[39mstr\u001b[39m(base) \u001b[39m+\u001b[39m \u001b[39m\"\u001b[39m\u001b[39m^\u001b[39m\u001b[39m\"\u001b[39m \u001b[39m+\u001b[39m \u001b[39mstr\u001b[39m(power) \u001b[39m+\u001b[39m \u001b[39m\"\u001b[39m\u001b[39m = \u001b[39m\u001b[39m\"\u001b[39m \u001b[39m+\u001b[39m \u001b[39mstr\u001b[39m(math\u001b[39m.\u001b[39mpow(base, power)))\n\u001b[0;32m      <a href='vscode-notebook-cell:/c%3A/Alex/vscode/ylu-blog/_notebooks/2023-04-21-P3M-BinaryLesson.ipynb#W4sZmlsZQ%3D%3D?line=6'>7</a>\u001b[0m \u001b[39m# How can function become a problem? (Hint: what happens if you set both base and power equal to high numbers?)\u001b[39;00m\n\u001b[1;32m----> <a href='vscode-notebook-cell:/c%3A/Alex/vscode/ylu-blog/_notebooks/2023-04-21-P3M-BinaryLesson.ipynb#W4sZmlsZQ%3D%3D?line=7'>8</a>\u001b[0m exponent(\u001b[39m5\u001b[39;49m, \u001b[39m100000\u001b[39;49m)\n",
      "\u001b[1;32mc:\\Alex\\vscode\\ylu-blog\\_notebooks\\2023-04-21-P3M-BinaryLesson.ipynb Cell 5\u001b[0m in \u001b[0;36m5\n\u001b[0;32m      <a href='vscode-notebook-cell:/c%3A/Alex/vscode/ylu-blog/_notebooks/2023-04-21-P3M-BinaryLesson.ipynb#W4sZmlsZQ%3D%3D?line=2'>3</a>\u001b[0m \u001b[39mdef\u001b[39;00m \u001b[39mexponent\u001b[39m(base, power):\n\u001b[0;32m      <a href='vscode-notebook-cell:/c%3A/Alex/vscode/ylu-blog/_notebooks/2023-04-21-P3M-BinaryLesson.ipynb#W4sZmlsZQ%3D%3D?line=3'>4</a>\u001b[0m     \u001b[39m# Print the operation performed, turning the parameters into strings to properly concatenate with the symbols \"^\" and \"=\".\u001b[39;00m\n\u001b[1;32m----> <a href='vscode-notebook-cell:/c%3A/Alex/vscode/ylu-blog/_notebooks/2023-04-21-P3M-BinaryLesson.ipynb#W4sZmlsZQ%3D%3D?line=4'>5</a>\u001b[0m     \u001b[39mprint\u001b[39m(\u001b[39mstr\u001b[39m(base) \u001b[39m+\u001b[39m \u001b[39m\"\u001b[39m\u001b[39m^\u001b[39m\u001b[39m\"\u001b[39m \u001b[39m+\u001b[39m \u001b[39mstr\u001b[39m(power) \u001b[39m+\u001b[39m \u001b[39m\"\u001b[39m\u001b[39m = \u001b[39m\u001b[39m\"\u001b[39m \u001b[39m+\u001b[39m \u001b[39mstr\u001b[39m(math\u001b[39m.\u001b[39;49mpow(base, power)))\n",
      "\u001b[1;31mOverflowError\u001b[0m: math range error"
     ]
    }
   ],
   "source": [
    "import math\n",
    "\n",
    "def exponent(base, power):\n",
    "    # Print the operation performed, turning the parameters into strings to properly concatenate with the symbols \"^\" and \"=\".\n",
    "    print(str(base) + \"^\" + str(power) + \" = \" + str(math.pow(base, power)))\n",
    "\n",
    "# How can function become a problem? (Hint: what happens if you set both base and power equal to high numbers?)\n",
    "exponent(5, 100000)\n"
   ]
  },
  {
   "attachments": {},
   "cell_type": "markdown",
   "metadata": {},
   "source": [
    "### DAT-1.C: Binary Math\n",
    "\n",
    "#### Basic Information\n",
    "* Binary is Base 2, meaning each digit can only represent values of 0 and 1.\n",
    "* Decimal is Base 10, meaning eacht digit can represent values from 0 to 9.\n",
    "* Conversion between sequences of binary to decimal depend on how many binary numbers there are, their values and their positions.\n",
    "\n",
    "#### Practice Questions:\n",
    "1. What values can each digit of a Base 5 system represent?\n",
    "   1. Each digit of a base 5 system can represent another power of 5\n",
    "2. What base is Hexadecimal? What range of values can each digit of Hexadecimal represent?\n",
    "   1. Hexadecimal is the base 16 representation. each digit of hexadecimal represents a power of 16.\n",
    "3. When using a base above 10, letters can be used to represent numbers past 9. These letters start from A and continue onwards. For example, the decimal number 10 is represented by the letter A in Hexadecimal. What letter would be used to represent the Base 10 number 23 in a Base 30 system? What about in a Base 50 system?\n",
    "   1. 23 is represented by N, In a base 50 system, 23 is also represented by N.\n",
    "\n",
    "#### Examples\n",
    "* Using 6 bits, we can represent 64 numbers, from 0 to 63, as 2^6 = 64.\n",
    "* The numbers in a sequence of binary go from right to left, increasing by powers of two from 0 to the total amount of bits. The whole number represented is the sum of these bits. For example:\n",
    "    1. 111111\n",
    "    2. 2^5 + 2^4 + 2^3 + 2^2 + 2^1 + 2^0\n",
    "    3. 32 + 16 + 8 + 4 + 2 + 1\n",
    "    4. 63\n",
    "* **Fill in the blanks** (convert to decimal) \n",
    "    1. 001010 = **10**\n",
    "    2. 11100010 = **226**\n",
    "    3. 10 = **2**\n",
    "\n",
    "* **Fill in the blanks** (convert to binary) \n",
    "    1. 12 = 00001100\n",
    "    2. 35 = 00100011\n",
    "    3. 256 = 100000000"
   ]
  },
  {
   "attachments": {},
   "cell_type": "markdown",
   "metadata": {},
   "source": [
    "## Hacks & Grading (Due SUNDAY NIGHT 4/23)\n",
    "* Complete all of the popcorn hacks (Fill in the blanks + run code cells and interact + Answer ALL questions) [0.3 or nothing]\n",
    "* Create a program to conduct basic mathematical operations with binary sequences (addition, subtraction, multiplication, division) [0.6 or nothing]\n",
    "    - For bonus, program must be able to conduct mathematical operations on binary sequences of varying bits (for example: 101 + 1001 would return decimal 14.) [0.1 or nothing]"
   ]
  },
  {
   "cell_type": "code",
   "execution_count": 8,
   "metadata": {},
   "outputs": [
    {
     "name": "stdout",
     "output_type": "stream",
     "text": [
      "Two numbers are:\n",
      "11010110\n",
      "1010101\n",
      "Sum is:  100101011\n",
      "Difference is:  10000001\n",
      "Product is:  100011100001110\n",
      "Quotient is:  00000010\n"
     ]
    }
   ],
   "source": [
    "class BinaryCalculator():\n",
    "    def __init__(self):\n",
    "        self.a = input(\"What is your first binary number? \")\n",
    "        self.b = input(\"What is your second binary number? \")\n",
    "        self.a, self.b = max(self.a,self.b), min (self.a, self.b)\n",
    "        self.n = max(len(self.a), len(self.b))\n",
    "        self.converToInt()\n",
    "\n",
    "    def converToInt(self):\n",
    "        self.a_int = int(self.a, 2)\n",
    "        self.b_int = int(self.b, 2)\n",
    "\n",
    "    def binaryAddition(self):\n",
    "        \n",
    "        self.a, self.b = self.a.zfill(self.n), self.b.zfill(self.n)\n",
    "        \n",
    "        carry = 0\n",
    "        sum = []\n",
    "        for i in range(self.n - 1, -1, -1):\n",
    "            if self.a[i] == '1':\n",
    "                carry += 1\n",
    "            if self.b[i] == '1':\n",
    "                carry += 1\n",
    "                \n",
    "            if carry % 2 == 1:\n",
    "                sum.append('1')\n",
    "            else:\n",
    "                sum.append('0')\n",
    "            \n",
    "            carry //= 2\n",
    "        \n",
    "        if carry == 1:\n",
    "            sum.append('1')\n",
    "        sum.reverse()\n",
    "        \n",
    "        return ''.join(sum)\n",
    "    \n",
    "    def binaryDivision(self):\n",
    "        return bin(self.a_int//self.b_int)[2:].zfill(self.n)\n",
    "    \n",
    "    def binaryMultiplication(self):\n",
    "        return bin(self.a_int*self.b_int)[2:].zfill(self.n)\n",
    "\n",
    "    def binarySubtraction(self):\n",
    "        return bin(self.a_int-self.b_int)[2:].zfill(self.n)\n",
    "    \n",
    "\n",
    "binCalc = BinaryCalculator()\n",
    "print(\"Two numbers are:\")\n",
    "print(binCalc.a)\n",
    "print(binCalc.b)\n",
    "print(\"Sum is: \", binCalc.binaryAddition())\n",
    "print(\"Difference is: \", binCalc.binarySubtraction())\n",
    "print(\"Product is: \", binCalc.binaryMultiplication())\n",
    "print(\"Quotient is: \", binCalc.binaryDivision())\n",
    "\n",
    "        "
   ]
  }
 ],
 "metadata": {
  "kernelspec": {
   "display_name": "Python 3",
   "language": "python",
   "name": "python3"
  },
  "language_info": {
   "codemirror_mode": {
    "name": "ipython",
    "version": 3
   },
   "file_extension": ".py",
   "mimetype": "text/x-python",
   "name": "python",
   "nbconvert_exporter": "python",
   "pygments_lexer": "ipython3",
   "version": "3.9.7"
  },
  "orig_nbformat": 4
 },
 "nbformat": 4,
 "nbformat_minor": 2
}
