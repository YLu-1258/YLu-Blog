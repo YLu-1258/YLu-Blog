{
 "cells": [
  {
   "cell_type": "markdown",
   "metadata": {},
   "source": [
    "# Project Details\n",
    "> What is the idea behind our Project?\n",
    "- toc: true\n",
    "- title: Project Details\n",
    "- author: Alex Lu\n",
    "- badges: true\n",
    "- comments: true\n",
    "- categories: [jupyter,APCSP,week 5]\n",
    "- author: Alex Lu"
   ]
  }
 ],
 "metadata": {
  "kernelspec": {
   "display_name": "JavaScript (Node.js)",
   "language": "javascript",
   "name": "javascript"
  },
  "language_info": {
   "file_extension": ".js",
   "mimetype": "application/javascript",
   "name": "javascript",
   "version": "6.11.2"
  },
  "orig_nbformat": 4
 },
 "nbformat": 4,
 "nbformat_minor": 2
}
