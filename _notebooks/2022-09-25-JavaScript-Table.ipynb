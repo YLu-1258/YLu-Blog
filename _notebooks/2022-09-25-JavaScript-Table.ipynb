{
 "cells": [
  {
   "cell_type": "markdown",
   "metadata": {},
   "source": [
    "# Javascript Table Generator\n",
    "> How do we rapidly create table without wasting time on HTML?\n",
    "- toc: true\n",
    "- title: Javascript Table Generator.\n",
    "- author: Alex Lu\n",
    "- badges: true\n",
    "- comments: true\n",
    "- categories: [jupyter,APCSP,week 5]\n",
    "- author: Alex Lu"
   ]
  },
  {
   "cell_type": "markdown",
   "metadata": {},
   "source": [
    "{%- include js_submenu.html -%}"
   ]
  },
  {
   "cell_type": "markdown",
   "metadata": {},
   "source": [
    "Defining the Class Object and Classes array"
   ]
  },
  {
   "cell_type": "code",
   "execution_count": 14,
   "metadata": {},
   "outputs": [
    {
     "name": "stdout",
     "output_type": "stream",
     "text": [
      "[ Class {\n",
      "    name: 'AP Physics C: Mechanics',\n",
      "    period: '1',\n",
      "    timeStart: '8:35',\n",
      "    timeEnd: '9:44',\n",
      "    teacher: 'Mr. Liao',\n",
      "    grade: 'A' },\n",
      "  Class {\n",
      "    name: 'AP Calculus BC',\n",
      "    period: '2',\n",
      "    timeStart: '9:49',\n",
      "    timeEnd: '10:58',\n",
      "    teacher: 'Mrs. Lanzi',\n",
      "    grade: 'B+' },\n",
      "  Class {\n",
      "    name: 'US History',\n",
      "    period: '3',\n",
      "    timeStart: '11:13',\n",
      "    timeEnd: '12:22',\n",
      "    teacher: 'Mr. Smith',\n",
      "    grade: 'A+' },\n",
      "  Class {\n",
      "    name: 'AP Computer Science: Principles',\n",
      "    period: '4',\n",
      "    timeStart: '12:57',\n",
      "    timeEnd: '2:06',\n",
      "    teacher: 'Mr. Mort (the goat)',\n",
      "    grade: 'A+' },\n",
      "  Class {\n",
      "    name: 'AP Physics C: Mechanics',\n",
      "    period: '5',\n",
      "    timeStart: '2:36',\n",
      "    timeEnd: '3:45',\n",
      "    teacher: 'Mrs. Dafoe',\n",
      "    grade: 'A' } ]\n"
     ]
    }
   ],
   "source": [
    "function Class(name, period, timeStart, timeEnd, teacher) {\n",
    "    this.name = name;\n",
    "    this.period = period;\n",
    "    this.timeStart = timeStart;\n",
    "    this.timeEnd = timeEnd;\n",
    "    this.teacher = teacher;\n",
    "    this.grade = \"\";\n",
    "}\n",
    "\n",
    "Class.prototype.set_grade = function(grade) {\n",
    "    this.grade = grade\n",
    "}\n",
    "\n",
    "var Classes = [new Class(\"AP Physics C: Mechanics\", \"1\", \"8:35\", \"9:44\", \"Mr. Liao\"), \n",
    "new Class(\"AP Calculus BC\", \"2\", \"9:49\", \"10:58\", \"Mrs. Lanzi\"), \n",
    "new Class(\"US History\", \"3\", \"11:13\", \"12:22\", \"Mr. Smith\"), \n",
    "new Class(\"AP Computer Science: Principles\", \"4\", \"12:57\", \"2:06\", \"Mr. Mort (the goat)\"), \n",
    "new Class(\"AP Physics C: Mechanics\", \"5\", \"2:36\", \"3:45\", \"Mrs. Dafoe\")];\n",
    "\n",
    "Classes[0].set_grade(\"A\")\n",
    "Classes[1].set_grade(\"B+\")\n",
    "Classes[2].set_grade(\"A+\")\n",
    "Classes[3].set_grade(\"A+\")\n",
    "Classes[4].set_grade(\"A\")\n",
    "\n",
    "console.log(Classes)\n",
    "\n"
   ]
  },
  {
   "cell_type": "markdown",
   "metadata": {},
   "source": [
    "Constructing a table from the Classes Array"
   ]
  },
  {
   "cell_type": "code",
   "execution_count": 16,
   "metadata": {},
   "outputs": [
    {
     "data": {
      "text/html": [
       "<div style='background-color: rgb(8, 0, 124);border-color: rgb(220, 220, 220);color: rgb(220, 220, 220);'><table><tr><th><strong>Class</strong></th><th><strong>Period #</strong></th><th><strong>Starting Time</strong></th><th><strong>Ending Time</strong></th><th><strong>Teacher</strong></th><th><strong>Grade</strong></th></tr><tr><td>AP Physics C: Mechanics</td><td>1</td><td>8:35</td><td>9:44</td><td>Mr. Liao</td><td>A</td><tr><tr><td>AP Calculus BC</td><td>2</td><td>9:49</td><td>10:58</td><td>Mrs. Lanzi</td><td>B+</td><tr><tr><td>US History</td><td>3</td><td>11:13</td><td>12:22</td><td>Mr. Smith</td><td>A+</td><tr><tr><td>AP Computer Science: Principles</td><td>4</td><td>12:57</td><td>2:06</td><td>Mr. Mort (the goat)</td><td>A+</td><tr><tr><td>AP Physics C: Mechanics</td><td>5</td><td>2:36</td><td>3:45</td><td>Mrs. Dafoe</td><td>A</td><tr></table></div>"
      ]
     },
     "execution_count": 16,
     "metadata": {},
     "output_type": "execute_result"
    }
   ],
   "source": [
    "function toHtml (Classes) {\n",
    "    // HTML Style is build using inline structure\n",
    "    var style = (\n",
    "      \"background-color: rgb(8, 0, 124);\" +\n",
    "      \"border-color: rgb(220, 220, 220);\" +\n",
    "      \"color: rgb(220, 220, 220);\"\n",
    "    );\n",
    "  \n",
    "    // HTML Body of Table is build as a series of concatenations (+=)\n",
    "    var body = \"\";\n",
    "    // Heading for Array Columns\n",
    "    body += \"<tr>\";\n",
    "    body += \"<th><strong>\" + \"Class\" + \"</strong></th>\";\n",
    "    body += \"<th><strong>\" + \"Period #\" + \"</strong></th>\";\n",
    "    body += \"<th><strong>\" + \"Starting Time\" + \"</strong></th>\";\n",
    "    body += \"<th><strong>\" + \"Ending Time\" + \"</strong></th>\";\n",
    "    body += \"<th><strong>\" + \"Teacher\" + \"</strong></th>\";\n",
    "    body += \"<th><strong>\" + \"Grade\" + \"</strong></th>\";\n",
    "    body += \"</tr>\";\n",
    "    // Data of Array, iterate through each row of compsci.classroom \n",
    "    for (var row of Classes) {\n",
    "      // tr for each row, a new line\n",
    "      body += \"<tr>\";\n",
    "      // td for each column of data\n",
    "      body += \"<td>\" + row.name + \"</td>\";\n",
    "      body += \"<td>\" + row.period + \"</td>\";\n",
    "      body += \"<td>\" + row.timeStart + \"</td>\";\n",
    "      body += \"<td>\" + row.timeEnd + \"</td>\";\n",
    "      body += \"<td>\" + row.teacher + \"</td>\";\n",
    "      body += \"<td>\" + row.grade + \"</td>\";\n",
    "      // tr to end line\n",
    "      body += \"<tr>\";\n",
    "    }\n",
    "  \n",
    "     // Build and HTML fragment of div, table, table body\n",
    "    return (\n",
    "      \"<div style='\" + style + \"'>\" +\n",
    "        \"<table>\" +\n",
    "          body +\n",
    "        \"</table>\" +\n",
    "      \"</div>\"\n",
    "    );\n",
    "  \n",
    "  };\n",
    "  \n",
    "  // IJavaScript HTML processor receive parameter of defined HTML fragment\n",
    "  $$.html(toHtml(Classes));"
   ]
  }
 ],
 "metadata": {
  "kernelspec": {
   "display_name": "JavaScript (Node.js)",
   "language": "javascript",
   "name": "javascript"
  },
  "language_info": {
   "file_extension": ".js",
   "mimetype": "application/javascript",
   "name": "javascript",
   "version": "6.11.2"
  },
  "orig_nbformat": 4
 },
 "nbformat": 4,
 "nbformat_minor": 2
}
