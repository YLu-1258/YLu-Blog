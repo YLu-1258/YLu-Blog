{
 "cells": [
  {
   "cell_type": "markdown",
   "metadata": {},
   "source": [
    "# Installation Checks for Alex Lu\n",
    "> Starters for Bash installation\n",
    "\n",
    "- toc: true\n",
    "- comments: true\n",
    "- permalink: /bash_checks\n",
    "- categories: [jupyter]\n",
    "- author: Alex Lu"
   ]
  },
  {
   "cell_type": "markdown",
   "metadata": {},
   "source": [
    "## Defining color vars"
   ]
  },
  {
   "cell_type": "code",
   "execution_count": 2,
   "metadata": {
    "vscode": {
     "languageId": "shellscript"
    }
   },
   "outputs": [],
   "source": [
    "RED='\\033[0;31m'\n",
    "GREEN='\\033[0;32m'\n",
    "BLUE='\\033[0;34m'\n",
    "MAGENTA='\\033[0;35m'\n",
    "CYAN='\\033[0;36m'\n",
    "NC='\\033[0;0m'\n"
   ]
  },
  {
   "cell_type": "markdown",
   "metadata": {},
   "source": [
    "## Checking for python installation"
   ]
  },
  {
   "cell_type": "code",
   "execution_count": 25,
   "metadata": {
    "vscode": {
     "languageId": "shellscript"
    }
   },
   "outputs": [
    {
     "name": "stdout",
     "output_type": "stream",
     "text": [
      "\u001b[0;34mChecking python version\u001b[0;0m\n",
      "\u001b[0;32m    - Python version \u001b[0;35m3.9.12\u001b[0;32m has been installed! \u001b[0;0m\n"
     ]
    }
   ],
   "source": [
    "function CheckPythonInstall() {\n",
    "    echo -e \"${BLUE}Checking python version${NC}\"\n",
    "    if [[ $(python --version) ]]; then\n",
    "        pyversion=$(python --version | cut -d\" \" -f2)\n",
    "        echo -e \"${GREEN}    - Python version ${MAGENTA}$pyversion${GREEN} has been installed! ${NC}\"\n",
    "    else\n",
    "        echo -e \"${RED}    - Python not found ${NC}\"\n",
    "    fi\n",
    "}\n",
    "\n",
    "CheckPythonInstall\n",
    "#python --version\n",
    "#python3 --version"
   ]
  },
  {
   "cell_type": "markdown",
   "metadata": {},
   "source": [
    "## Checking for Java intsallation"
   ]
  },
  {
   "cell_type": "code",
   "execution_count": 24,
   "metadata": {
    "vscode": {
     "languageId": "shellscript"
    }
   },
   "outputs": [
    {
     "name": "stdout",
     "output_type": "stream",
     "text": [
      "\u001b[0;36mChecking java version\u001b[0;0m\n",
      "\u001b[0;32m    - Java version \u001b[0;35m11.0.16\u001b[0;32m has been installed! \u001b[0;0m\n",
      "\u001b[0;36mChecking java compiler version\u001b[0;0m\n",
      "\u001b[0;32m    - JavaC version \u001b[0;35m11.0.16\u001b[0;32m has been installed! \u001b[0;0m\n"
     ]
    }
   ],
   "source": [
    "function CheckJavaInstall() {\n",
    "    echo -e \"${CYAN}Checking java version${NC}\"\n",
    "    if [[ $(java --version) ]]; then\n",
    "        javaversion=$(java --version | head -n 1 | cut -d\" \" -f2)\n",
    "        echo -e \"${GREEN}    - Java version ${MAGENTA}$javaversion${GREEN} has been installed! ${NC}\"\n",
    "    else\n",
    "        echo -e \"${RED}    - Java not found ${NC}\"\n",
    "    fi\n",
    "}\n",
    "\n",
    "function CheckJavaCInstall() {\n",
    "    echo -e \"${CYAN}Checking java compiler version${NC}\"\n",
    "    if [[ $(javac --version) ]]; then\n",
    "        javacversion=$(javac --version | head -n 1 | cut -d\" \" -f2)\n",
    "        echo -e \"${GREEN}    - JavaC version ${MAGENTA}$javacversion${GREEN} has been installed! ${NC}\"\n",
    "    else\n",
    "        echo -e \"${RED}    - JavaC not found ${NC}\"\n",
    "    fi\n",
    "}\n",
    "\n",
    "CheckJavaInstall\n",
    "CheckJavaCInstall"
   ]
  },
  {
   "cell_type": "markdown",
   "metadata": {},
   "source": [
    "## Checking For Anaconda installation"
   ]
  },
  {
   "cell_type": "code",
   "execution_count": 23,
   "metadata": {
    "vscode": {
     "languageId": "shellscript"
    }
   },
   "outputs": [
    {
     "name": "stdout",
     "output_type": "stream",
     "text": [
      "\u001b[0;36mChecking jupyter version\u001b[0;0m\n",
      "\u001b[0;32m    - Anaconda version \u001b[0;35m4.13.0\u001b[0;32m has been installed! \u001b[0;0m\n"
     ]
    }
   ],
   "source": [
    "function CheckJupyterInstall() {\n",
    "    echo -e \"${CYAN}Checking anaconda version${NC}\"\n",
    "    if [[ $(conda --version) ]]; then\n",
    "        condaversion=$(conda --version | cut -d\" \" -f2)\n",
    "        echo -e \"${GREEN}    - Anaconda version ${MAGENTA}$condaversion${GREEN} has been installed! ${NC}\"\n",
    "    else\n",
    "        echo -e \"${RED}    - Anaconda not found ${NC}\"\n",
    "    fi\n",
    "}\n",
    "\n",
    "CheckJupyterInstall"
   ]
  },
  {
   "cell_type": "markdown",
   "metadata": {},
   "source": [
    "### Checking for Jupyter package installation"
   ]
  },
  {
   "cell_type": "code",
   "execution_count": 22,
   "metadata": {
    "vscode": {
     "languageId": "shellscript"
    }
   },
   "outputs": [
    {
     "name": "stdout",
     "output_type": "stream",
     "text": [
      "\u001b[0;36mChecking jupyter package version\u001b[0;0m\n",
      "\u001b[0;32m    - Conda pacakge \u001b[0;35mnodejs\u001b[0;32m version \u001b[0;35m6.11.2\u001b[0;32m has been installed! \u001b[0;0m\n"
     ]
    }
   ],
   "source": [
    "function CheckCondaPackageInstall() {\n",
    "    echo -e \"${CYAN}Checking jupyter package version${NC}\"\n",
    "    if [[ $(conda list | grep $1) ]]; then\n",
    "        packageversion=$(conda list | grep $1 | awk '{print $2}')\n",
    "        echo -e \"${GREEN}    - Conda pacakge ${MAGENTA}$1${GREEN} version ${MAGENTA}$packageversion${GREEN} has been installed! ${NC}\"\n",
    "    else\n",
    "        echo -e \"${RED}    - Conda package $1 not found ${NC}\"\n",
    "    fi\n",
    "}\n",
    "\n",
    "CheckCondaPackageInstall \"nodejs\""
   ]
  },
  {
   "cell_type": "markdown",
   "metadata": {},
   "source": [
    "### Checking installed Jupyter kernels"
   ]
  },
  {
   "cell_type": "code",
   "execution_count": 11,
   "metadata": {
    "vscode": {
     "languageId": "shellscript"
    }
   },
   "outputs": [
    {
     "name": "stdout",
     "output_type": "stream",
     "text": [
      "\u001b[0;36mChecking jupyter \u001b[0;35mbash\u001b[0;36m kernel installation\u001b[0;0m\n",
      "\u001b[0;32m    - Jupyter \u001b[0;35mbash\u001b[0;32m kernel has been found at \u001b[0;35m/home/eris29/.local/share/jupyter/kernels/bash\u001b[0;0m\n",
      "\u001b[0;36mChecking jupyter \u001b[0;35mjavascript\u001b[0;36m kernel installation\u001b[0;0m\n",
      "\u001b[0;32m    - Jupyter \u001b[0;35mjavascript\u001b[0;32m kernel has been found at \u001b[0;35m/home/eris29/.local/share/jupyter/kernels/javascript\u001b[0;0m\n",
      "\u001b[0;36mChecking jupyter \u001b[0;35mpython3\u001b[0;36m kernel installation\u001b[0;0m\n",
      "\u001b[0;32m    - Jupyter \u001b[0;35mpython3\u001b[0;32m kernel has been found at \u001b[0;35m/home/eris29/.local/share/jupyter/kernels/python3\u001b[0;0m\n"
     ]
    }
   ],
   "source": [
    "function CheckJupyterKernelInstall() {\n",
    "    echo -e \"${CYAN}Checking jupyter ${MAGENTA}$1${CYAN} kernel installation${NC}\"\n",
    "    if [[ $(jupyter kernelspec list | grep $1) ]]; then\n",
    "        kernelpath=$(jupyter kernelspec list | grep $1 | awk '{print $2}')\n",
    "        echo -e \"${GREEN}    - Jupyter ${MAGENTA}$1${GREEN} kernel has been found at ${MAGENTA}$kernelpath${NC}\"\n",
    "    else\n",
    "        echo -e \"${RED}    - Jupyter ${MAGENTA}$1${GREEN} kernel not found ${NC}\"\n",
    "    fi\n",
    "}\n",
    "\n",
    "kernels=\"bash javascript python3\"\n",
    "for i in $kernels; do\n",
    "    CheckJupyterKernelInstall $i\n",
    "done"
   ]
  }
 ],
 "metadata": {
  "kernelspec": {
   "display_name": "Bash",
   "language": "bash",
   "name": "bash"
  },
  "language_info": {
   "codemirror_mode": "shell",
   "file_extension": ".sh",
   "mimetype": "text/x-sh",
   "name": "bash"
  },
  "orig_nbformat": 4,
  "vscode": {
   "interpreter": {
    "hash": "96cbded16c16ae1771eb4bfc18fbcbd2bbebeb73de8f009e284c327921861123"
   }
  }
 },
 "nbformat": 4,
 "nbformat_minor": 2
}
