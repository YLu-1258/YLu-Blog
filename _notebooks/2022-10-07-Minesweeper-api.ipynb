{
 "cells": [
  {
   "cell_type": "markdown",
   "metadata": {},
   "source": [
    "# API Usage\n",
    "> What is an API and how can we study data with it?\n",
    "- toc: true\n",
    "- title: API Usage\n",
    "- author: Alex Lu\n",
    "- badges: true\n",
    "- comments: true\n",
    "- categories: [jupyter,APCSP,week 7]\n",
    "- author: Alex Lu"
   ]
  },
  {
   "cell_type": "markdown",
   "metadata": {},
   "source": [
    "{%- include js_submenu.html -%}"
   ]
  },
  {
   "cell_type": "markdown",
   "metadata": {},
   "source": [
    "## What is an API?  \n",
    "An API (Application Programming Interface) is used as a intermediary bridge between two software applications that stardizes protocol and conventions. In simple words an API could help us to send and receive data. "
   ]
  },
  {
   "cell_type": "code",
   "execution_count": 26,
   "metadata": {},
   "outputs": [
    {
     "name": "stdout",
     "output_type": "stream",
     "text": [
      "1 1 2 M M 1 1 M M 2\n",
      "3 M 3 2 2 1 1 3 M 2\n",
      "M M 3 0 0 1 1 3 2 2\n",
      "M M 2 0 0 1 M 3 M 3\n",
      "3 4 3 1 0 1 2 5 M M\n",
      "2 M M 3 1 0 1 M M 3\n",
      "2 M M M 1 0 1 2 2 1\n",
      "1 2 3 3 2 1 0 0 1 1\n",
      "0 0 0 2 M 2 1 1 2 M\n",
      "0 0 0 2 M 2 1 M 2 1\n"
     ]
    }
   ],
   "source": [
    "import requests\n",
    "\n",
    "# Set number of rows to 10\n",
    "r=10\n",
    "# Set number of columns to 10\n",
    "c=10\n",
    "# Set number of mines to r*c/4\n",
    "b = (r*c)//4\n",
    "url = \"https://minesweeper1.p.rapidapi.com/boards/new\"\n",
    "\n",
    "querystring = {\"r\":r,\"c\":c,\"bombs\":b}\n",
    "\n",
    "headers = {\n",
    "\t\"X-RapidAPI-Key\": \"9443d1725fmsha0cfacd48534f3cp1802cfjsn326b60d92795\",\n",
    "\t\"X-RapidAPI-Host\": \"minesweeper1.p.rapidapi.com\"\n",
    "}\n",
    "\n",
    "response = requests.request(\"GET\", url, headers=headers, params=querystring)\n",
    "board = response.json().get(\"board\")\n",
    "for row in board:\n",
    "\ttemp = [\"M\" if k == \"-1\" else k for k in [str(i) for i in row]]\n",
    "\tprint(\" \".join(temp))\n",
    "#print(board)"
   ]
  },
  {
   "cell_type": "code",
   "execution_count": null,
   "metadata": {},
   "outputs": [],
   "source": [
    "import requests\n",
    "\n",
    "url = \"https://stock-and-options-trading-data-provider.p.rapidapi.com/options/aapl\"\n",
    "\n",
    "headers = {\n",
    "\t\"X-RapidAPI-Proxy-Secret\": \"a755b180-f5a9-11e9-9f69-7bf51e845926\",\n",
    "\t\"X-RapidAPI-Key\": \"9443d1725fmsha0cfacd48534f3cp1802cfjsn326b60d92795\",\n",
    "\t\"X-RapidAPI-Host\": \"stock-and-options-trading-data-provider.p.rapidapi.com\"\n",
    "}\n",
    "\n",
    "response = requests.request(\"GET\", url, headers=headers)\n",
    "json = response.json()\n",
    "print(response.text)"
   ]
  },
  {
   "cell_type": "code",
   "execution_count": null,
   "metadata": {},
   "outputs": [],
   "source": [
    "print(json[\"stock\"])"
   ]
  },
  {
   "cell_type": "code",
   "execution_count": 21,
   "metadata": {},
   "outputs": [
    {
     "name": "stdout",
     "output_type": "stream",
     "text": [
      "Company Name:  Apple Inc.\n",
      "Stock Ticker:  AAPL\n",
      "Market Cap: 2266627309568$\n",
      "Current Price: 141.0401$\n",
      "Revenue Per Share: 23.732$\n"
     ]
    }
   ],
   "source": [
    "def print_stock(json):\n",
    "    print(\"Company Name: \", json[\"stock\"][\"longName\"])\n",
    "    print(\"Stock Ticker: \", json[\"stock\"][\"symbol\"])\n",
    "    print(\"Market Cap: {0}$\".format(json[\"stock\"][\"marketCap\"]))\n",
    "    print(\"Current Price: {0}$\".format(json[\"stock\"][\"currentPrice\"]))\n",
    "    print(\"Revenue Per Share: {0}$\".format(json[\"stock\"][\"revenuePerShare\"]))\n",
    "\n",
    "print_stock(json)"
   ]
  }
 ],
 "metadata": {
  "kernelspec": {
   "display_name": "Python 3.8.10 64-bit",
   "language": "python",
   "name": "python3"
  },
  "language_info": {
   "codemirror_mode": {
    "name": "ipython",
    "version": 3
   },
   "file_extension": ".py",
   "mimetype": "text/x-python",
   "name": "python",
   "nbconvert_exporter": "python",
   "pygments_lexer": "ipython3",
   "version": "3.8.10"
  },
  "orig_nbformat": 4,
  "vscode": {
   "interpreter": {
    "hash": "916dbcbb3f70747c44a77c7bcd40155683ae19c65e1c03b4aa3499c5328201f1"
   }
  }
 },
 "nbformat": 4,
 "nbformat_minor": 2
}
