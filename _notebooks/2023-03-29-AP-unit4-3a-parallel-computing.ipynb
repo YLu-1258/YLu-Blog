{
 "cells": [
  {
   "attachments": {},
   "cell_type": "markdown",
   "metadata": {},
   "source": [
    "#  Unit 4.3a Parallel Computing\n",
    "> Observe an algorithm using parallel computing in Python Code.  Monitor processes on the host.\n",
    "- toc: true"
   ]
  },
  {
   "attachments": {},
   "cell_type": "markdown",
   "metadata": {},
   "source": [
    "## Analyzing Parallel Computing\n",
    "> Once again we will use image lab, this time to review Parallel Computing.\n",
    "- Change baseWidth in this line in code to increase computation requirements: ```def process_image(image, baseWidth=512):```  For instance 320, 512, 1024, 2048, 4096.\n",
    "- Compare Sequential and Parallel computing code and time to achieve outputs"
   ]
  },
  {
   "cell_type": "code",
   "execution_count": 3,
   "metadata": {},
   "outputs": [],
   "source": [
    "from IPython.display import HTML, display\n",
    "from pathlib import Path  # https://medium.com/@ageitgey/python-3-quick-tip-the-easy-way-to-deal-with-file-paths-on-windows-mac-and-linux-11a072b58d5f\n",
    "from PIL import Image as pilImage # as PIL Image is used to avoid conflicts\n",
    "from io import BytesIO\n",
    "import base64\n",
    "import numpy as np\n",
    "\n",
    "\n",
    "# prepares a series of images\n",
    "def image_data(path=Path(\"images/\"), images=None):  # path of static images is defaulted\n",
    "    if images is None:  # default image\n",
    "        images = [\n",
    "            {'source': \"Internet\", 'label': \"Green Square\", 'file': \"green-square-16.png\"},\n",
    "            {'source': \"Peter Carolin\", 'label': \"Clouds Impression\", 'file': \"clouds-impression.png\"},\n",
    "            {'source': \"Peter Carolin\", 'label': \"Lassen Volcano\", 'file': \"lassen-volcano.jpg\"}\n",
    "        ]\n",
    "    for image in images:\n",
    "        # File to open\n",
    "        image['filename'] = path / image['file']  # file with path\n",
    "    return images\n",
    "\n",
    "# Scale to baseWidth\n",
    "def scale_image(img, baseWidth):\n",
    "    scalePercent = (baseWidth/float(img.size[0]))\n",
    "    scaleHeight = int((float(img.size[1])*float(scalePercent)))\n",
    "    scale = (baseWidth, scaleHeight)\n",
    "    return img.resize(scale)\n",
    "\n",
    "# PIL image converted to base64\n",
    "def image_to_base64(img, format):\n",
    "    with BytesIO() as buffer:\n",
    "        img.save(buffer, format)\n",
    "        return base64.b64encode(buffer.getvalue()).decode()\n",
    "    \n",
    "# Convert pixels to Grey Scale\n",
    "def grey_pixel(pixel):\n",
    "    average = (pixel[0] + pixel[1] + pixel[2]) // 3  # average pixel values and use // for integer division\n",
    "    if len(pixel) > 3:\n",
    "        return( (average, average, average, pixel[3]) ) # PNG format\n",
    "    else:\n",
    "        return( (average, average, average) )\n",
    "    \n",
    "# Convert pixels to Red Scale\n",
    "def red_pixel(pixel):\n",
    "    if len(pixel) > 3:\n",
    "        return( (pixel[0], 0, 0, pixel[3]) ) # PNG format\n",
    "    else:\n",
    "        return( (pixel[0], 0, 0) )\n",
    "    \n",
    "# Convert pixels to Red Scale\n",
    "def green_pixel(pixel):\n",
    "    if len(pixel) > 3:\n",
    "        return( (0, pixel[1], 0, pixel[3]) ) # PNG format\n",
    "    else:\n",
    "        return( (0, pixel[1], 0) )\n",
    "    \n",
    "# Convert pixels to Red Scale\n",
    "def blue_pixel(pixel):\n",
    "    if len(pixel) > 3:\n",
    "        return( (0, 0, pixel[2], pixel[3]) ) # PNG format\n",
    "    else:\n",
    "        return( (0, 0, pixel[2]) )\n",
    "        \n",
    "# Set Properties of Image, Scale, and convert to Base64\n",
    "def image_management(image, baseWidth):  # path of static images is defaulted        \n",
    "    # Image open return PIL image object\n",
    "    img = pilImage.open(image['filename'])\n",
    "    \n",
    "    # Python Image Library operations\n",
    "    image['format'] = img.format\n",
    "    image['mode'] = img.mode\n",
    "    image['size'] = img.size\n",
    "    # Scale the Image\n",
    "    img = scale_image(img, baseWidth)\n",
    "    image['pil'] = img\n",
    "    image['scaled_size'] = img.size\n",
    "    image['numpy'] = np.array(img.getdata())\n",
    "    # Scaled HTML\n",
    "    image['html'] = '<img src=\"data:image/png;base64,%s\">' % image_to_base64(image['pil'], image['format'])\n",
    "    \n",
    "    # Grey HTML\n",
    "    # each pixel in numpy array is turned to grey \n",
    "    # then resulting list, using List Comprehension, is put back into img    \n",
    "    img.putdata([grey_pixel(pixel) for pixel in image['numpy']])\n",
    "    image['html_grey'] =  '<img src=\"data:image/png;base64,%s\">' % image_to_base64(img, image['format'])\n",
    "    \n",
    "    # Red HTML\n",
    "    img.putdata([red_pixel(pixel) for pixel in image['numpy']])\n",
    "    image['html_red'] =  '<img src=\"data:image/png;base64,%s\">' % image_to_base64(img, image['format'])\n",
    "    \n",
    "    # Green HTML\n",
    "    img.putdata([green_pixel(pixel) for pixel in image['numpy']])\n",
    "    image['html_green'] =  '<img src=\"data:image/png;base64,%s\">' % image_to_base64(img, image['format'])\n",
    "    \n",
    "    # Blue HTML\n",
    "    img.putdata([blue_pixel(pixel) for pixel in image['numpy']])\n",
    "    image['html_blue'] =  '<img src=\"data:image/png;base64,%s\">' % image_to_base64(img, image['format'])\n",
    "    \n",
    "    \n",
    "def process_image(image, baseWidth=320):\n",
    "    image_management(image, baseWidth)\n",
    "    print(\"---- meta data -----\")\n",
    "    print(image['label'])\n",
    "    print(image['source'])\n",
    "    print(image['format'])\n",
    "    print(image['mode'])\n",
    "    print(\"Original size: \", image['size'])\n",
    "    print(\"Scaled size: \", image['scaled_size'])\n",
    "    \n",
    "    print(\"-- images --\")\n",
    "    display(HTML(image['html'])) \n",
    "    display(HTML(image['html_grey'])) \n",
    "    display(HTML(image['html_red'])) \n",
    "    display(HTML(image['html_green'])) \n",
    "    display(HTML(image['html_blue'])) \n"
   ]
  },
  {
   "attachments": {},
   "cell_type": "markdown",
   "metadata": {},
   "source": [
    "## Sequential Processing \n",
    "> The for loop iterates over the list of images and processes them one at a time, in order."
   ]
  },
  {
   "cell_type": "code",
   "execution_count": null,
   "metadata": {},
   "outputs": [],
   "source": [
    "# Jupyter Notebook Visualization of Images\n",
    "if __name__ == \"__main__\":\n",
    "    # setup default images\n",
    "    images = image_data()\n",
    "\n",
    "    # Sequential Processing    \n",
    "    for image in images:\n",
    "        process_image(image)\n",
    "        \n",
    "    print()"
   ]
  },
  {
   "attachments": {},
   "cell_type": "markdown",
   "metadata": {},
   "source": [
    "## Parallel Computing\n",
    "\n",
    " > In parallel or concurrent mode, the ThreadPoolExecutor is used to submit each image to a separate worker thread, allowing multiple images to be processed simultaneously. Multithreading allows multiple concurrent tasks of a process at the same time. The executor.map() method is used to apply the process_image function to each image in the images list.  \n",
    " - The order in which the images are processed is not guaranteed, as threads are performed simultaneously."
   ]
  },
  {
   "cell_type": "code",
   "execution_count": null,
   "metadata": {},
   "outputs": [],
   "source": [
    "import concurrent.futures\n",
    "\n",
    "# Jupyter Notebook Visualization of Images\n",
    "if __name__ == \"__main__\":\n",
    "    # setup default images\n",
    "    images = image_data()\n",
    "    \n",
    "    # Parallel Processsing\n",
    "    # executor allocates threads, it considers core execution capability of machine\n",
    "    with concurrent.futures.ThreadPoolExecutor() as executor:\n",
    "        executor.map(process_image, images)  # order is not predictable\n",
    "        \n",
    "    print()"
   ]
  },
  {
   "attachments": {},
   "cell_type": "markdown",
   "metadata": {},
   "source": [
    "## Observing Parallel Computing and Threads\n",
    "> You can observe Processes, CPU Percentage, and Threads with Tools on your machine. Common tools to monitor performance are Activity Monitor on MacOS or Task Manager on Windows.   \n",
    "\n",
    "- This example is using ```top``` launched in VSCode Terminal.\n",
    "    - PID is Process ID.  \n",
    "    - COMMAND is task running on machine.  Python is activated when running this Jupyter notebook.\n",
    "    - #TH is number of threads.   This increases from 15/1 to 18/1 on my machine when running python parallel computing example.\n"
   ]
  },
  {
   "attachments": {},
   "cell_type": "markdown",
   "metadata": {},
   "source": [
    "## Hacks\n",
    "> AP Classroom. Provide answers and thoughts on theoritical question form college board Video in section 4.3.  They start at about the 9 minute mark.\n",
    "- The minimum time to execute all 3 processes when 2 are run in parallel should be **50 seconds**\n",
    "  - Starting with the longest process, we see that process X would take 50 seconds to run. We would then first execute this process, while esecuting shorter processes on the second processor to reduce the overall running time. Since the two other processes Y and Z are 10 and 30 seconds respectfully, we see that it would take a total of 40 seconds for both processes to finish sequentially on the second processor, which is less time than it would take process X to finish on the first processor. Thus, becayse 50>40seconds, it would take a minimum of 50 seconds to execute all 3 processes.\n",
    "- The difference in execution time would be about 25 seconds.\n",
    "  - If we run the two processes sequentially on the same processor, it would take a total of 70 seconds to complete. However, if we were to run the two processes in parallel it would take the same amount of time as it would of the longest process, as the shortest process will finish concurrently while the longer processes is still running. Thus, if run in parallel we would have a total running time or 45 seconds. 70-45 = 25, so we know that the difference in running time is 25 seconds.\n",
    "\n",
    "> Data Structures.  Build a List Comprehension example\n",
    "- list = [calc(item) for item in items]"
   ]
  },
  {
   "attachments": {},
   "cell_type": "markdown",
   "metadata": {},
   "source": [
    "## List comprehension example\n",
    "For the example for list comprehension, I combined the topic of recursion and linear algebra to create a function that utilized the recurrent nature of the determinant of matrices. The list comprehension is used to find the minors of a given matrix with a certain row, and is repeated until we reach a minor of dimension 2, where we can then apply the traditional product formula."
   ]
  },
  {
   "cell_type": "code",
   "execution_count": 3,
   "metadata": {},
   "outputs": [
    {
     "name": "stdout",
     "output_type": "stream",
     "text": [
      "21\n"
     ]
    }
   ],
   "source": [
    "def find_determinant(arr):\n",
    "    n = len(arr)\n",
    "    if n == 2:\n",
    "        return arr[0][0]*arr[1][1]-arr[0][1]*arr[1][0]\n",
    "    \n",
    "    res = 0\n",
    "    positive = 1\n",
    "    for i in range(n):\n",
    "        multiplier = arr[i][0]\n",
    "        minor=[arr[j][1:] for j in range(len(arr)) if j!=i]    # This is our list comprehension, we select each row \n",
    "                                                               # that does not correspond the same index as i, and\n",
    "                                                               # exclude the first element to create the minor \n",
    "                                                               # of the matrix which should be a 2-D array\n",
    "        subdet = find_determinant(minor)\n",
    "        res+=positive*multiplier*subdet\n",
    "        positive = (-1)*positive\n",
    "    return res\n",
    "        \n",
    "# for the following matrix:\n",
    "# 0 3 7\n",
    "# 1 0 1\n",
    "# 7 0 0\n",
    "        \n",
    "print(find_determinant([[0,3,7],[1,0,1],[7,0,0]])) # should return 21"
   ]
  }
 ],
 "metadata": {
  "kernelspec": {
   "display_name": "Python 3",
   "language": "python",
   "name": "python3"
  },
  "language_info": {
   "codemirror_mode": {
    "name": "ipython",
    "version": 3
   },
   "file_extension": ".py",
   "mimetype": "text/x-python",
   "name": "python",
   "nbconvert_exporter": "python",
   "pygments_lexer": "ipython3",
   "version": "3.9.7"
  },
  "orig_nbformat": 4,
  "vscode": {
   "interpreter": {
    "hash": "330594166d1ecaf9a333b2ac8bb9343014bc2116518fd1d5493fb01f1783d544"
   }
  }
 },
 "nbformat": 4,
 "nbformat_minor": 2
}
