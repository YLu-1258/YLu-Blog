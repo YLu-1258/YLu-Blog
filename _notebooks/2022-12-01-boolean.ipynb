{
 "cells": [
  {
   "cell_type": "markdown",
   "metadata": {},
   "source": [
    "# Boolean expression\n",
    "- toc: true\n",
    "- comments: true\n"
   ]
  },
  {
   "cell_type": "markdown",
   "metadata": {},
   "source": []
  },
  {
   "cell_type": "markdown",
   "metadata": {},
   "source": [
    "## Introduction to the Lesson\n",
    "Booleans are like binary, having 2 possible values, but in Boolean, True is 1 and False is 0. By using boolean operators, a boolean value can be produced."
   ]
  },
  {
   "cell_type": "markdown",
   "metadata": {},
   "source": [
    "## Important Vocabulary\n",
    "* Boolean\n",
    "* Relational Operator\n",
    "* Logical Operator"
   ]
  },
  {
   "cell_type": "markdown",
   "metadata": {},
   "source": [
    "## Boolean Operators\n",
    "Boolean operators produces booleans after it is used between two values"
   ]
  },
  {
   "cell_type": "markdown",
   "metadata": {},
   "source": [
    "### Relational Operators\n",
    "Relational Operators can work between any two values of the same type known as operands, provided that the type supports such types of operators\n",
    "They consist of the operators ==, !=, >, <, >=, <=, each one working the same way that they work as one would expect, with == being the replacement for equal to, since = is reserved for value assignments.\n",
    "\n",
    "They also work on other types, such as string or list, and values at each index is compared in order to determine which one is greater\n",
    "for example: \"abg\"<\"acd\" returns True, since the computer first goes to a and a, after they are the same, they go to b and c, and since c is \"greater\" than b, \"acd\" is greater than \"abg\"  "
   ]
  },
  {
   "cell_type": "code",
   "execution_count": 2,
   "metadata": {},
   "outputs": [
    {
     "name": "stdout",
     "output_type": "stream",
     "text": [
      "True: True\n",
      "True: True\n",
      "False: False\n",
      "True: True\n",
      "False: False\n",
      "True: True\n",
      "\n",
      "True: True\n",
      "False False\n",
      "False: False\n",
      "True: True\n",
      "False: False\n",
      "True: True\n",
      "\n"
     ]
    }
   ],
   "source": [
    "# Insert a relational operator to print the wanted value (Using each expression once)\n",
    "print(\"True:\",4 >= 4)\n",
    "print(\"True:\",1 != 0)\n",
    "print(\"False:\",7 < 3)\n",
    "print(\"True:\",5 <= 6)\n",
    "print(\"False:\",7 > 8)\n",
    "print(\"True:\",3 == 3)\n",
    "print('')\n",
    "\n",
    "# Same as above, but now for other values other than int\n",
    "print('True:',\"as\" <= \"as\")\n",
    "print(\"False\",True == False)\n",
    "print(\"False:\",[2,3,1] > [2,3,1])\n",
    "print(\"True:\",'af' < 'bc')\n",
    "print(\"False:\",'ce' >= 'cf')\n",
    "print(\"True:\",[1,'b'] != [1,'a'])\n",
    "print('')\n"
   ]
  },
  {
   "cell_type": "markdown",
   "metadata": {},
   "source": [
    "### Logical Operators\n",
    "These are operators that works on operand(s) to produce a single boolean result. Examples include and, or, not.\n",
    "\n",
    "and returns true when both operands around it is true.\n",
    "\n",
    "or returns true when at least one of its operands is true.\n",
    "\n",
    "not returns true when the boolean after it is false.\n",
    "\n",
    "They work the same way in binary, returning a specific value after specific inputs that is shown in a Truth Table\n"
   ]
  },
  {
   "cell_type": "code",
   "execution_count": 4,
   "metadata": {},
   "outputs": [
    {
     "name": "stdout",
     "output_type": "stream",
     "text": [
      "True: True\n",
      "False: False\n",
      "True: True\n",
      "False: False\n",
      "False: False\n",
      "True: True\n"
     ]
    }
   ],
   "source": [
    "# Same as above, but use each of the three operators twice\n",
    "print(\"True:\", True or False)\n",
    "print(\"False:\",  not True)\n",
    "print(\"True:\", True or True)\n",
    "print(\"False:\",  not True)\n",
    "print(\"False:\", True and False)\n",
    "print(\"True:\",  not False)"
   ]
  },
  {
   "cell_type": "markdown",
   "metadata": {},
   "source": [
    "### Combination of Relational and Logical Operators and the Procedure of Operations\n",
    "Relational and Logical Operators can work by a set of precedece, a set of order that the computer understands the operations on.\n",
    "\n",
    "Relational Operators goes first, and then Logical operators work in order of not, and, or\n",
    "\n",
    "as usual, things in the parenthesis takes precedence over others"
   ]
  },
  {
   "cell_type": "code",
   "execution_count": 5,
   "metadata": {},
   "outputs": [
    {
     "name": "stdout",
     "output_type": "stream",
     "text": [
      "True\n"
     ]
    }
   ],
   "source": [
    "# Using each of the operators at most once, make the following statement print True\n",
    "print( 3 == 3 and 4 != 6 or 5 < 7 )"
   ]
  }
 ],
 "metadata": {
  "kernelspec": {
   "display_name": "Python 3.10.6 64-bit",
   "language": "python",
   "name": "python3"
  },
  "language_info": {
   "codemirror_mode": {
    "name": "ipython",
    "version": 3
   },
   "file_extension": ".py",
   "mimetype": "text/x-python",
   "name": "python",
   "nbconvert_exporter": "python",
   "pygments_lexer": "ipython3",
   "version": "3.10.6 (main, Nov  2 2022, 18:53:38) [GCC 11.3.0]"
  },
  "orig_nbformat": 4,
  "vscode": {
   "interpreter": {
    "hash": "916dbcbb3f70747c44a77c7bcd40155683ae19c65e1c03b4aa3499c5328201f1"
   }
  }
 },
 "nbformat": 4,
 "nbformat_minor": 2
}
