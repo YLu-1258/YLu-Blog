{
 "cells": [
  {
   "attachments": {},
   "cell_type": "markdown",
   "metadata": {},
   "source": [
    "# Unit 3.14 Libraries Lesson\n",
    "> Here is our lesson about libraries!\n",
    "\n",
    "- toc: true\n",
    "- comments: true\n",
    "- categories: [Week-13,Big-Idea-3]\n",
    "- image: /images/college-board-logo.png"
   ]
  },
  {
   "attachments": {},
   "cell_type": "markdown",
   "metadata": {},
   "source": [
    "Purpose: Help students streamline and make their coding experience easier through built in packages and methods from a library\n",
    "<br>Objective: By the end of the lesson, students should be able to fluently use methods from the turtle and math packages, and be able to look up documentation for any python package and us it."
   ]
  },
  {
   "attachments": {},
   "cell_type": "markdown",
   "metadata": {},
   "source": [
    "fill in the blanks!\n",
    "# Libraries\n",
    "Okay, so we've learned a lot of code, and all of you now can boast that you can code at least some basic programs in python. But, what about more advanced stuff? What if there's a more advanced program you don't know how to make? Do you need to make it yourself? Well, not always. \n",
    "\n",
    "You've already learned about **functions** that you can write to reuse in your code in previous lessons. But,there are many others who code in python just like you. So why would you do again what someone has already done, and is available for any python user? \n",
    "\n",
    "**Packages** allow a python user to import **methods** from a **library**, and use the methods in their code. Most libraries come with **documentation** on the different methods they entail and how to use them, and they can be found with a quick **google search** methods are used with the following: \n",
    "\n",
    "#### Note: a method from a package can only be used after the import statement. \n",
    "\n",
    "Some libraries are always installed, such as those with the **list** methods which we have previously discussed. But others require a special python keyword called **import**. We will learn different ways to **import** in Challenge 1.\n",
    "\n",
    "Sometimes we only need to import a single **method** from the package. We can do that with the word **from**, followed by the package name, then the word **import**, then the method. This will alllow you to use the method without mentioning the package's name, unlike what we did before, however other methods from that package cannot be used. To get the best of both worlds you can use __*__.\n",
    "\n",
    "To import a method as an easier name, just do what we did first, add the word **as**, and write the name you would like to use that package as.\n",
    "\n",
    "# Personal Notes\n",
    "A star (*) is also known as a wildcard character. It will automatically grab everything under a certain subset.\n",
    "\n",
    "# Challenge 1: Basic Libraries\n",
    "1. Find a python package on the internet and import it\n",
    "2. Choose a method from the package and import only the method\n",
    "3. import the package as a more convenient name."
   ]
  },
  {
   "cell_type": "code",
   "execution_count": 7,
   "metadata": {},
   "outputs": [
    {
     "name": "stdout",
     "output_type": "stream",
     "text": [
      "0.4999999999870395\n"
     ]
    }
   ],
   "source": [
    "from math import sin as sine\n",
    "pi = 3.1415926535\n",
    "print(sine(pi/6))"
   ]
  },
  {
   "attachments": {},
   "cell_type": "markdown",
   "metadata": {},
   "source": [
    "# Challenge 2: Turtle\n",
    "Turtle is a python **drawing** library which allows you to draw all kinds of different shapes. It's ofter used to teach beginning python learners, but is really cool to use anywhere. Turtle employs a **graphics package** to display what you've done, but unfortunately it's kind of annoying to make work with vscode.\n",
    "<br>\n",
    "Use: repl.it\n",
    "<br>\n",
    "Click \"+ Create\", and for language, select \"Python (with Turtle)\"\n",
    "<br>\n",
    "[Documentation](https://docs.python.org/3/library/turtle.html#turtle.pendown)<br>\n",
    "Task: Have fun with turtle! Create something that uses at least 2 lines of different lengths and 2 turns with different angles, and changes at least one setting about either the pen or canvas. Also use one command that isn't mentioned on the table below(there are a lot). Paste a screenshot of the code and the drawing from repl.it\n",
    "\n",
    "|Commands|\n",
    "|--------|\n",
    "|forward(pixels)|\n",
    "|right(degrees)|\n",
    "|left(degrees)|\n",
    "|setpos(x,y)|\n",
    "|speed(speed)|\n",
    "|pensize(size)|\n",
    "|pencolor(color)|\n",
    "Note: Color should be within quotes, like \"brown\", or \"red\"\n",
    "\n"
   ]
  },
  {
   "cell_type": "code",
   "execution_count": null,
   "metadata": {},
   "outputs": [],
   "source": [
    "from turtle import *\n",
    "oogway = Turtle()"
   ]
  },
  {
   "attachments": {},
   "cell_type": "markdown",
   "metadata": {},
   "source": [
    "# Challenge 3: Math\n",
    "The math package allows for some really cool mathematical methods!<br>\n",
    "\n",
    "|methods|Action|\n",
    "|-------|------|\n",
    "|ceil(x)|Rounds to the nearest integer greater than a number|\n",
    "|floor(x)|rounds to largest intefer less than or equal to x|\n",
    "|factorial(x)|Returns the factorial, or sequence of products of numbers before the input|\n",
    "|gcd(x)|returns the greatest common denominator of x and y|\n",
    "|lcm(x,y)|returns the least common denominator of x and y|\n",
    "\n",
    "##### Challenge: Create a program which asks for a user input of two numbers, and returns the following:\n",
    "- each number rounded up\n",
    "- each number rounded down\n",
    "- the lcm of the rounded down numbers\n",
    "- the gcf of the rounded up numbers\n",
    "- the factorial of each number\n",
    "- something else using the math package!<br>\n",
    "[Documentation](https://docs.python.org/3/library/math.html)"
   ]
  },
  {
   "cell_type": "code",
   "execution_count": 16,
   "metadata": {},
   "outputs": [
    {
     "name": "stdout",
     "output_type": "stream",
     "text": [
      "Ceiling of two numbers: 18 16\n",
      "Floor of two numbers: 17 15\n",
      "Least Common Multiple of two numbers: 255\n",
      "Greatest Common Divisor of two numbers: 2\n",
      "Factorial of two numbers: 355687428096000 1307674368000\n",
      "Sine of the sum two numbers: 0.8327594853077798\n"
     ]
    }
   ],
   "source": [
    "from math import *\n",
    "inpt = input(\"Enter your two decimal numbers: \").split(\" \")\n",
    "num1, num2 = float(inpt[0]), float(inpt[1])\n",
    "print(\"Ceiling of two numbers:\", ceil(num1), ceil(num2))\n",
    "print(\"Floor of two numbers:\", floor(num1), floor(num2))\n",
    "print(\"Least Common Multiple of two numbers:\", lcm(floor(num1),floor(num2)))\n",
    "print(\"Greatest Common Divisor of two numbers:\", gcd(ceil(num1),ceil(num2)))\n",
    "print(\"Factorial of two numbers:\", factorial(floor(num1)), factorial(floor(num2)))\n",
    "print(\"Sine of the sum two numbers:\", sin(num1 + num2))"
   ]
  },
  {
   "attachments": {},
   "cell_type": "markdown",
   "metadata": {},
   "source": [
    "# Homework: Putting it all together(complete only after the random values lesson)\n",
    "Option 1: Create a python program which generates a random number between 1 and 10, and use turtle to draw a regular polygon with that many sides. As a hint, remember that the total sum of all the angles in a polygon is (the number of sides - 2) * 180. Note: a regular polygon has all sides and angles the same size. Paste a screenshot of the code and the drawing from repl.it\n",
    "\n",
    "Option 2: use the \"datetime\" package, and looking up documentation, create a program to generate 2 random dates and find the number of days between\n",
    "\n",
    "\n",
    "Extra ideas: customize the settings, draw a picture, or something else!"
   ]
  }
 ],
 "metadata": {
  "kernelspec": {
   "display_name": "base",
   "language": "python",
   "name": "python3"
  },
  "language_info": {
   "codemirror_mode": {
    "name": "ipython",
    "version": 3
   },
   "file_extension": ".py",
   "mimetype": "text/x-python",
   "name": "python",
   "nbconvert_exporter": "python",
   "pygments_lexer": "ipython3",
   "version": "3.9.12 (main, Apr  5 2022, 06:56:58) \n[GCC 7.5.0]"
  },
  "orig_nbformat": 4,
  "vscode": {
   "interpreter": {
    "hash": "96cbded16c16ae1771eb4bfc18fbcbd2bbebeb73de8f009e284c327921861123"
   }
  }
 },
 "nbformat": 4,
 "nbformat_minor": 2
}
